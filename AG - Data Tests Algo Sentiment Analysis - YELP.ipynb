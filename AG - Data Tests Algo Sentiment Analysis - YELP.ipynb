{
 "cells": [
  {
   "cell_type": "code",
   "execution_count": 1,
   "metadata": {},
   "outputs": [],
   "source": [
    "import pandas as pd\n",
    "import matplotlib.pyplot as plt\n",
    "\n",
    "import re\n",
    "\n",
    "import nltk\n",
    "from nltk.tokenize import word_tokenize\n",
    "from nltk.corpus import stopwords\n",
    "from nltk.stem import PorterStemmer\n",
    "from nltk.stem.wordnet import WordNetLemmatizer\n",
    "from nltk.probability import FreqDist\n",
    "\n",
    "from data_preprocesser import preprocessed_data_path\n",
    "\n",
    "from wordcloud import WordCloud, STOPWORDS, ImageColorGenerator"
   ]
  },
  {
   "cell_type": "code",
   "execution_count": 2,
   "metadata": {},
   "outputs": [
    {
     "data": {
      "text/html": [
       "<div>\n",
       "<style scoped>\n",
       "    .dataframe tbody tr th:only-of-type {\n",
       "        vertical-align: middle;\n",
       "    }\n",
       "\n",
       "    .dataframe tbody tr th {\n",
       "        vertical-align: top;\n",
       "    }\n",
       "\n",
       "    .dataframe thead th {\n",
       "        text-align: right;\n",
       "    }\n",
       "</style>\n",
       "<table border=\"1\" class=\"dataframe\">\n",
       "  <thead>\n",
       "    <tr style=\"text-align: right;\">\n",
       "      <th></th>\n",
       "      <th>review_id</th>\n",
       "      <th>business_id</th>\n",
       "      <th>stars_x</th>\n",
       "      <th>stars_y</th>\n",
       "      <th>date</th>\n",
       "      <th>city</th>\n",
       "      <th>text</th>\n",
       "      <th>categories</th>\n",
       "    </tr>\n",
       "  </thead>\n",
       "  <tbody>\n",
       "    <tr>\n",
       "      <th>0</th>\n",
       "      <td>JN0tmjiksWfr4i2NIFuPXw</td>\n",
       "      <td>pLZ9oZM8c6MNbRlg06lBPg</td>\n",
       "      <td>1</td>\n",
       "      <td>3.0</td>\n",
       "      <td>2016-08-03</td>\n",
       "      <td>Las Vegas</td>\n",
       "      <td>THEY SELL WRECKED VEHICLES! \\nI purchased a 20...</td>\n",
       "      <td>Auto Repair;Car Dealers;Automotive;Auto Parts ...</td>\n",
       "    </tr>\n",
       "    <tr>\n",
       "      <th>1</th>\n",
       "      <td>lFmz61DNRzBPnrwH_cF42g</td>\n",
       "      <td>J0KZR0DDnvj73D-xmbh4uA</td>\n",
       "      <td>4</td>\n",
       "      <td>4.0</td>\n",
       "      <td>2017-06-15</td>\n",
       "      <td>Las Vegas</td>\n",
       "      <td>I stopped in here recently as I had to buy a t...</td>\n",
       "      <td>Auto Parts &amp; Supplies;Auto Repair;Automotive</td>\n",
       "    </tr>\n",
       "    <tr>\n",
       "      <th>2</th>\n",
       "      <td>R9p3ug8zNPvawYX_jsO0UA</td>\n",
       "      <td>Tknj3u-3CZTI-q52saTAIA</td>\n",
       "      <td>1</td>\n",
       "      <td>1.0</td>\n",
       "      <td>2012-09-12</td>\n",
       "      <td>Toronto</td>\n",
       "      <td>If you want the \"I don't give a shit \" attitud...</td>\n",
       "      <td>Car Dealers;Auto Repair;Automotive</td>\n",
       "    </tr>\n",
       "    <tr>\n",
       "      <th>3</th>\n",
       "      <td>FMXER_6R6URYBpV6TYPn9A</td>\n",
       "      <td>rV1nkTx58v_q7YGDkGzfxQ</td>\n",
       "      <td>5</td>\n",
       "      <td>5.0</td>\n",
       "      <td>2016-06-10</td>\n",
       "      <td>Las Vegas</td>\n",
       "      <td>where to start...\\na few months ago I slammed....</td>\n",
       "      <td>Auto Repair;Automotive</td>\n",
       "    </tr>\n",
       "    <tr>\n",
       "      <th>4</th>\n",
       "      <td>bJN2ZPa0jF4xgR1gPKZP3A</td>\n",
       "      <td>hCXknMQalY1QQZrdZGuBHg</td>\n",
       "      <td>3</td>\n",
       "      <td>3.5</td>\n",
       "      <td>2017-01-24</td>\n",
       "      <td>Las Vegas</td>\n",
       "      <td>I have mixed feelings here. I recently purchas...</td>\n",
       "      <td>Car Dealers;Auto Repair;Automotive</td>\n",
       "    </tr>\n",
       "  </tbody>\n",
       "</table>\n",
       "</div>"
      ],
      "text/plain": [
       "                review_id             business_id  stars_x  stars_y  \\\n",
       "0  JN0tmjiksWfr4i2NIFuPXw  pLZ9oZM8c6MNbRlg06lBPg        1      3.0   \n",
       "1  lFmz61DNRzBPnrwH_cF42g  J0KZR0DDnvj73D-xmbh4uA        4      4.0   \n",
       "2  R9p3ug8zNPvawYX_jsO0UA  Tknj3u-3CZTI-q52saTAIA        1      1.0   \n",
       "3  FMXER_6R6URYBpV6TYPn9A  rV1nkTx58v_q7YGDkGzfxQ        5      5.0   \n",
       "4  bJN2ZPa0jF4xgR1gPKZP3A  hCXknMQalY1QQZrdZGuBHg        3      3.5   \n",
       "\n",
       "         date       city                                               text  \\\n",
       "0  2016-08-03  Las Vegas  THEY SELL WRECKED VEHICLES! \\nI purchased a 20...   \n",
       "1  2017-06-15  Las Vegas  I stopped in here recently as I had to buy a t...   \n",
       "2  2012-09-12    Toronto  If you want the \"I don't give a shit \" attitud...   \n",
       "3  2016-06-10  Las Vegas  where to start...\\na few months ago I slammed....   \n",
       "4  2017-01-24  Las Vegas  I have mixed feelings here. I recently purchas...   \n",
       "\n",
       "                                          categories  \n",
       "0  Auto Repair;Car Dealers;Automotive;Auto Parts ...  \n",
       "1       Auto Parts & Supplies;Auto Repair;Automotive  \n",
       "2                 Car Dealers;Auto Repair;Automotive  \n",
       "3                             Auto Repair;Automotive  \n",
       "4                 Car Dealers;Auto Repair;Automotive  "
      ]
     },
     "execution_count": 2,
     "metadata": {},
     "output_type": "execute_result"
    }
   ],
   "source": [
    "df = pd.read_csv(preprocessed_data_path + 'categories_30000/yelp_academic_dataset_review_Auto Repair.csv')\n",
    "df.head()"
   ]
  },
  {
   "cell_type": "code",
   "execution_count": 3,
   "metadata": {},
   "outputs": [
    {
     "ename": "ModuleNotFoundError",
     "evalue": "No module named 'textblob'",
     "output_type": "error",
     "traceback": [
      "\u001b[0;31m---------------------------------------------------------------------------\u001b[0m",
      "\u001b[0;31mModuleNotFoundError\u001b[0m                       Traceback (most recent call last)",
      "\u001b[0;32m<ipython-input-3-beb514e823a4>\u001b[0m in \u001b[0;36m<module>\u001b[0;34m\u001b[0m\n\u001b[0;32m----> 1\u001b[0;31m \u001b[0;32mfrom\u001b[0m \u001b[0mtextblob\u001b[0m \u001b[0;32mimport\u001b[0m \u001b[0mTextBlob\u001b[0m\u001b[0;34m\u001b[0m\u001b[0;34m\u001b[0m\u001b[0m\n\u001b[0m",
      "\u001b[0;31mModuleNotFoundError\u001b[0m: No module named 'textblob'"
     ]
    }
   ],
   "source": [
    "from textblob import TextBlob"
   ]
  },
  {
   "cell_type": "code",
   "execution_count": null,
   "metadata": {},
   "outputs": [],
   "source": []
  }
 ],
 "metadata": {
  "kernelspec": {
   "display_name": "Python 3",
   "language": "python",
   "name": "python3"
  },
  "language_info": {
   "codemirror_mode": {
    "name": "ipython",
    "version": 3
   },
   "file_extension": ".py",
   "mimetype": "text/x-python",
   "name": "python",
   "nbconvert_exporter": "python",
   "pygments_lexer": "ipython3",
   "version": "3.6.9"
  }
 },
 "nbformat": 4,
 "nbformat_minor": 2
}
