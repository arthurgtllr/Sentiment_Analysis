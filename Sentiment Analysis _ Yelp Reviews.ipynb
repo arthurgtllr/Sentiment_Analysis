{
 "cells": [
  {
   "cell_type": "markdown",
   "metadata": {},
   "source": [
    "# Téléchargement des packages"
   ]
  },
  {
   "cell_type": "code",
   "execution_count": 10,
   "metadata": {},
   "outputs": [
    {
     "name": "stdout",
     "output_type": "stream",
     "text": [
      "Requirement already satisfied: textblob in /opt/anaconda3/lib/python3.7/site-packages (0.15.3)\n",
      "Requirement already satisfied: nltk>=3.1 in /opt/anaconda3/lib/python3.7/site-packages (from textblob) (3.4.5)\n",
      "Requirement already satisfied: six in /opt/anaconda3/lib/python3.7/site-packages (from nltk>=3.1->textblob) (1.13.0)\n",
      "\u001b[33mWARNING: You are using pip version 19.3.1; however, version 20.0.2 is available.\n",
      "You should consider upgrading via the 'pip install --upgrade pip' command.\u001b[0m\n",
      "Requirement already satisfied: sklearn in /opt/anaconda3/lib/python3.7/site-packages (0.0)\n",
      "Requirement already satisfied: scikit-learn in /opt/anaconda3/lib/python3.7/site-packages (from sklearn) (0.21.3)\n",
      "Requirement already satisfied: joblib>=0.11 in /opt/anaconda3/lib/python3.7/site-packages (from scikit-learn->sklearn) (0.13.2)\n",
      "Requirement already satisfied: numpy>=1.11.0 in /opt/anaconda3/lib/python3.7/site-packages (from scikit-learn->sklearn) (1.17.2)\n",
      "Requirement already satisfied: scipy>=0.17.0 in /opt/anaconda3/lib/python3.7/site-packages (from scikit-learn->sklearn) (1.4.1)\n",
      "\u001b[33mWARNING: You are using pip version 19.3.1; however, version 20.0.2 is available.\n",
      "You should consider upgrading via the 'pip install --upgrade pip' command.\u001b[0m\n"
     ]
    }
   ],
   "source": [
    "!pip install textblob\n",
    "!pip install sklearn"
   ]
  },
  {
   "cell_type": "code",
   "execution_count": 13,
   "metadata": {},
   "outputs": [],
   "source": [
    "# numeric module\n",
    "import pandas as pd\n",
    "import numpy as np\n",
    "import scipy as sp\n",
    "\n",
    "#machine learning module\n",
    "from sklearn.feature_extraction.text import CountVectorizer, TfidfVectorizer\n",
    "from sklearn.naive_bayes import MultinomialNB\n",
    "from sklearn.linear_model import LogisticRegression\n",
    "from sklearn import metrics\n",
    "\n",
    "# text processing module\n",
    "from textblob import TextBlob, Word\n",
    "from nltk.stem.porter import PorterStemmer\n",
    "\n",
    "#import heapq\n",
    "#from collections import Counter, OrderedDict\n",
    "\n",
    "# wordcloud visualization\n",
    "#from wordcloud import WordCloud\n",
    "\n",
    "# Visualization\n",
    "#import seaborn as sns\n",
    "#import matplotlib.pyplot as plt"
   ]
  },
  {
   "cell_type": "markdown",
   "metadata": {},
   "source": [
    "# Analyse rapide du dataset"
   ]
  },
  {
   "cell_type": "code",
   "execution_count": 14,
   "metadata": {},
   "outputs": [
    {
     "data": {
      "text/html": [
       "<div>\n",
       "<style scoped>\n",
       "    .dataframe tbody tr th:only-of-type {\n",
       "        vertical-align: middle;\n",
       "    }\n",
       "\n",
       "    .dataframe tbody tr th {\n",
       "        vertical-align: top;\n",
       "    }\n",
       "\n",
       "    .dataframe thead th {\n",
       "        text-align: right;\n",
       "    }\n",
       "</style>\n",
       "<table border=\"1\" class=\"dataframe\">\n",
       "  <thead>\n",
       "    <tr style=\"text-align: right;\">\n",
       "      <th></th>\n",
       "      <th>review_id</th>\n",
       "      <th>business_id</th>\n",
       "      <th>stars_x</th>\n",
       "      <th>stars_y</th>\n",
       "      <th>date</th>\n",
       "      <th>city</th>\n",
       "      <th>text</th>\n",
       "      <th>categories</th>\n",
       "    </tr>\n",
       "  </thead>\n",
       "  <tbody>\n",
       "    <tr>\n",
       "      <td>0</td>\n",
       "      <td>JN0tmjiksWfr4i2NIFuPXw</td>\n",
       "      <td>pLZ9oZM8c6MNbRlg06lBPg</td>\n",
       "      <td>1</td>\n",
       "      <td>3.0</td>\n",
       "      <td>2016-08-03</td>\n",
       "      <td>Las Vegas</td>\n",
       "      <td>THEY SELL WRECKED VEHICLES! \\nI purchased a 20...</td>\n",
       "      <td>Auto Repair;Car Dealers;Automotive;Auto Parts ...</td>\n",
       "    </tr>\n",
       "    <tr>\n",
       "      <td>1</td>\n",
       "      <td>lFmz61DNRzBPnrwH_cF42g</td>\n",
       "      <td>J0KZR0DDnvj73D-xmbh4uA</td>\n",
       "      <td>4</td>\n",
       "      <td>4.0</td>\n",
       "      <td>2017-06-15</td>\n",
       "      <td>Las Vegas</td>\n",
       "      <td>I stopped in here recently as I had to buy a t...</td>\n",
       "      <td>Auto Parts &amp; Supplies;Auto Repair;Automotive</td>\n",
       "    </tr>\n",
       "    <tr>\n",
       "      <td>2</td>\n",
       "      <td>R9p3ug8zNPvawYX_jsO0UA</td>\n",
       "      <td>Tknj3u-3CZTI-q52saTAIA</td>\n",
       "      <td>1</td>\n",
       "      <td>1.0</td>\n",
       "      <td>2012-09-12</td>\n",
       "      <td>Toronto</td>\n",
       "      <td>If you want the \"I don't give a shit \" attitud...</td>\n",
       "      <td>Car Dealers;Auto Repair;Automotive</td>\n",
       "    </tr>\n",
       "    <tr>\n",
       "      <td>3</td>\n",
       "      <td>FMXER_6R6URYBpV6TYPn9A</td>\n",
       "      <td>rV1nkTx58v_q7YGDkGzfxQ</td>\n",
       "      <td>5</td>\n",
       "      <td>5.0</td>\n",
       "      <td>2016-06-10</td>\n",
       "      <td>Las Vegas</td>\n",
       "      <td>where to start...\\na few months ago I slammed....</td>\n",
       "      <td>Auto Repair;Automotive</td>\n",
       "    </tr>\n",
       "    <tr>\n",
       "      <td>4</td>\n",
       "      <td>bJN2ZPa0jF4xgR1gPKZP3A</td>\n",
       "      <td>hCXknMQalY1QQZrdZGuBHg</td>\n",
       "      <td>3</td>\n",
       "      <td>3.5</td>\n",
       "      <td>2017-01-24</td>\n",
       "      <td>Las Vegas</td>\n",
       "      <td>I have mixed feelings here. I recently purchas...</td>\n",
       "      <td>Car Dealers;Auto Repair;Automotive</td>\n",
       "    </tr>\n",
       "  </tbody>\n",
       "</table>\n",
       "</div>"
      ],
      "text/plain": [
       "                review_id             business_id  stars_x  stars_y  \\\n",
       "0  JN0tmjiksWfr4i2NIFuPXw  pLZ9oZM8c6MNbRlg06lBPg        1      3.0   \n",
       "1  lFmz61DNRzBPnrwH_cF42g  J0KZR0DDnvj73D-xmbh4uA        4      4.0   \n",
       "2  R9p3ug8zNPvawYX_jsO0UA  Tknj3u-3CZTI-q52saTAIA        1      1.0   \n",
       "3  FMXER_6R6URYBpV6TYPn9A  rV1nkTx58v_q7YGDkGzfxQ        5      5.0   \n",
       "4  bJN2ZPa0jF4xgR1gPKZP3A  hCXknMQalY1QQZrdZGuBHg        3      3.5   \n",
       "\n",
       "         date       city                                               text  \\\n",
       "0  2016-08-03  Las Vegas  THEY SELL WRECKED VEHICLES! \\nI purchased a 20...   \n",
       "1  2017-06-15  Las Vegas  I stopped in here recently as I had to buy a t...   \n",
       "2  2012-09-12    Toronto  If you want the \"I don't give a shit \" attitud...   \n",
       "3  2016-06-10  Las Vegas  where to start...\\na few months ago I slammed....   \n",
       "4  2017-01-24  Las Vegas  I have mixed feelings here. I recently purchas...   \n",
       "\n",
       "                                          categories  \n",
       "0  Auto Repair;Car Dealers;Automotive;Auto Parts ...  \n",
       "1       Auto Parts & Supplies;Auto Repair;Automotive  \n",
       "2                 Car Dealers;Auto Repair;Automotive  \n",
       "3                             Auto Repair;Automotive  \n",
       "4                 Car Dealers;Auto Repair;Automotive  "
      ]
     },
     "execution_count": 14,
     "metadata": {},
     "output_type": "execute_result"
    }
   ],
   "source": [
    "df = pd.read_csv(\"yelp_academic_dataset_review_Auto Repair.csv\")\n",
    "df.head()"
   ]
  },
  {
   "cell_type": "code",
   "execution_count": 17,
   "metadata": {},
   "outputs": [],
   "source": [
    "df = df[(df['stars_x'] == 5) | (df['stars_x'] == 1)]\n",
    "#only keep rated 1 and rated 5"
   ]
  },
  {
   "cell_type": "code",
   "execution_count": 18,
   "metadata": {
    "scrolled": true
   },
   "outputs": [
    {
     "data": {
      "text/html": [
       "<div>\n",
       "<style scoped>\n",
       "    .dataframe tbody tr th:only-of-type {\n",
       "        vertical-align: middle;\n",
       "    }\n",
       "\n",
       "    .dataframe tbody tr th {\n",
       "        vertical-align: top;\n",
       "    }\n",
       "\n",
       "    .dataframe thead th {\n",
       "        text-align: right;\n",
       "    }\n",
       "</style>\n",
       "<table border=\"1\" class=\"dataframe\">\n",
       "  <thead>\n",
       "    <tr style=\"text-align: right;\">\n",
       "      <th></th>\n",
       "      <th>review_id</th>\n",
       "      <th>business_id</th>\n",
       "      <th>stars_x</th>\n",
       "      <th>stars_y</th>\n",
       "      <th>date</th>\n",
       "      <th>city</th>\n",
       "      <th>text</th>\n",
       "      <th>categories</th>\n",
       "    </tr>\n",
       "  </thead>\n",
       "  <tbody>\n",
       "    <tr>\n",
       "      <td>3</td>\n",
       "      <td>FMXER_6R6URYBpV6TYPn9A</td>\n",
       "      <td>rV1nkTx58v_q7YGDkGzfxQ</td>\n",
       "      <td>5</td>\n",
       "      <td>5.0</td>\n",
       "      <td>2016-06-10</td>\n",
       "      <td>Las Vegas</td>\n",
       "      <td>where to start...\\na few months ago I slammed....</td>\n",
       "      <td>Auto Repair;Automotive</td>\n",
       "    </tr>\n",
       "    <tr>\n",
       "      <td>7</td>\n",
       "      <td>7Je9L6bqTSBd4Ah9M3rvDw</td>\n",
       "      <td>C2VIYAElOUer5rBZH71c_A</td>\n",
       "      <td>5</td>\n",
       "      <td>4.5</td>\n",
       "      <td>2012-10-06</td>\n",
       "      <td>Phoenix</td>\n",
       "      <td>What a difference a new location with more spa...</td>\n",
       "      <td>Education;Auto Repair;Specialty Schools;Automo...</td>\n",
       "    </tr>\n",
       "    <tr>\n",
       "      <td>10</td>\n",
       "      <td>9QUixlmZlA_v1JSqBeZ2Uw</td>\n",
       "      <td>FV3v0F5yAsAZ6PVXFsVjeA</td>\n",
       "      <td>5</td>\n",
       "      <td>4.0</td>\n",
       "      <td>2016-11-09</td>\n",
       "      <td>Henderson</td>\n",
       "      <td>I am so glad I found this shop.  I put off tak...</td>\n",
       "      <td>Body Shops;Auto Repair;Automotive</td>\n",
       "    </tr>\n",
       "  </tbody>\n",
       "</table>\n",
       "</div>"
      ],
      "text/plain": [
       "                 review_id             business_id  stars_x  stars_y  \\\n",
       "3   FMXER_6R6URYBpV6TYPn9A  rV1nkTx58v_q7YGDkGzfxQ        5      5.0   \n",
       "7   7Je9L6bqTSBd4Ah9M3rvDw  C2VIYAElOUer5rBZH71c_A        5      4.5   \n",
       "10  9QUixlmZlA_v1JSqBeZ2Uw  FV3v0F5yAsAZ6PVXFsVjeA        5      4.0   \n",
       "\n",
       "          date       city                                               text  \\\n",
       "3   2016-06-10  Las Vegas  where to start...\\na few months ago I slammed....   \n",
       "7   2012-10-06    Phoenix  What a difference a new location with more spa...   \n",
       "10  2016-11-09  Henderson  I am so glad I found this shop.  I put off tak...   \n",
       "\n",
       "                                           categories  \n",
       "3                              Auto Repair;Automotive  \n",
       "7   Education;Auto Repair;Specialty Schools;Automo...  \n",
       "10                  Body Shops;Auto Repair;Automotive  "
      ]
     },
     "execution_count": 18,
     "metadata": {},
     "output_type": "execute_result"
    }
   ],
   "source": [
    "df[df['stars_x'] == 5].head(3)"
   ]
  },
  {
   "cell_type": "code",
   "execution_count": 19,
   "metadata": {},
   "outputs": [
    {
     "data": {
      "text/html": [
       "<div>\n",
       "<style scoped>\n",
       "    .dataframe tbody tr th:only-of-type {\n",
       "        vertical-align: middle;\n",
       "    }\n",
       "\n",
       "    .dataframe tbody tr th {\n",
       "        vertical-align: top;\n",
       "    }\n",
       "\n",
       "    .dataframe thead th {\n",
       "        text-align: right;\n",
       "    }\n",
       "</style>\n",
       "<table border=\"1\" class=\"dataframe\">\n",
       "  <thead>\n",
       "    <tr style=\"text-align: right;\">\n",
       "      <th></th>\n",
       "      <th>review_id</th>\n",
       "      <th>business_id</th>\n",
       "      <th>stars_x</th>\n",
       "      <th>stars_y</th>\n",
       "      <th>date</th>\n",
       "      <th>city</th>\n",
       "      <th>text</th>\n",
       "      <th>categories</th>\n",
       "    </tr>\n",
       "  </thead>\n",
       "  <tbody>\n",
       "    <tr>\n",
       "      <td>0</td>\n",
       "      <td>JN0tmjiksWfr4i2NIFuPXw</td>\n",
       "      <td>pLZ9oZM8c6MNbRlg06lBPg</td>\n",
       "      <td>1</td>\n",
       "      <td>3.0</td>\n",
       "      <td>2016-08-03</td>\n",
       "      <td>Las Vegas</td>\n",
       "      <td>THEY SELL WRECKED VEHICLES! \\nI purchased a 20...</td>\n",
       "      <td>Auto Repair;Car Dealers;Automotive;Auto Parts ...</td>\n",
       "    </tr>\n",
       "    <tr>\n",
       "      <td>2</td>\n",
       "      <td>R9p3ug8zNPvawYX_jsO0UA</td>\n",
       "      <td>Tknj3u-3CZTI-q52saTAIA</td>\n",
       "      <td>1</td>\n",
       "      <td>1.0</td>\n",
       "      <td>2012-09-12</td>\n",
       "      <td>Toronto</td>\n",
       "      <td>If you want the \"I don't give a shit \" attitud...</td>\n",
       "      <td>Car Dealers;Auto Repair;Automotive</td>\n",
       "    </tr>\n",
       "    <tr>\n",
       "      <td>5</td>\n",
       "      <td>oLRl6PegGyjh7JA-8fUVzQ</td>\n",
       "      <td>btoBhgcY7vtvQ2M0itdTBQ</td>\n",
       "      <td>1</td>\n",
       "      <td>5.0</td>\n",
       "      <td>2016-06-10</td>\n",
       "      <td>Las Vegas</td>\n",
       "      <td>where to start...\\na few months ago I slammed....</td>\n",
       "      <td>Auto Repair;Oil Change Stations;Automotive;Whe...</td>\n",
       "    </tr>\n",
       "  </tbody>\n",
       "</table>\n",
       "</div>"
      ],
      "text/plain": [
       "                review_id             business_id  stars_x  stars_y  \\\n",
       "0  JN0tmjiksWfr4i2NIFuPXw  pLZ9oZM8c6MNbRlg06lBPg        1      3.0   \n",
       "2  R9p3ug8zNPvawYX_jsO0UA  Tknj3u-3CZTI-q52saTAIA        1      1.0   \n",
       "5  oLRl6PegGyjh7JA-8fUVzQ  btoBhgcY7vtvQ2M0itdTBQ        1      5.0   \n",
       "\n",
       "         date       city                                               text  \\\n",
       "0  2016-08-03  Las Vegas  THEY SELL WRECKED VEHICLES! \\nI purchased a 20...   \n",
       "2  2012-09-12    Toronto  If you want the \"I don't give a shit \" attitud...   \n",
       "5  2016-06-10  Las Vegas  where to start...\\na few months ago I slammed....   \n",
       "\n",
       "                                          categories  \n",
       "0  Auto Repair;Car Dealers;Automotive;Auto Parts ...  \n",
       "2                 Car Dealers;Auto Repair;Automotive  \n",
       "5  Auto Repair;Oil Change Stations;Automotive;Whe...  "
      ]
     },
     "execution_count": 19,
     "metadata": {},
     "output_type": "execute_result"
    }
   ],
   "source": [
    "df[df['stars_x'] == 1].head(3)"
   ]
  },
  {
   "cell_type": "code",
   "execution_count": 20,
   "metadata": {},
   "outputs": [
    {
     "data": {
      "text/plain": [
       "5    18166\n",
       "1     8066\n",
       "Name: stars_x, dtype: int64"
      ]
     },
     "execution_count": 20,
     "metadata": {},
     "output_type": "execute_result"
    }
   ],
   "source": [
    "df['stars_x'].value_counts()\n",
    "#Nombre de reviews très positives et très négatives"
   ]
  },
  {
   "cell_type": "code",
   "execution_count": 21,
   "metadata": {},
   "outputs": [],
   "source": [
    "ratio = float(len(df[df['stars_x'] == 5])) / (len(df[df['stars_x'] == 5]) + \n",
    "                                                                        len(df[df['stars_x'] == 1]))"
   ]
  },
  {
   "cell_type": "code",
   "execution_count": 22,
   "metadata": {},
   "outputs": [
    {
     "name": "stdout",
     "output_type": "stream",
     "text": [
      "Null Accuracy: 0.692513\n"
     ]
    }
   ],
   "source": [
    "print(\"Null Accuracy: %0.6f\" % (ratio))"
   ]
  },
  {
   "cell_type": "markdown",
   "metadata": {},
   "source": [
    "# Sentiment Analysis avec TextBlob"
   ]
  },
  {
   "cell_type": "code",
   "execution_count": 24,
   "metadata": {
    "scrolled": true
   },
   "outputs": [
    {
     "name": "stdout",
     "output_type": "stream",
     "text": [
      "THEY SELL WRECKED VEHICLES! \n",
      "I purchased a 2010 Nissan Altima with 41,000 miles on it in 2013 from Planet Nissan. They charged me $18,000 and provided me with no warranty, except for manufacturer powertrain. Immediately after purchasing the vehicle I began having to make out of pocket repairs to the suspension, brakes and exhaust system every 6 to 9 months with absolutely no clue as to why after all the repairs the car still drove somewhat unsteady at high speeds. \n",
      "    Two years after I bought the car I was finally sick of the constant problems and decided to trade it in with another dealership, during the trade in process I found out that Planet Nissan had sold the vehicle to me knowing that it was involved in a \"major\" car accident which caused frame damage six months prior to them selling it to me.\n",
      "Unfortunately there's not much I can do now, but I would advise any savvy consumer to avoid this dealership by all means possible and go someplace that is a bit more reputable!\n"
     ]
    }
   ],
   "source": [
    "# print the first yelp review\n",
    "print (df.text[0])"
   ]
  },
  {
   "cell_type": "code",
   "execution_count": 27,
   "metadata": {},
   "outputs": [
    {
     "data": {
      "text/plain": [
       "1"
      ]
     },
     "execution_count": 27,
     "metadata": {},
     "output_type": "execute_result"
    }
   ],
   "source": [
    "df.stars_x[0]"
   ]
  },
  {
   "cell_type": "code",
   "execution_count": 30,
   "metadata": {},
   "outputs": [],
   "source": [
    "# polarity goes from -1 (most negative) to 1 (most positive)\n",
    "review = TextBlob(df.text[0])"
   ]
  },
  {
   "cell_type": "code",
   "execution_count": 42,
   "metadata": {},
   "outputs": [
    {
     "data": {
      "text/plain": [
       "-0.006071428571428586"
      ]
     },
     "execution_count": 42,
     "metadata": {},
     "output_type": "execute_result"
    }
   ],
   "source": [
    "review.sentiment.polarity"
   ]
  },
  {
   "cell_type": "code",
   "execution_count": 32,
   "metadata": {},
   "outputs": [
    {
     "data": {
      "text/plain": [
       "0.6027705627705628"
      ]
     },
     "execution_count": 32,
     "metadata": {},
     "output_type": "execute_result"
    }
   ],
   "source": [
    "review.sentiment.subjectivity"
   ]
  },
  {
   "cell_type": "markdown",
   "metadata": {},
   "source": [
    "## Calculer le sentiment de chaque review avec Textblob"
   ]
  },
  {
   "cell_type": "code",
   "execution_count": 39,
   "metadata": {},
   "outputs": [
    {
     "data": {
      "text/plain": [
       "26232"
      ]
     },
     "execution_count": 39,
     "metadata": {},
     "output_type": "execute_result"
    }
   ],
   "source": [
    "len(df)"
   ]
  },
  {
   "cell_type": "code",
   "execution_count": 52,
   "metadata": {},
   "outputs": [],
   "source": [
    "# create a new DataFrame column for sentiment\n",
    "df['texblob_sentiment_score'] = df.text.apply(lambda x : TextBlob(x).sentiment.polarity)"
   ]
  },
  {
   "cell_type": "code",
   "execution_count": 55,
   "metadata": {},
   "outputs": [
    {
     "data": {
      "text/html": [
       "<div>\n",
       "<style scoped>\n",
       "    .dataframe tbody tr th:only-of-type {\n",
       "        vertical-align: middle;\n",
       "    }\n",
       "\n",
       "    .dataframe tbody tr th {\n",
       "        vertical-align: top;\n",
       "    }\n",
       "\n",
       "    .dataframe thead th {\n",
       "        text-align: right;\n",
       "    }\n",
       "</style>\n",
       "<table border=\"1\" class=\"dataframe\">\n",
       "  <thead>\n",
       "    <tr style=\"text-align: right;\">\n",
       "      <th></th>\n",
       "      <th>review_id</th>\n",
       "      <th>business_id</th>\n",
       "      <th>stars_x</th>\n",
       "      <th>stars_y</th>\n",
       "      <th>date</th>\n",
       "      <th>city</th>\n",
       "      <th>text</th>\n",
       "      <th>categories</th>\n",
       "      <th>texblob_sentiment_score</th>\n",
       "    </tr>\n",
       "  </thead>\n",
       "  <tbody>\n",
       "    <tr>\n",
       "      <td>0</td>\n",
       "      <td>JN0tmjiksWfr4i2NIFuPXw</td>\n",
       "      <td>pLZ9oZM8c6MNbRlg06lBPg</td>\n",
       "      <td>1</td>\n",
       "      <td>3.0</td>\n",
       "      <td>2016-08-03</td>\n",
       "      <td>Las Vegas</td>\n",
       "      <td>THEY SELL WRECKED VEHICLES! \\nI purchased a 20...</td>\n",
       "      <td>Auto Repair;Car Dealers;Automotive;Auto Parts ...</td>\n",
       "      <td>-0.006071</td>\n",
       "    </tr>\n",
       "    <tr>\n",
       "      <td>2</td>\n",
       "      <td>R9p3ug8zNPvawYX_jsO0UA</td>\n",
       "      <td>Tknj3u-3CZTI-q52saTAIA</td>\n",
       "      <td>1</td>\n",
       "      <td>1.0</td>\n",
       "      <td>2012-09-12</td>\n",
       "      <td>Toronto</td>\n",
       "      <td>If you want the \"I don't give a shit \" attitud...</td>\n",
       "      <td>Car Dealers;Auto Repair;Automotive</td>\n",
       "      <td>-0.237500</td>\n",
       "    </tr>\n",
       "    <tr>\n",
       "      <td>5</td>\n",
       "      <td>oLRl6PegGyjh7JA-8fUVzQ</td>\n",
       "      <td>btoBhgcY7vtvQ2M0itdTBQ</td>\n",
       "      <td>1</td>\n",
       "      <td>5.0</td>\n",
       "      <td>2016-06-10</td>\n",
       "      <td>Las Vegas</td>\n",
       "      <td>where to start...\\na few months ago I slammed....</td>\n",
       "      <td>Auto Repair;Oil Change Stations;Automotive;Whe...</td>\n",
       "      <td>0.025052</td>\n",
       "    </tr>\n",
       "    <tr>\n",
       "      <td>6</td>\n",
       "      <td>cIeF6K2kjNNkJ2pMKrGztA</td>\n",
       "      <td>Gxu3_yzEAXKtkBB0YpnvlQ</td>\n",
       "      <td>1</td>\n",
       "      <td>1.5</td>\n",
       "      <td>2009-07-19</td>\n",
       "      <td>Peoria</td>\n",
       "      <td>Last weekend I decided to go on a hunt to see ...</td>\n",
       "      <td>Car Dealers;Automotive;Auto Repair</td>\n",
       "      <td>0.133164</td>\n",
       "    </tr>\n",
       "    <tr>\n",
       "      <td>13</td>\n",
       "      <td>1ZgiihHVMx1mFDDBn9HEwQ</td>\n",
       "      <td>JyANaAVhdRkl1ABMvbgNUw</td>\n",
       "      <td>1</td>\n",
       "      <td>1.0</td>\n",
       "      <td>2015-04-04</td>\n",
       "      <td>Las Vegas</td>\n",
       "      <td>I have gone here 3 times with my 3 different c...</td>\n",
       "      <td>Auto Repair;Automotive</td>\n",
       "      <td>0.200000</td>\n",
       "    </tr>\n",
       "    <tr>\n",
       "      <td>25</td>\n",
       "      <td>L6G91b3rVGPkcBITzAXB3w</td>\n",
       "      <td>_fACaVWH0WHC1yTu9vWJpQ</td>\n",
       "      <td>1</td>\n",
       "      <td>3.0</td>\n",
       "      <td>2013-06-15</td>\n",
       "      <td>Las Vegas</td>\n",
       "      <td>I had my car repaired there a year ago. I had ...</td>\n",
       "      <td>Auto Glass Services;Automotive;Body Shops;Auto...</td>\n",
       "      <td>-0.120000</td>\n",
       "    </tr>\n",
       "    <tr>\n",
       "      <td>37</td>\n",
       "      <td>4IkfGEhDvxPpmVdBWR7gwg</td>\n",
       "      <td>pDcU-HEnNr631YpwxAqYsQ</td>\n",
       "      <td>1</td>\n",
       "      <td>3.0</td>\n",
       "      <td>2012-10-12</td>\n",
       "      <td>Mesa</td>\n",
       "      <td>If only no stars were an option....\\nNot only ...</td>\n",
       "      <td>Auto Repair;Automotive;Auto Parts &amp; Supplies;C...</td>\n",
       "      <td>-0.121131</td>\n",
       "    </tr>\n",
       "    <tr>\n",
       "      <td>45</td>\n",
       "      <td>TCQuJYiQ-JNmcusBhV5t3Q</td>\n",
       "      <td>n5Bu0WBhCiQ5umCE5EzSjg</td>\n",
       "      <td>1</td>\n",
       "      <td>3.0</td>\n",
       "      <td>2017-10-28</td>\n",
       "      <td>Peoria</td>\n",
       "      <td>I came ready to buy a car but not a single per...</td>\n",
       "      <td>Car Dealers;Auto Repair;Used Car Dealers;Auto ...</td>\n",
       "      <td>-0.192143</td>\n",
       "    </tr>\n",
       "    <tr>\n",
       "      <td>47</td>\n",
       "      <td>-qmv0_kfTyj503zsZJUyww</td>\n",
       "      <td>h5tsd-0qKzaRB6w7LIx-3Q</td>\n",
       "      <td>1</td>\n",
       "      <td>1.5</td>\n",
       "      <td>2017-02-21</td>\n",
       "      <td>Phoenix</td>\n",
       "      <td>I was in the market for a new 2017 Nissan Sent...</td>\n",
       "      <td>Automotive;Auto Repair;Car Dealers</td>\n",
       "      <td>0.326144</td>\n",
       "    </tr>\n",
       "    <tr>\n",
       "      <td>59</td>\n",
       "      <td>2R0__embngOiugPH2DGIFA</td>\n",
       "      <td>h7l3xt_CAaFMD63ZgdXXWw</td>\n",
       "      <td>1</td>\n",
       "      <td>4.0</td>\n",
       "      <td>2015-06-04</td>\n",
       "      <td>Phoenix</td>\n",
       "      <td>Horrible customer service. More excuses than w...</td>\n",
       "      <td>Auto Repair;Automotive;Towing;Tires;Oil Change...</td>\n",
       "      <td>-0.056250</td>\n",
       "    </tr>\n",
       "  </tbody>\n",
       "</table>\n",
       "</div>"
      ],
      "text/plain": [
       "                 review_id             business_id  stars_x  stars_y  \\\n",
       "0   JN0tmjiksWfr4i2NIFuPXw  pLZ9oZM8c6MNbRlg06lBPg        1      3.0   \n",
       "2   R9p3ug8zNPvawYX_jsO0UA  Tknj3u-3CZTI-q52saTAIA        1      1.0   \n",
       "5   oLRl6PegGyjh7JA-8fUVzQ  btoBhgcY7vtvQ2M0itdTBQ        1      5.0   \n",
       "6   cIeF6K2kjNNkJ2pMKrGztA  Gxu3_yzEAXKtkBB0YpnvlQ        1      1.5   \n",
       "13  1ZgiihHVMx1mFDDBn9HEwQ  JyANaAVhdRkl1ABMvbgNUw        1      1.0   \n",
       "25  L6G91b3rVGPkcBITzAXB3w  _fACaVWH0WHC1yTu9vWJpQ        1      3.0   \n",
       "37  4IkfGEhDvxPpmVdBWR7gwg  pDcU-HEnNr631YpwxAqYsQ        1      3.0   \n",
       "45  TCQuJYiQ-JNmcusBhV5t3Q  n5Bu0WBhCiQ5umCE5EzSjg        1      3.0   \n",
       "47  -qmv0_kfTyj503zsZJUyww  h5tsd-0qKzaRB6w7LIx-3Q        1      1.5   \n",
       "59  2R0__embngOiugPH2DGIFA  h7l3xt_CAaFMD63ZgdXXWw        1      4.0   \n",
       "\n",
       "          date       city                                               text  \\\n",
       "0   2016-08-03  Las Vegas  THEY SELL WRECKED VEHICLES! \\nI purchased a 20...   \n",
       "2   2012-09-12    Toronto  If you want the \"I don't give a shit \" attitud...   \n",
       "5   2016-06-10  Las Vegas  where to start...\\na few months ago I slammed....   \n",
       "6   2009-07-19     Peoria  Last weekend I decided to go on a hunt to see ...   \n",
       "13  2015-04-04  Las Vegas  I have gone here 3 times with my 3 different c...   \n",
       "25  2013-06-15  Las Vegas  I had my car repaired there a year ago. I had ...   \n",
       "37  2012-10-12       Mesa  If only no stars were an option....\\nNot only ...   \n",
       "45  2017-10-28     Peoria  I came ready to buy a car but not a single per...   \n",
       "47  2017-02-21    Phoenix  I was in the market for a new 2017 Nissan Sent...   \n",
       "59  2015-06-04    Phoenix  Horrible customer service. More excuses than w...   \n",
       "\n",
       "                                           categories  texblob_sentiment_score  \n",
       "0   Auto Repair;Car Dealers;Automotive;Auto Parts ...                -0.006071  \n",
       "2                  Car Dealers;Auto Repair;Automotive                -0.237500  \n",
       "5   Auto Repair;Oil Change Stations;Automotive;Whe...                 0.025052  \n",
       "6                  Car Dealers;Automotive;Auto Repair                 0.133164  \n",
       "13                             Auto Repair;Automotive                 0.200000  \n",
       "25  Auto Glass Services;Automotive;Body Shops;Auto...                -0.120000  \n",
       "37  Auto Repair;Automotive;Auto Parts & Supplies;C...                -0.121131  \n",
       "45  Car Dealers;Auto Repair;Used Car Dealers;Auto ...                -0.192143  \n",
       "47                 Automotive;Auto Repair;Car Dealers                 0.326144  \n",
       "59  Auto Repair;Automotive;Towing;Tires;Oil Change...                -0.056250  "
      ]
     },
     "execution_count": 55,
     "metadata": {},
     "output_type": "execute_result"
    }
   ],
   "source": [
    "# let's look at some negative reviews\n",
    "df[df['stars_x'] == 1].head(10)"
   ]
  },
  {
   "cell_type": "code",
   "execution_count": 58,
   "metadata": {},
   "outputs": [
    {
     "name": "stdout",
     "output_type": "stream",
     "text": [
      "If you want the \"I don't give a shit \" attitude from some of the service dept staff take you car for service here . Horrible experience from the service dept staff not all but all it takes is one. First a last time I take my car there. Avoid if you can\n"
     ]
    }
   ],
   "source": [
    "# let's check a random negative review\n",
    "print (df.text[2])"
   ]
  },
  {
   "cell_type": "code",
   "execution_count": 61,
   "metadata": {},
   "outputs": [
    {
     "data": {
      "text/html": [
       "<div>\n",
       "<style scoped>\n",
       "    .dataframe tbody tr th:only-of-type {\n",
       "        vertical-align: middle;\n",
       "    }\n",
       "\n",
       "    .dataframe tbody tr th {\n",
       "        vertical-align: top;\n",
       "    }\n",
       "\n",
       "    .dataframe thead th {\n",
       "        text-align: right;\n",
       "    }\n",
       "</style>\n",
       "<table border=\"1\" class=\"dataframe\">\n",
       "  <thead>\n",
       "    <tr style=\"text-align: right;\">\n",
       "      <th></th>\n",
       "      <th>review_id</th>\n",
       "      <th>business_id</th>\n",
       "      <th>stars_x</th>\n",
       "      <th>stars_y</th>\n",
       "      <th>date</th>\n",
       "      <th>city</th>\n",
       "      <th>text</th>\n",
       "      <th>categories</th>\n",
       "      <th>texblob_sentiment_score</th>\n",
       "    </tr>\n",
       "  </thead>\n",
       "  <tbody>\n",
       "    <tr>\n",
       "      <td>3</td>\n",
       "      <td>FMXER_6R6URYBpV6TYPn9A</td>\n",
       "      <td>rV1nkTx58v_q7YGDkGzfxQ</td>\n",
       "      <td>5</td>\n",
       "      <td>5.0</td>\n",
       "      <td>2016-06-10</td>\n",
       "      <td>Las Vegas</td>\n",
       "      <td>where to start...\\na few months ago I slammed....</td>\n",
       "      <td>Auto Repair;Automotive</td>\n",
       "      <td>0.025052</td>\n",
       "    </tr>\n",
       "    <tr>\n",
       "      <td>7</td>\n",
       "      <td>7Je9L6bqTSBd4Ah9M3rvDw</td>\n",
       "      <td>C2VIYAElOUer5rBZH71c_A</td>\n",
       "      <td>5</td>\n",
       "      <td>4.5</td>\n",
       "      <td>2012-10-06</td>\n",
       "      <td>Phoenix</td>\n",
       "      <td>What a difference a new location with more spa...</td>\n",
       "      <td>Education;Auto Repair;Specialty Schools;Automo...</td>\n",
       "      <td>0.301388</td>\n",
       "    </tr>\n",
       "    <tr>\n",
       "      <td>10</td>\n",
       "      <td>9QUixlmZlA_v1JSqBeZ2Uw</td>\n",
       "      <td>FV3v0F5yAsAZ6PVXFsVjeA</td>\n",
       "      <td>5</td>\n",
       "      <td>4.0</td>\n",
       "      <td>2016-11-09</td>\n",
       "      <td>Henderson</td>\n",
       "      <td>I am so glad I found this shop.  I put off tak...</td>\n",
       "      <td>Body Shops;Auto Repair;Automotive</td>\n",
       "      <td>0.226032</td>\n",
       "    </tr>\n",
       "    <tr>\n",
       "      <td>11</td>\n",
       "      <td>l8I-qUOx5ComFrhBE127hg</td>\n",
       "      <td>-1TUzO4XCmOeqi9eAGeDWA</td>\n",
       "      <td>5</td>\n",
       "      <td>4.5</td>\n",
       "      <td>2014-10-23</td>\n",
       "      <td>Champaign</td>\n",
       "      <td>I was going through town on a road trip, and g...</td>\n",
       "      <td>Tires;Auto Repair;Automotive</td>\n",
       "      <td>0.131122</td>\n",
       "    </tr>\n",
       "    <tr>\n",
       "      <td>12</td>\n",
       "      <td>fhu9QLeHe50BHHEYmUOXjw</td>\n",
       "      <td>5Hm7p_B03gc_hIKvjriqLw</td>\n",
       "      <td>5</td>\n",
       "      <td>4.5</td>\n",
       "      <td>2014-08-07</td>\n",
       "      <td>Glendale</td>\n",
       "      <td>Very friendly atmosphere. First time I've been...</td>\n",
       "      <td>Auto Repair;Automotive</td>\n",
       "      <td>0.382500</td>\n",
       "    </tr>\n",
       "    <tr>\n",
       "      <td>14</td>\n",
       "      <td>GzAgB7-8poUnwrhiEHWEiQ</td>\n",
       "      <td>uRpjhhLclGlw_0oxDVicAw</td>\n",
       "      <td>5</td>\n",
       "      <td>4.0</td>\n",
       "      <td>2011-03-28</td>\n",
       "      <td>Madison</td>\n",
       "      <td>Although I am not planning on purchasing a BMW...</td>\n",
       "      <td>Automotive;Auto Parts &amp; Supplies;Commercial Tr...</td>\n",
       "      <td>0.186002</td>\n",
       "    </tr>\n",
       "    <tr>\n",
       "      <td>16</td>\n",
       "      <td>E-M8zZdaqfrfnta3YtRpHw</td>\n",
       "      <td>WJ-HHlzkSTqlB6zwlP8x7A</td>\n",
       "      <td>5</td>\n",
       "      <td>3.5</td>\n",
       "      <td>2013-04-02</td>\n",
       "      <td>Middleton</td>\n",
       "      <td>I love Zimbrick Acura. I love every Zimbrick i...</td>\n",
       "      <td>Automotive;Auto Repair;Auto Parts &amp; Supplies;C...</td>\n",
       "      <td>0.188243</td>\n",
       "    </tr>\n",
       "    <tr>\n",
       "      <td>17</td>\n",
       "      <td>LAPsOjIaeKsHPPC57YwFEQ</td>\n",
       "      <td>S_JZst0IGCads_KhoueMCw</td>\n",
       "      <td>5</td>\n",
       "      <td>4.5</td>\n",
       "      <td>2016-06-13</td>\n",
       "      <td>Las Vegas</td>\n",
       "      <td>Randy Clements is amazing at what he does !. M...</td>\n",
       "      <td>Mobile Dent Repair;Body Shops;Auto Detailing;A...</td>\n",
       "      <td>0.488241</td>\n",
       "    </tr>\n",
       "    <tr>\n",
       "      <td>18</td>\n",
       "      <td>6pLO85CJGwzpT2rGZ0D9NA</td>\n",
       "      <td>aK8DXte05wwI_9jmOrceXg</td>\n",
       "      <td>5</td>\n",
       "      <td>4.0</td>\n",
       "      <td>2013-11-21</td>\n",
       "      <td>Scottsdale</td>\n",
       "      <td>I have been to this location (Scottsdale Rd ju...</td>\n",
       "      <td>Automotive;Tires;Auto Repair</td>\n",
       "      <td>0.113062</td>\n",
       "    </tr>\n",
       "    <tr>\n",
       "      <td>20</td>\n",
       "      <td>5Wvh1T36wmTiURwIXJz7tw</td>\n",
       "      <td>SRZxlUuGact-r_AJ2fDEgA</td>\n",
       "      <td>5</td>\n",
       "      <td>4.0</td>\n",
       "      <td>2016-12-04</td>\n",
       "      <td>Charlotte</td>\n",
       "      <td>Very quick, efficient service. I stopped in fo...</td>\n",
       "      <td>Automotive;Oil Change Stations;Auto Repair</td>\n",
       "      <td>0.102778</td>\n",
       "    </tr>\n",
       "  </tbody>\n",
       "</table>\n",
       "</div>"
      ],
      "text/plain": [
       "                 review_id             business_id  stars_x  stars_y  \\\n",
       "3   FMXER_6R6URYBpV6TYPn9A  rV1nkTx58v_q7YGDkGzfxQ        5      5.0   \n",
       "7   7Je9L6bqTSBd4Ah9M3rvDw  C2VIYAElOUer5rBZH71c_A        5      4.5   \n",
       "10  9QUixlmZlA_v1JSqBeZ2Uw  FV3v0F5yAsAZ6PVXFsVjeA        5      4.0   \n",
       "11  l8I-qUOx5ComFrhBE127hg  -1TUzO4XCmOeqi9eAGeDWA        5      4.5   \n",
       "12  fhu9QLeHe50BHHEYmUOXjw  5Hm7p_B03gc_hIKvjriqLw        5      4.5   \n",
       "14  GzAgB7-8poUnwrhiEHWEiQ  uRpjhhLclGlw_0oxDVicAw        5      4.0   \n",
       "16  E-M8zZdaqfrfnta3YtRpHw  WJ-HHlzkSTqlB6zwlP8x7A        5      3.5   \n",
       "17  LAPsOjIaeKsHPPC57YwFEQ  S_JZst0IGCads_KhoueMCw        5      4.5   \n",
       "18  6pLO85CJGwzpT2rGZ0D9NA  aK8DXte05wwI_9jmOrceXg        5      4.0   \n",
       "20  5Wvh1T36wmTiURwIXJz7tw  SRZxlUuGact-r_AJ2fDEgA        5      4.0   \n",
       "\n",
       "          date        city                                               text  \\\n",
       "3   2016-06-10   Las Vegas  where to start...\\na few months ago I slammed....   \n",
       "7   2012-10-06     Phoenix  What a difference a new location with more spa...   \n",
       "10  2016-11-09   Henderson  I am so glad I found this shop.  I put off tak...   \n",
       "11  2014-10-23   Champaign  I was going through town on a road trip, and g...   \n",
       "12  2014-08-07    Glendale  Very friendly atmosphere. First time I've been...   \n",
       "14  2011-03-28     Madison  Although I am not planning on purchasing a BMW...   \n",
       "16  2013-04-02   Middleton  I love Zimbrick Acura. I love every Zimbrick i...   \n",
       "17  2016-06-13   Las Vegas  Randy Clements is amazing at what he does !. M...   \n",
       "18  2013-11-21  Scottsdale  I have been to this location (Scottsdale Rd ju...   \n",
       "20  2016-12-04   Charlotte  Very quick, efficient service. I stopped in fo...   \n",
       "\n",
       "                                           categories  texblob_sentiment_score  \n",
       "3                              Auto Repair;Automotive                 0.025052  \n",
       "7   Education;Auto Repair;Specialty Schools;Automo...                 0.301388  \n",
       "10                  Body Shops;Auto Repair;Automotive                 0.226032  \n",
       "11                       Tires;Auto Repair;Automotive                 0.131122  \n",
       "12                             Auto Repair;Automotive                 0.382500  \n",
       "14  Automotive;Auto Parts & Supplies;Commercial Tr...                 0.186002  \n",
       "16  Automotive;Auto Repair;Auto Parts & Supplies;C...                 0.188243  \n",
       "17  Mobile Dent Repair;Body Shops;Auto Detailing;A...                 0.488241  \n",
       "18                       Automotive;Tires;Auto Repair                 0.113062  \n",
       "20         Automotive;Oil Change Stations;Auto Repair                 0.102778  "
      ]
     },
     "execution_count": 61,
     "metadata": {},
     "output_type": "execute_result"
    }
   ],
   "source": [
    "# let's look at some positive reviews\n",
    "df[df['stars_x'] == 5].head(10)"
   ]
  },
  {
   "cell_type": "code",
   "execution_count": 63,
   "metadata": {},
   "outputs": [
    {
     "name": "stdout",
     "output_type": "stream",
     "text": [
      "Randy Clements is amazing at what he does !. My 428i got rear ended and the bumper was cracked . Randy made it easy for me by dealing with the insurance company of who was at fault . He ordered my bumper and had my car ready in two days !. He did a Fantastic job. The car looks like new , it was washed when I picked it up. He is very pleasant to work with and cares about his customers . Randy I would give you 10 stars if I could . Metropolitan auto shop is a great place in general , very friendly staff and helpful . I will be coming here for all my car needs . Thank you !. :)\n"
     ]
    }
   ],
   "source": [
    "# let's check a random predicted positive review, 17 seems to tbe good candidate\n",
    "print (df.text[17])"
   ]
  },
  {
   "cell_type": "markdown",
   "metadata": {},
   "source": [
    "## Regarder la performance de Textblob"
   ]
  },
  {
   "cell_type": "code",
   "execution_count": 64,
   "metadata": {},
   "outputs": [
    {
     "data": {
      "text/plain": [
       "128     Excellent and helping people here! Will contin...\n",
       "1187    The best car dealership in the state! But you ...\n",
       "1647    Rocky Marshall at Prestige Service Dept. Was e...\n",
       "1710    The Chapman BMW experience has been wonderful!...\n",
       "2445    I always appreciate the honesty and the quickn...\n",
       "Name: text, dtype: object"
      ]
     },
     "execution_count": 64,
     "metadata": {},
     "output_type": "execute_result"
    }
   ],
   "source": [
    "# reviews with most positive sentiment\n",
    "df[df['texblob_sentiment_score'] == 1]['text'].head()"
   ]
  },
  {
   "cell_type": "code",
   "execution_count": 65,
   "metadata": {},
   "outputs": [
    {
     "data": {
      "text/plain": [
       "169     Absolutely horrible! If it wasn't for Vincent ...\n",
       "1571    Worst car buying experience of my life - no on...\n",
       "1689    Worst experience I Ever had buying a challener...\n",
       "3002    Person complaining about a cable if that is th...\n",
       "3823    avoid this guy if u care about your hard earne...\n",
       "Name: text, dtype: object"
      ]
     },
     "execution_count": 65,
     "metadata": {},
     "output_type": "execute_result"
    }
   ],
   "source": [
    "# reviews with most negative sentiment\n",
    "df[df['texblob_sentiment_score'] == -1]['text'].head()"
   ]
  },
  {
   "cell_type": "code",
   "execution_count": 67,
   "metadata": {},
   "outputs": [
    {
     "data": {
      "text/plain": [
       "-1.0"
      ]
     },
     "execution_count": 67,
     "metadata": {},
     "output_type": "execute_result"
    }
   ],
   "source": [
    "# what is the minimum sentiment given by textblob for negative reviews?\n",
    "df[df['stars_x'] == 1]['texblob_sentiment_score'].min()"
   ]
  },
  {
   "cell_type": "code",
   "execution_count": 68,
   "metadata": {},
   "outputs": [
    {
     "data": {
      "text/plain": [
       "1.0"
      ]
     },
     "execution_count": 68,
     "metadata": {},
     "output_type": "execute_result"
    }
   ],
   "source": [
    "# what is the maximum sentiment given by textblob for negative reviews?\n",
    "df[df['stars_x'] == 1]['texblob_sentiment_score'].max()"
   ]
  },
  {
   "cell_type": "code",
   "execution_count": 69,
   "metadata": {},
   "outputs": [
    {
     "data": {
      "text/html": [
       "<div>\n",
       "<style scoped>\n",
       "    .dataframe tbody tr th:only-of-type {\n",
       "        vertical-align: middle;\n",
       "    }\n",
       "\n",
       "    .dataframe tbody tr th {\n",
       "        vertical-align: top;\n",
       "    }\n",
       "\n",
       "    .dataframe thead th {\n",
       "        text-align: right;\n",
       "    }\n",
       "</style>\n",
       "<table border=\"1\" class=\"dataframe\">\n",
       "  <thead>\n",
       "    <tr style=\"text-align: right;\">\n",
       "      <th></th>\n",
       "      <th>review_id</th>\n",
       "      <th>business_id</th>\n",
       "      <th>stars_x</th>\n",
       "      <th>stars_y</th>\n",
       "      <th>date</th>\n",
       "      <th>city</th>\n",
       "      <th>text</th>\n",
       "      <th>categories</th>\n",
       "      <th>texblob_sentiment_score</th>\n",
       "    </tr>\n",
       "  </thead>\n",
       "  <tbody>\n",
       "    <tr>\n",
       "      <td>8132</td>\n",
       "      <td>WapYI7aPMg7nrIEoQcNYhw</td>\n",
       "      <td>w3k4afCJEih9-kPL6ZI0Og</td>\n",
       "      <td>1</td>\n",
       "      <td>2.0</td>\n",
       "      <td>2017-03-13</td>\n",
       "      <td>Glendale</td>\n",
       "      <td>Update ....All is Well that Ends Well ..Sold M...</td>\n",
       "      <td>Auto Repair;Car Dealers;Automotive</td>\n",
       "      <td>0.976562</td>\n",
       "    </tr>\n",
       "    <tr>\n",
       "      <td>17257</td>\n",
       "      <td>gnZ269fA1FRli-2PrLFcKQ</td>\n",
       "      <td>WqzT6XTdSlt9IzNzyEcO4A</td>\n",
       "      <td>1</td>\n",
       "      <td>3.5</td>\n",
       "      <td>2015-04-07</td>\n",
       "      <td>Gilbert</td>\n",
       "      <td>NAPA Auto Care and owner Jack Griffith is noth...</td>\n",
       "      <td>Auto Repair;Automotive</td>\n",
       "      <td>1.000000</td>\n",
       "    </tr>\n",
       "    <tr>\n",
       "      <td>21182</td>\n",
       "      <td>MDSf1axnFMFAsTnsJamWbA</td>\n",
       "      <td>ali4IoPkincXzwHgWSk_rA</td>\n",
       "      <td>1</td>\n",
       "      <td>4.0</td>\n",
       "      <td>2016-06-07</td>\n",
       "      <td>Las Vegas</td>\n",
       "      <td>Great service before the sale but mass confusi...</td>\n",
       "      <td>Auto Repair;Used Car Dealers;Automotive;Car De...</td>\n",
       "      <td>0.800000</td>\n",
       "    </tr>\n",
       "    <tr>\n",
       "      <td>24352</td>\n",
       "      <td>TQVlNThXtIOIMNmCg_XFVA</td>\n",
       "      <td>ihCclCbKNG7yL6nkYTviEQ</td>\n",
       "      <td>1</td>\n",
       "      <td>4.0</td>\n",
       "      <td>2017-03-25</td>\n",
       "      <td>Tempe</td>\n",
       "      <td>Used to deal with Jason then he got fired. Ken...</td>\n",
       "      <td>Auto Parts &amp; Supplies;Oil Change Stations;Auto...</td>\n",
       "      <td>0.900000</td>\n",
       "    </tr>\n",
       "    <tr>\n",
       "      <td>27769</td>\n",
       "      <td>0iuD7DAFlAlv3WecJa_RlQ</td>\n",
       "      <td>E48Fxo1H85mc2Vq0FcSnRQ</td>\n",
       "      <td>1</td>\n",
       "      <td>4.0</td>\n",
       "      <td>2016-08-16</td>\n",
       "      <td>Las Vegas</td>\n",
       "      <td>Don't worry Cesar I'll go ahead and upload the...</td>\n",
       "      <td>Automotive;Auto Repair;Body Shops</td>\n",
       "      <td>0.750000</td>\n",
       "    </tr>\n",
       "  </tbody>\n",
       "</table>\n",
       "</div>"
      ],
      "text/plain": [
       "                    review_id             business_id  stars_x  stars_y  \\\n",
       "8132   WapYI7aPMg7nrIEoQcNYhw  w3k4afCJEih9-kPL6ZI0Og        1      2.0   \n",
       "17257  gnZ269fA1FRli-2PrLFcKQ  WqzT6XTdSlt9IzNzyEcO4A        1      3.5   \n",
       "21182  MDSf1axnFMFAsTnsJamWbA  ali4IoPkincXzwHgWSk_rA        1      4.0   \n",
       "24352  TQVlNThXtIOIMNmCg_XFVA  ihCclCbKNG7yL6nkYTviEQ        1      4.0   \n",
       "27769  0iuD7DAFlAlv3WecJa_RlQ  E48Fxo1H85mc2Vq0FcSnRQ        1      4.0   \n",
       "\n",
       "             date       city  \\\n",
       "8132   2017-03-13   Glendale   \n",
       "17257  2015-04-07    Gilbert   \n",
       "21182  2016-06-07  Las Vegas   \n",
       "24352  2017-03-25      Tempe   \n",
       "27769  2016-08-16  Las Vegas   \n",
       "\n",
       "                                                    text  \\\n",
       "8132   Update ....All is Well that Ends Well ..Sold M...   \n",
       "17257  NAPA Auto Care and owner Jack Griffith is noth...   \n",
       "21182  Great service before the sale but mass confusi...   \n",
       "24352  Used to deal with Jason then he got fired. Ken...   \n",
       "27769  Don't worry Cesar I'll go ahead and upload the...   \n",
       "\n",
       "                                              categories  \\\n",
       "8132                  Auto Repair;Car Dealers;Automotive   \n",
       "17257                             Auto Repair;Automotive   \n",
       "21182  Auto Repair;Used Car Dealers;Automotive;Car De...   \n",
       "24352  Auto Parts & Supplies;Oil Change Stations;Auto...   \n",
       "27769                  Automotive;Auto Repair;Body Shops   \n",
       "\n",
       "       texblob_sentiment_score  \n",
       "8132                  0.976562  \n",
       "17257                 1.000000  \n",
       "21182                 0.800000  \n",
       "24352                 0.900000  \n",
       "27769                 0.750000  "
      ]
     },
     "execution_count": 69,
     "metadata": {},
     "output_type": "execute_result"
    }
   ],
   "source": [
    "# positive sentiment in a 1-star review\n",
    "df[(df['stars_x'] == 1) & (df['texblob_sentiment_score'] > 0.7)]"
   ]
  },
  {
   "cell_type": "code",
   "execution_count": 72,
   "metadata": {},
   "outputs": [
    {
     "name": "stdout",
     "output_type": "stream",
     "text": [
      "Update ....All is Well that Ends Well ..Sold My Ride for $$$ (a lot more than offered) a bought a truck cash ..No Loan or Payments !!!\n"
     ]
    }
   ],
   "source": [
    "print (df.text[8132])"
   ]
  },
  {
   "cell_type": "code",
   "execution_count": 74,
   "metadata": {},
   "outputs": [
    {
     "data": {
      "text/plain": [
       "-1.0"
      ]
     },
     "execution_count": 74,
     "metadata": {},
     "output_type": "execute_result"
    }
   ],
   "source": [
    "# what is the minimum sentiment given by textblob for positive reviews?\n",
    "df[df['stars_x'] == 5]['texblob_sentiment_score'].min()"
   ]
  },
  {
   "cell_type": "code",
   "execution_count": 75,
   "metadata": {},
   "outputs": [
    {
     "data": {
      "text/plain": [
       "1.0"
      ]
     },
     "execution_count": 75,
     "metadata": {},
     "output_type": "execute_result"
    }
   ],
   "source": [
    "# what is the maximum sentiment given by textblob for positive reviews?\n",
    "df[df['stars_x'] == 5]['texblob_sentiment_score'].max()"
   ]
  },
  {
   "cell_type": "code",
   "execution_count": 76,
   "metadata": {},
   "outputs": [
    {
     "data": {
      "text/html": [
       "<div>\n",
       "<style scoped>\n",
       "    .dataframe tbody tr th:only-of-type {\n",
       "        vertical-align: middle;\n",
       "    }\n",
       "\n",
       "    .dataframe tbody tr th {\n",
       "        vertical-align: top;\n",
       "    }\n",
       "\n",
       "    .dataframe thead th {\n",
       "        text-align: right;\n",
       "    }\n",
       "</style>\n",
       "<table border=\"1\" class=\"dataframe\">\n",
       "  <thead>\n",
       "    <tr style=\"text-align: right;\">\n",
       "      <th></th>\n",
       "      <th>review_id</th>\n",
       "      <th>business_id</th>\n",
       "      <th>stars_x</th>\n",
       "      <th>stars_y</th>\n",
       "      <th>date</th>\n",
       "      <th>city</th>\n",
       "      <th>text</th>\n",
       "      <th>categories</th>\n",
       "      <th>texblob_sentiment_score</th>\n",
       "    </tr>\n",
       "  </thead>\n",
       "  <tbody>\n",
       "    <tr>\n",
       "      <td>3002</td>\n",
       "      <td>tDrusWcZbE0V_QMxoQvEnw</td>\n",
       "      <td>u9-YcAtbCrsI-dx_mGvc_g</td>\n",
       "      <td>5</td>\n",
       "      <td>3.5</td>\n",
       "      <td>2015-10-12</td>\n",
       "      <td>Pittsburgh</td>\n",
       "      <td>Person complaining about a cable if that is th...</td>\n",
       "      <td>Automotive;Auto Repair</td>\n",
       "      <td>-1.000000</td>\n",
       "    </tr>\n",
       "    <tr>\n",
       "      <td>12866</td>\n",
       "      <td>1RPAyaDEbflbEZBykO8uWg</td>\n",
       "      <td>lyl3FDeeex8rV5WfREZdyQ</td>\n",
       "      <td>5</td>\n",
       "      <td>3.5</td>\n",
       "      <td>2016-06-16</td>\n",
       "      <td>Henderson</td>\n",
       "      <td>The Kia service department has always taken ca...</td>\n",
       "      <td>Car Dealers;Auto Repair;Automotive</td>\n",
       "      <td>-0.350000</td>\n",
       "    </tr>\n",
       "    <tr>\n",
       "      <td>15700</td>\n",
       "      <td>eVlcAMR19rTz5Nw5z6hulw</td>\n",
       "      <td>5HGO1CxM0qPIS_u4L90Bvw</td>\n",
       "      <td>5</td>\n",
       "      <td>5.0</td>\n",
       "      <td>2016-07-18</td>\n",
       "      <td>Las Vegas</td>\n",
       "      <td>Showed up without any appointment and less the...</td>\n",
       "      <td>Auto Repair;Automotive</td>\n",
       "      <td>-0.406901</td>\n",
       "    </tr>\n",
       "    <tr>\n",
       "      <td>18022</td>\n",
       "      <td>BXbe1L7VUDvuwZMBE129Ug</td>\n",
       "      <td>a9k9MQrr5KFyMD7_Lnwrhw</td>\n",
       "      <td>5</td>\n",
       "      <td>4.5</td>\n",
       "      <td>2016-10-03</td>\n",
       "      <td>Las Vegas</td>\n",
       "      <td>In and out in a few minutes for a smog check, ...</td>\n",
       "      <td>Oil Change Stations;Smog Check Stations;Automo...</td>\n",
       "      <td>-0.312500</td>\n",
       "    </tr>\n",
       "    <tr>\n",
       "      <td>19733</td>\n",
       "      <td>d-NoG2yh64F7jR7cHcrZcQ</td>\n",
       "      <td>b9DbuRf1pyB9eDkF9Gdnhg</td>\n",
       "      <td>5</td>\n",
       "      <td>5.0</td>\n",
       "      <td>2016-12-16</td>\n",
       "      <td>Phoenix</td>\n",
       "      <td>David is a BMW expert.  He knew what was wrong...</td>\n",
       "      <td>Automotive;Auto Repair</td>\n",
       "      <td>-0.355556</td>\n",
       "    </tr>\n",
       "    <tr>\n",
       "      <td>20031</td>\n",
       "      <td>VdVbSYowB0tsyeekp39RTQ</td>\n",
       "      <td>8vaXVv3PUNxGYDv1W5evEQ</td>\n",
       "      <td>5</td>\n",
       "      <td>2.5</td>\n",
       "      <td>2015-07-21</td>\n",
       "      <td>Phoenix</td>\n",
       "      <td>Darren helped me out big time today. I used th...</td>\n",
       "      <td>Oil Change Stations;Tires;Auto Repair;Automotive</td>\n",
       "      <td>-0.364583</td>\n",
       "    </tr>\n",
       "    <tr>\n",
       "      <td>23371</td>\n",
       "      <td>KMpsSae8Xl4Mhg_fET00aA</td>\n",
       "      <td>LwNZ1AR4_5iukgQYuhmTOg</td>\n",
       "      <td>5</td>\n",
       "      <td>3.5</td>\n",
       "      <td>2012-12-01</td>\n",
       "      <td>Las Vegas</td>\n",
       "      <td>I NEVER do reviews, so I'll keep it short...\\n...</td>\n",
       "      <td>Automotive;Auto Parts &amp; Supplies;Auto Repair;C...</td>\n",
       "      <td>-0.468750</td>\n",
       "    </tr>\n",
       "    <tr>\n",
       "      <td>23847</td>\n",
       "      <td>oJSvq6ElZ71oQYZ05VdGmg</td>\n",
       "      <td>C7JaaErXLB3B3486LfWg5w</td>\n",
       "      <td>5</td>\n",
       "      <td>3.5</td>\n",
       "      <td>2014-03-14</td>\n",
       "      <td>Henderson</td>\n",
       "      <td>Usually in and out !! If I knew the girls name...</td>\n",
       "      <td>Car Dealers;Auto Parts &amp; Supplies;Auto Repair;...</td>\n",
       "      <td>-0.953674</td>\n",
       "    </tr>\n",
       "  </tbody>\n",
       "</table>\n",
       "</div>"
      ],
      "text/plain": [
       "                    review_id             business_id  stars_x  stars_y  \\\n",
       "3002   tDrusWcZbE0V_QMxoQvEnw  u9-YcAtbCrsI-dx_mGvc_g        5      3.5   \n",
       "12866  1RPAyaDEbflbEZBykO8uWg  lyl3FDeeex8rV5WfREZdyQ        5      3.5   \n",
       "15700  eVlcAMR19rTz5Nw5z6hulw  5HGO1CxM0qPIS_u4L90Bvw        5      5.0   \n",
       "18022  BXbe1L7VUDvuwZMBE129Ug  a9k9MQrr5KFyMD7_Lnwrhw        5      4.5   \n",
       "19733  d-NoG2yh64F7jR7cHcrZcQ  b9DbuRf1pyB9eDkF9Gdnhg        5      5.0   \n",
       "20031  VdVbSYowB0tsyeekp39RTQ  8vaXVv3PUNxGYDv1W5evEQ        5      2.5   \n",
       "23371  KMpsSae8Xl4Mhg_fET00aA  LwNZ1AR4_5iukgQYuhmTOg        5      3.5   \n",
       "23847  oJSvq6ElZ71oQYZ05VdGmg  C7JaaErXLB3B3486LfWg5w        5      3.5   \n",
       "\n",
       "             date        city  \\\n",
       "3002   2015-10-12  Pittsburgh   \n",
       "12866  2016-06-16   Henderson   \n",
       "15700  2016-07-18   Las Vegas   \n",
       "18022  2016-10-03   Las Vegas   \n",
       "19733  2016-12-16     Phoenix   \n",
       "20031  2015-07-21     Phoenix   \n",
       "23371  2012-12-01   Las Vegas   \n",
       "23847  2014-03-14   Henderson   \n",
       "\n",
       "                                                    text  \\\n",
       "3002   Person complaining about a cable if that is th...   \n",
       "12866  The Kia service department has always taken ca...   \n",
       "15700  Showed up without any appointment and less the...   \n",
       "18022  In and out in a few minutes for a smog check, ...   \n",
       "19733  David is a BMW expert.  He knew what was wrong...   \n",
       "20031  Darren helped me out big time today. I used th...   \n",
       "23371  I NEVER do reviews, so I'll keep it short...\\n...   \n",
       "23847  Usually in and out !! If I knew the girls name...   \n",
       "\n",
       "                                              categories  \\\n",
       "3002                              Automotive;Auto Repair   \n",
       "12866                 Car Dealers;Auto Repair;Automotive   \n",
       "15700                             Auto Repair;Automotive   \n",
       "18022  Oil Change Stations;Smog Check Stations;Automo...   \n",
       "19733                             Automotive;Auto Repair   \n",
       "20031   Oil Change Stations;Tires;Auto Repair;Automotive   \n",
       "23371  Automotive;Auto Parts & Supplies;Auto Repair;C...   \n",
       "23847  Car Dealers;Auto Parts & Supplies;Auto Repair;...   \n",
       "\n",
       "       texblob_sentiment_score  \n",
       "3002                 -1.000000  \n",
       "12866                -0.350000  \n",
       "15700                -0.406901  \n",
       "18022                -0.312500  \n",
       "19733                -0.355556  \n",
       "20031                -0.364583  \n",
       "23371                -0.468750  \n",
       "23847                -0.953674  "
      ]
     },
     "execution_count": 76,
     "metadata": {},
     "output_type": "execute_result"
    }
   ],
   "source": [
    "# negative sentiment in a 5-star review\n",
    "df[(df['stars_x'] == 5) & (df['texblob_sentiment_score'] < -0.3)]"
   ]
  },
  {
   "cell_type": "code",
   "execution_count": 78,
   "metadata": {},
   "outputs": [
    {
     "name": "stdout",
     "output_type": "stream",
     "text": [
      "Person complaining about a cable if that is the worst thing in your life then deal with it\n"
     ]
    }
   ],
   "source": [
    "print (df['text'][3002])"
   ]
  },
  {
   "cell_type": "markdown",
   "metadata": {},
   "source": [
    "## Use TextBlob to calculate stars for the reviews"
   ]
  },
  {
   "cell_type": "code",
   "execution_count": 79,
   "metadata": {},
   "outputs": [],
   "source": [
    "df['textblob_predicted_stars'] = df['texblob_sentiment_score'].apply(lambda x : 5 if x > 0.1 else 1)"
   ]
  },
  {
   "cell_type": "code",
   "execution_count": 80,
   "metadata": {},
   "outputs": [
    {
     "data": {
      "text/html": [
       "<div>\n",
       "<style scoped>\n",
       "    .dataframe tbody tr th:only-of-type {\n",
       "        vertical-align: middle;\n",
       "    }\n",
       "\n",
       "    .dataframe tbody tr th {\n",
       "        vertical-align: top;\n",
       "    }\n",
       "\n",
       "    .dataframe thead th {\n",
       "        text-align: right;\n",
       "    }\n",
       "</style>\n",
       "<table border=\"1\" class=\"dataframe\">\n",
       "  <thead>\n",
       "    <tr style=\"text-align: right;\">\n",
       "      <th></th>\n",
       "      <th>review_id</th>\n",
       "      <th>business_id</th>\n",
       "      <th>stars_x</th>\n",
       "      <th>stars_y</th>\n",
       "      <th>date</th>\n",
       "      <th>city</th>\n",
       "      <th>text</th>\n",
       "      <th>categories</th>\n",
       "      <th>texblob_sentiment_score</th>\n",
       "      <th>textblob_predicted_stars</th>\n",
       "    </tr>\n",
       "  </thead>\n",
       "  <tbody>\n",
       "    <tr>\n",
       "      <td>0</td>\n",
       "      <td>JN0tmjiksWfr4i2NIFuPXw</td>\n",
       "      <td>pLZ9oZM8c6MNbRlg06lBPg</td>\n",
       "      <td>1</td>\n",
       "      <td>3.0</td>\n",
       "      <td>2016-08-03</td>\n",
       "      <td>Las Vegas</td>\n",
       "      <td>THEY SELL WRECKED VEHICLES! \\nI purchased a 20...</td>\n",
       "      <td>Auto Repair;Car Dealers;Automotive;Auto Parts ...</td>\n",
       "      <td>-0.006071</td>\n",
       "      <td>1</td>\n",
       "    </tr>\n",
       "    <tr>\n",
       "      <td>2</td>\n",
       "      <td>R9p3ug8zNPvawYX_jsO0UA</td>\n",
       "      <td>Tknj3u-3CZTI-q52saTAIA</td>\n",
       "      <td>1</td>\n",
       "      <td>1.0</td>\n",
       "      <td>2012-09-12</td>\n",
       "      <td>Toronto</td>\n",
       "      <td>If you want the \"I don't give a shit \" attitud...</td>\n",
       "      <td>Car Dealers;Auto Repair;Automotive</td>\n",
       "      <td>-0.237500</td>\n",
       "      <td>1</td>\n",
       "    </tr>\n",
       "    <tr>\n",
       "      <td>3</td>\n",
       "      <td>FMXER_6R6URYBpV6TYPn9A</td>\n",
       "      <td>rV1nkTx58v_q7YGDkGzfxQ</td>\n",
       "      <td>5</td>\n",
       "      <td>5.0</td>\n",
       "      <td>2016-06-10</td>\n",
       "      <td>Las Vegas</td>\n",
       "      <td>where to start...\\na few months ago I slammed....</td>\n",
       "      <td>Auto Repair;Automotive</td>\n",
       "      <td>0.025052</td>\n",
       "      <td>1</td>\n",
       "    </tr>\n",
       "  </tbody>\n",
       "</table>\n",
       "</div>"
      ],
      "text/plain": [
       "                review_id             business_id  stars_x  stars_y  \\\n",
       "0  JN0tmjiksWfr4i2NIFuPXw  pLZ9oZM8c6MNbRlg06lBPg        1      3.0   \n",
       "2  R9p3ug8zNPvawYX_jsO0UA  Tknj3u-3CZTI-q52saTAIA        1      1.0   \n",
       "3  FMXER_6R6URYBpV6TYPn9A  rV1nkTx58v_q7YGDkGzfxQ        5      5.0   \n",
       "\n",
       "         date       city                                               text  \\\n",
       "0  2016-08-03  Las Vegas  THEY SELL WRECKED VEHICLES! \\nI purchased a 20...   \n",
       "2  2012-09-12    Toronto  If you want the \"I don't give a shit \" attitud...   \n",
       "3  2016-06-10  Las Vegas  where to start...\\na few months ago I slammed....   \n",
       "\n",
       "                                          categories  texblob_sentiment_score  \\\n",
       "0  Auto Repair;Car Dealers;Automotive;Auto Parts ...                -0.006071   \n",
       "2                 Car Dealers;Auto Repair;Automotive                -0.237500   \n",
       "3                             Auto Repair;Automotive                 0.025052   \n",
       "\n",
       "   textblob_predicted_stars  \n",
       "0                         1  \n",
       "2                         1  \n",
       "3                         1  "
      ]
     },
     "execution_count": 80,
     "metadata": {},
     "output_type": "execute_result"
    }
   ],
   "source": [
    "df.head(3)"
   ]
  },
  {
   "cell_type": "code",
   "execution_count": 82,
   "metadata": {},
   "outputs": [
    {
     "name": "stdout",
     "output_type": "stream",
     "text": [
      "Textblob Accuracy 0.8584172003659652\n"
     ]
    }
   ],
   "source": [
    "print ('Textblob Accuracy', metrics.accuracy_score(df['stars_x'], df['textblob_predicted_stars']))"
   ]
  },
  {
   "cell_type": "code",
   "execution_count": null,
   "metadata": {},
   "outputs": [],
   "source": []
  }
 ],
 "metadata": {
  "kernelspec": {
   "display_name": "Python 3",
   "language": "python",
   "name": "python3"
  },
  "language_info": {
   "codemirror_mode": {
    "name": "ipython",
    "version": 3
   },
   "file_extension": ".py",
   "mimetype": "text/x-python",
   "name": "python",
   "nbconvert_exporter": "python",
   "pygments_lexer": "ipython3",
   "version": "3.7.4"
  }
 },
 "nbformat": 4,
 "nbformat_minor": 2
}
