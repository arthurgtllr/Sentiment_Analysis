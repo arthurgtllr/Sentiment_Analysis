{
 "cells": [
  {
   "cell_type": "code",
   "execution_count": 1,
   "metadata": {},
   "outputs": [],
   "source": [
    "\n",
    "import pandas as pd\n",
    "import matplotlib.pyplot as plt\n",
    "import warnings\n",
    "import networkx\n",
    "\n",
    "warnings.filterwarnings('ignore')\n",
    "\n",
    "import re\n",
    "import os\n",
    "\n",
    "import nltk\n",
    "from nltk.tokenize import word_tokenize\n",
    "from nltk.corpus import stopwords\n",
    "from nltk.stem import PorterStemmer\n",
    "from nltk.stem.wordnet import WordNetLemmatizer\n",
    "from nltk.probability import FreqDist\n",
    "\n",
    "from wordcloud import WordCloud, STOPWORDS, ImageColorGenerator\n",
    "\n",
    "#from data_preprocesser import preprocessed_data_path, create_file, split_raw_csv_review_file\n",
    "\n",
    "from textblob import TextBlob\n",
    "verbs = ['VB','VBD','VBG','VBN','VBP','VBZ']\n",
    "others = ['RBR','RBS','UH','FW','JJ','JJR','JJS']\n",
    "tags = ['NN','NNS','NNP','NNPS']\n",
    "\n",
    "raw_data_path = './data_yelp/raw/'\n",
    "preprocessed_data_path = './data_yelp/preprocessed/'\n",
    "reviews_type_path = 'categories_30000/yelp_academic_dataset_review_Auto Repair.csv'"
   ]
  },
  {
   "cell_type": "markdown",
   "metadata": {},
   "source": [
    "# Processing functions"
   ]
  },
  {
   "cell_type": "code",
   "execution_count": 53,
   "metadata": {},
   "outputs": [],
   "source": [
    "# Separer en phrases avec ponctuation\n",
    "\n",
    "\n",
    "\n",
    "\n",
    "def identify_tokens(row):\n",
    "    sentences = row['sentences']\n",
    "    token_words = []\n",
    "    for sentence in sentences :\n",
    "        tokens = nltk.word_tokenize(sentence)\n",
    "        # taken only words (not punctuation)\n",
    "        # token_words = [re.sub(\"[^\\w\\s]\", \" \", w) for w in tokens]\n",
    "        token_words.append([w for w in tokens if w.isalpha()])\n",
    "    return token_words\n",
    "\n",
    "\n",
    "def split_to_sentences(row):\n",
    "    review = row['text']\n",
    "    delimiters = ['?','!','.',',',';',':','\\n','\"','(',')']\n",
    "    regexPattern = '|'.join(map(re.escape, delimiters))\n",
    "    sentences = re.split(regexPattern,review)\n",
    "    sentences = [sentence for sentence in sentences if sentence and sentence != ' ']\n",
    "    return sentences\n",
    "\n",
    "### Garder juste les noms, verbes, adjectifs et interjections\n",
    "\n",
    "def select_tagged(row):\n",
    "    sentences = row['sentences']\n",
    "    useful_words = []\n",
    "    for sentence in sentences :\n",
    "        list_words = sentence.split(' ')\n",
    "        list_words = [w for w in list_words if w]\n",
    "        tagged_words = nltk.pos_tag(list_words)\n",
    "        useful_words.append([w[0] for w in tagged_words if w[1] in tags and w[0] != 'i' and w[0] != 'u'])\n",
    "    return useful_words\n",
    "\n",
    "stop_words = stopwords.words('english')\n",
    "stops_empiric = ['i','u',\"it's\",\"don't\",\"they're\",'wa',\"didn't\",'was','done','were','went','had','got','has','am',\"i'm\",\"i've\"]\n",
    "stops_empiric.extend(stop_words)\n",
    "\n",
    "\n",
    "\n",
    "def remove_stops(row):\n",
    "    sentences = row['words_useful']\n",
    "    useful_words = []\n",
    "\n",
    "    for sentence in sentences :\n",
    "        new_sentence = []\n",
    "        for w in sentence :\n",
    "            if w not in stops_empiric :\n",
    "                new_sentence.append(w)\n",
    "        useful_words.append(new_sentence)\n",
    "    return useful_words\n",
    "\n",
    "### Enlever les mots trops polarisés\n",
    "\n",
    "def unpolarized(row):\n",
    "    sentences = row['words_lemmatized']\n",
    "    unpolarized_words = []\n",
    "    for sentence in sentences :\n",
    "        unpolarized_words.append([w for w in sentence if (abs(TextBlob(w).sentiment.polarity)<0.2 \n",
    "            and abs(TextBlob(w).sentiment.polarity<0.2))])\n",
    "    return unpolarized_words\n",
    "\n",
    "stemming = PorterStemmer()\n",
    "\n",
    "def stem_list(row):\n",
    "    sentences = row['words_meaningful']\n",
    "    stemmed_sentences = []\n",
    "    for sentence in sentences :\n",
    "        stemmed_sentences.append([stemming.stem(word) for word in sentence])\n",
    "    return (stemmed_sentences)\n",
    "\n",
    "lemming = WordNetLemmatizer()\n",
    "\n",
    "def lem_list(row):\n",
    "    sentences = row['words_useful']\n",
    "    lemmed_sentences = []\n",
    "    for sentence in sentences :\n",
    "        lemmed_sentences.append([lemming.lemmatize(word) for word in sentence])\n",
    "    return (lemmed_sentences)\n",
    "\n",
    "def rejoin_words(row):\n",
    "    sentences = row['words_meaningful']\n",
    "    joined_words = []\n",
    "    for sentence in sentences :\n",
    "        joined_words.extend(sentence)\n",
    "    return joined_words\n",
    "\n",
    "def index_words(row):\n",
    "    sentences = row['words_useful']\n",
    "    all_words = row['words']\n",
    "    indexes = []\n",
    "    for j,sentence in enumerate(sentences) :\n",
    "        indexes.append([(w,all_words[j].index(w)) for w in sentence])\n",
    "    return indexes"
   ]
  },
  {
   "cell_type": "code",
   "execution_count": 39,
   "metadata": {},
   "outputs": [
    {
     "name": "stdout",
     "output_type": "stream",
     "text": [
      "restaurant\n"
     ]
    }
   ],
   "source": [
    "lemming = WordNetLemmatizer()\n",
    "print(lemming.lemmatize(\"restaurants\"))"
   ]
  },
  {
   "cell_type": "code",
   "execution_count": 56,
   "metadata": {},
   "outputs": [],
   "source": [
    "def process(data_df):\n",
    "    data_df['text'] = data_df['text'].str.lower()\n",
    "    print(1)\n",
    "    data_df['sentences'] = data_df.apply(split_to_sentences,axis=1)\n",
    "    print(2)\n",
    "    data_df['words'] = data_df.apply(identify_tokens,axis=1)\n",
    "    print(3)\n",
    "    data_df['words_useful'] = data_df.apply(select_tagged,axis=1)\n",
    "    print(4)\n",
    "    data_df['words_useful'] = data_df.apply(remove_stops,axis=1)\n",
    "    print(5)\n",
    "    data_df['words_lemmatized'] = data_df.apply(lem_list, axis=1)\n",
    "    print(6)\n",
    "    data_df['words_meaningful'] = data_df.apply(unpolarized, axis=1)\n",
    "    print(7)\n",
    "    #data_df['index_meaningful'] = data_df.apply(index_words,axis=1)\n",
    "    #print(8)\n",
    "    data_df['joined_words'] = data_df.apply(rejoin_words,axis=1)\n",
    "\n",
    "    return data_df"
   ]
  },
  {
   "cell_type": "code",
   "execution_count": 58,
   "metadata": {},
   "outputs": [
    {
     "name": "stdout",
     "output_type": "stream",
     "text": [
      "1\n",
      "2\n",
      "3\n",
      "4\n",
      "5\n",
      "6\n",
      "7\n"
     ]
    },
    {
     "data": {
      "text/html": [
       "<div>\n",
       "<style scoped>\n",
       "    .dataframe tbody tr th:only-of-type {\n",
       "        vertical-align: middle;\n",
       "    }\n",
       "\n",
       "    .dataframe tbody tr th {\n",
       "        vertical-align: top;\n",
       "    }\n",
       "\n",
       "    .dataframe thead th {\n",
       "        text-align: right;\n",
       "    }\n",
       "</style>\n",
       "<table border=\"1\" class=\"dataframe\">\n",
       "  <thead>\n",
       "    <tr style=\"text-align: right;\">\n",
       "      <th></th>\n",
       "      <th>review_id</th>\n",
       "      <th>business_id</th>\n",
       "      <th>stars_x</th>\n",
       "      <th>stars_y</th>\n",
       "      <th>date</th>\n",
       "      <th>city</th>\n",
       "      <th>text</th>\n",
       "      <th>categories</th>\n",
       "      <th>sentences</th>\n",
       "      <th>words</th>\n",
       "      <th>words_useful</th>\n",
       "      <th>words_lemmatized</th>\n",
       "      <th>words_meaningful</th>\n",
       "      <th>joined_words</th>\n",
       "    </tr>\n",
       "  </thead>\n",
       "  <tbody>\n",
       "    <tr>\n",
       "      <td>0</td>\n",
       "      <td>vkVSCC7xljjrAI4UGfnKEQ</td>\n",
       "      <td>AEx2SYEUJmTxVVB18LlCwA</td>\n",
       "      <td>5</td>\n",
       "      <td>4.0</td>\n",
       "      <td>2016-05-28</td>\n",
       "      <td>Montréal</td>\n",
       "      <td>super simple place but amazing nonetheless. it...</td>\n",
       "      <td>Diners;Food;Restaurants;Delis</td>\n",
       "      <td>[super simple place but amazing nonetheless,  ...</td>\n",
       "      <td>[[super, simple, place, but, amazing, nonethel...</td>\n",
       "      <td>[[place, nonetheless], [thing], [bologna, sala...</td>\n",
       "      <td>[[place, nonetheless], [thing], [bologna, sala...</td>\n",
       "      <td>[[place, nonetheless], [thing], [bologna, sala...</td>\n",
       "      <td>[place, nonetheless, thing, bologna, salami, s...</td>\n",
       "    </tr>\n",
       "    <tr>\n",
       "      <td>1</td>\n",
       "      <td>n6QzIUObkYshz4dz2QRJTw</td>\n",
       "      <td>VR6GpWIda3SfvPC-lg9H3w</td>\n",
       "      <td>5</td>\n",
       "      <td>4.5</td>\n",
       "      <td>2016-05-28</td>\n",
       "      <td>Montréal</td>\n",
       "      <td>small unassuming place that changes their menu...</td>\n",
       "      <td>Restaurants;Canadian (New);Italian</td>\n",
       "      <td>[small unassuming place that changes their men...</td>\n",
       "      <td>[[small, unassuming, place, that, changes, the...</td>\n",
       "      <td>[[place, menu], [decor, vibe, seat, restaurant...</td>\n",
       "      <td>[[place, menu], [decor, vibe, seat, restaurant...</td>\n",
       "      <td>[[place, menu], [decor, vibe, seat, restaurant...</td>\n",
       "      <td>[place, menu, decor, vibe, seat, restaurant, c...</td>\n",
       "    </tr>\n",
       "    <tr>\n",
       "      <td>2</td>\n",
       "      <td>MV3CcKScW05u5LVfF6ok0g</td>\n",
       "      <td>CKC0-MOWMqoeWf6s-szl8g</td>\n",
       "      <td>5</td>\n",
       "      <td>4.0</td>\n",
       "      <td>2016-05-28</td>\n",
       "      <td>Outremont</td>\n",
       "      <td>lester's is located in a beautiful neighborhoo...</td>\n",
       "      <td>Specialty Food;Food;Sandwiches;Restaurants;Bur...</td>\n",
       "      <td>[lester's is located in a beautiful neighborho...</td>\n",
       "      <td>[[lester, is, located, in, a, beautiful, neigh...</td>\n",
       "      <td>[[lester's, neighborhood], [meat, deli's, bris...</td>\n",
       "      <td>[[lester's, neighborhood], [meat, deli's, bris...</td>\n",
       "      <td>[[lester's, neighborhood], [meat, deli's, bris...</td>\n",
       "      <td>[lester's, neighborhood, meat, deli's, brisket...</td>\n",
       "    </tr>\n",
       "    <tr>\n",
       "      <td>3</td>\n",
       "      <td>IXvOzsEMYtiJI0CARmj77Q</td>\n",
       "      <td>ACFtxLv8pGrrxMm6EgjreA</td>\n",
       "      <td>4</td>\n",
       "      <td>3.5</td>\n",
       "      <td>2016-05-28</td>\n",
       "      <td>Montréal</td>\n",
       "      <td>love coming here. yes the place always needs t...</td>\n",
       "      <td>Fast Food;Restaurants;Burgers</td>\n",
       "      <td>[love coming here,  yes the place always needs...</td>\n",
       "      <td>[[love, coming, here], [yes, the, place, alway...</td>\n",
       "      <td>[[love], [place, floor, peanuts, shell, bit], ...</td>\n",
       "      <td>[[love], [place, floor, peanut, shell, bit], [...</td>\n",
       "      <td>[[], [place, floor, peanut, shell, bit], [food...</td>\n",
       "      <td>[place, floor, peanut, shell, bit, food, speak...</td>\n",
       "    </tr>\n",
       "    <tr>\n",
       "      <td>4</td>\n",
       "      <td>L_9BTb55X0GDtThi6GlZ6w</td>\n",
       "      <td>s2I_Ni76bjJNK9yG60iD-Q</td>\n",
       "      <td>4</td>\n",
       "      <td>4.5</td>\n",
       "      <td>2016-05-28</td>\n",
       "      <td>Montréal</td>\n",
       "      <td>had their chocolate almond croissant and it wa...</td>\n",
       "      <td>Bakeries;Restaurants;Food;Sandwiches;Cafes;Cof...</td>\n",
       "      <td>[had their chocolate almond croissant and it w...</td>\n",
       "      <td>[[had, their, chocolate, almond, croissant, an...</td>\n",
       "      <td>[[chocolate, almond, croissant], [buttery, cho...</td>\n",
       "      <td>[[chocolate, almond, croissant], [buttery, cho...</td>\n",
       "      <td>[[chocolate, almond, croissant], [buttery, cho...</td>\n",
       "      <td>[chocolate, almond, croissant, buttery, chocol...</td>\n",
       "    </tr>\n",
       "  </tbody>\n",
       "</table>\n",
       "</div>"
      ],
      "text/plain": [
       "                review_id             business_id  stars_x  stars_y  \\\n",
       "0  vkVSCC7xljjrAI4UGfnKEQ  AEx2SYEUJmTxVVB18LlCwA        5      4.0   \n",
       "1  n6QzIUObkYshz4dz2QRJTw  VR6GpWIda3SfvPC-lg9H3w        5      4.5   \n",
       "2  MV3CcKScW05u5LVfF6ok0g  CKC0-MOWMqoeWf6s-szl8g        5      4.0   \n",
       "3  IXvOzsEMYtiJI0CARmj77Q  ACFtxLv8pGrrxMm6EgjreA        4      3.5   \n",
       "4  L_9BTb55X0GDtThi6GlZ6w  s2I_Ni76bjJNK9yG60iD-Q        4      4.5   \n",
       "\n",
       "         date       city                                               text  \\\n",
       "0  2016-05-28   Montréal  super simple place but amazing nonetheless. it...   \n",
       "1  2016-05-28   Montréal  small unassuming place that changes their menu...   \n",
       "2  2016-05-28  Outremont  lester's is located in a beautiful neighborhoo...   \n",
       "3  2016-05-28   Montréal  love coming here. yes the place always needs t...   \n",
       "4  2016-05-28   Montréal  had their chocolate almond croissant and it wa...   \n",
       "\n",
       "                                          categories  \\\n",
       "0                      Diners;Food;Restaurants;Delis   \n",
       "1                 Restaurants;Canadian (New);Italian   \n",
       "2  Specialty Food;Food;Sandwiches;Restaurants;Bur...   \n",
       "3                      Fast Food;Restaurants;Burgers   \n",
       "4  Bakeries;Restaurants;Food;Sandwiches;Cafes;Cof...   \n",
       "\n",
       "                                           sentences  \\\n",
       "0  [super simple place but amazing nonetheless,  ...   \n",
       "1  [small unassuming place that changes their men...   \n",
       "2  [lester's is located in a beautiful neighborho...   \n",
       "3  [love coming here,  yes the place always needs...   \n",
       "4  [had their chocolate almond croissant and it w...   \n",
       "\n",
       "                                               words  \\\n",
       "0  [[super, simple, place, but, amazing, nonethel...   \n",
       "1  [[small, unassuming, place, that, changes, the...   \n",
       "2  [[lester, is, located, in, a, beautiful, neigh...   \n",
       "3  [[love, coming, here], [yes, the, place, alway...   \n",
       "4  [[had, their, chocolate, almond, croissant, an...   \n",
       "\n",
       "                                        words_useful  \\\n",
       "0  [[place, nonetheless], [thing], [bologna, sala...   \n",
       "1  [[place, menu], [decor, vibe, seat, restaurant...   \n",
       "2  [[lester's, neighborhood], [meat, deli's, bris...   \n",
       "3  [[love], [place, floor, peanuts, shell, bit], ...   \n",
       "4  [[chocolate, almond, croissant], [buttery, cho...   \n",
       "\n",
       "                                    words_lemmatized  \\\n",
       "0  [[place, nonetheless], [thing], [bologna, sala...   \n",
       "1  [[place, menu], [decor, vibe, seat, restaurant...   \n",
       "2  [[lester's, neighborhood], [meat, deli's, bris...   \n",
       "3  [[love], [place, floor, peanut, shell, bit], [...   \n",
       "4  [[chocolate, almond, croissant], [buttery, cho...   \n",
       "\n",
       "                                    words_meaningful  \\\n",
       "0  [[place, nonetheless], [thing], [bologna, sala...   \n",
       "1  [[place, menu], [decor, vibe, seat, restaurant...   \n",
       "2  [[lester's, neighborhood], [meat, deli's, bris...   \n",
       "3  [[], [place, floor, peanut, shell, bit], [food...   \n",
       "4  [[chocolate, almond, croissant], [buttery, cho...   \n",
       "\n",
       "                                        joined_words  \n",
       "0  [place, nonetheless, thing, bologna, salami, s...  \n",
       "1  [place, menu, decor, vibe, seat, restaurant, c...  \n",
       "2  [lester's, neighborhood, meat, deli's, brisket...  \n",
       "3  [place, floor, peanut, shell, bit, food, speak...  \n",
       "4  [chocolate, almond, croissant, buttery, chocol...  "
      ]
     },
     "execution_count": 58,
     "metadata": {},
     "output_type": "execute_result"
    }
   ],
   "source": [
    "df = pd.read_csv('data_yelp/preprocessed/categories_30000/yelp_academic_dataset_review_Restaurants.csv')\n",
    "processed_df = process(df)\n",
    "processed_df.head(5)"
   ]
  },
  {
   "cell_type": "markdown",
   "metadata": {},
   "source": [
    "### Save as a csv"
   ]
  },
  {
   "cell_type": "code",
   "execution_count": 61,
   "metadata": {},
   "outputs": [],
   "source": [
    "path = 'data_yelp/preprocessed/yelp_academic_dataset_review_Restaurants.pkl'\n",
    "\n",
    "\n",
    "processed_df.to_pickle(path)\n",
    "\n"
   ]
  },
  {
   "cell_type": "markdown",
   "metadata": {},
   "source": [
    "### Get dataframe"
   ]
  },
  {
   "cell_type": "code",
   "execution_count": 62,
   "metadata": {},
   "outputs": [],
   "source": [
    "path = 'data_yelp/preprocessed/yelp_academic_dataset_review_Restaurants.pkl'\n",
    "\n",
    "processed_df = pd.read_pickle(path)\n"
   ]
  },
  {
   "cell_type": "markdown",
   "metadata": {},
   "source": [
    "## Build graph"
   ]
  },
  {
   "cell_type": "code",
   "execution_count": 127,
   "metadata": {},
   "outputs": [
    {
     "name": "stdout",
     "output_type": "stream",
     "text": [
      "{'sell': 97, 'wrecked': 5, 'vehicle': 9856, 'purchasing': 198, 'began': 21, 'having': 148, 'make': 218, 'pocket': 8, 'repair': 422, 'suspension': 5, 'trade': 87, 'process': 60, 'found': 138, 'planet': 8, 'nissan': 54, 'had': 1131, 'sold': 91, 'knowing': 27, 'wa': 2364, 'involved': 16, '\"major\"': 1, 'car': 596, 'accident': 45, 'caused': 10, 'frame': 5, 'damage': 66, 'month': 131, 'selling': 32, 'skip': 1, 'chain': 7, 'bring': 200, \"it's\": 105, 'little': 45, \"you've\": 5, 'reached': 5, 'point': 50, \"can't\": 46, 'justify': 1, 'taking': 190, 'dealership': 417, 'service': 728, 'recommend': 271, 'shop': 311, 'need': 364, 'done': 333, \"don't\": 175, 'want': 153, 'get': 601, 'scammed': 3, 'have': 1404, 'inventory': 15, 'sale': 174, 'staff': 73, 'bought': 167, 'maximum': 2, 'paid': 54, 'way': 113, 'am': 180, 'major': 33, 'issue': 255, 'drive': 258, 'coming': 70, 'purchase': 400, 'went': 277, 'king': 7, 'azure': 3, \"didn't\": 180, 'do': 383, 'anything': 96, 'exceeded': 2, 'expectation': 18, 'being': 148, 'taken': 130, 'care': 203, 'came': 158, 'tony': 10, 'team': 61, 'worked': 101, 'use': 84, 'business': 120, 'take': 552, 'commercial': 2, 'personal': 56, 'wes': 3, 'be': 763, 'maintaining': 5, 'stopped': 24, 'rohrich': 3, 'toyota': 68, 'look': 171, 'selection': 15, 'used': 232, \"i'm\": 141, 'surprised': 11, 'simple': 25, 'thing': 109, 'brake': 56, 'cleanliness': 2, 'been': 445, 'checked': 56, 'fixed': 147, 'putting': 17, 'lot': 171, 'arrived': 41, 'pick': 126, 'were': 510, 'told': 356, 'gas': 23, 'anyone': 137, 'looking': 270, 'new': 605, 'buy': 210, 'say': 114, 'are': 496, 'inspected': 43, 'mechanic': 142, 'talked': 22, 'finance': 36, 'company': 106, 'said': 201, '(network)': 1, 'fix': 117, 'unwind': 1, 'deal': 111, 'put': 125, 'loan': 29, 'other': 263, 'vendor': 2, 'down': 10, 'payment': 57, 'made': 158, 'truck': 78, 'day': 368, '$2400': 1, 'dollar': 20, 'hour': 165, 'received': 93, 'call': 148, 'letting': 10, 'know': 235, 'necessary': 18, 'due': 57, 'age': 10, 'condition': 54, 'hontech': 1, 'refer': 18, 'friend': 81, 'japanese': 2, 'import': 5, 'continue': 49, 'pricing': 26, 'affordable': 11, 'luxury': 29, 'beat': 3, 'decide': 13, 'north': 9, '$40': 2, 'walk': 28, '\"business\"': 1, '\"if': 1, 'financing': 27, 'run': 43, 'credit': 41, 'jeff': 7, 'looked': 75, 'took': 346, 'test': 159, 'called': 165, 'tow': 49, 'several': 106, 'working': 97, 'sean': 2, 'getting': 161, 'repaired': 81, 'hesitate': 8, 'west': 10, 'craig': 4, 'work': 507, 'customer': 211, \"i've\": 173, 'multiple': 32, 'give': 122, 'optimistic': 1, 'time': 525, 'table': 5, 'repairing': 19, 'later': 11, 'promised': 29, 'brought': 177, 'tell': 107, 'pissed': 5, 'ft': 2, 'exhibit': 1, 'same': 144, 'problem': 200, 'intention': 13, 'left': 111, 'third': 21, 'visit': 19, 'department': 63, 'is': 935, 'phenominal': 1, \"she's\": 1, 'pushy': 11, 'ha': 262, 'following': 17, 'additional': 33, 'question': 63, 'previous': 38, 'certified': 50, 'pre-owned': 32, 'location': 110, 'today': 51, 'early': 12, 'oil': 236, 'change': 178, 'check': 133, 'leave': 75, 'summer': 9, 'road': 44, 'trip': 22, 'picked': 73, 'different': 137, 'decided': 81, 'order': 35, 'part': 136, \"wouldn't\": 67, 'turn': 28, 'week': 159, 'completed': 35, 'discovered': 9, 'setting': 4, 'changed': 36, 'possession': 10, 'buying': 138, 'tire': 138, 'rim': 12, 'year': 353, 'guy': 146, 'pay': 96, 'asked': 137, 'see': 141, 'window': 24, 'sticker': 15, 'particular': 21, 'place': 251, 'purchased': 370, 'juke': 2, 'listened': 12, 'manager': 93, 'nobody': 8, 'bothered': 4, 'calling': 23, 'let': 86, 'update': 35, 'w\\\\/': 6, 'family': 141, 'owned': 45, 'trust': 108, 'got': 246, 'everything': 83, 'go': 252, 'earlier': 11, 'fall': 10, 'keep': 74, 'mind': 28, 'leaving': 32, 'town': 33, 'christmas': 1, 'eve': 2, 'trying': 61, 'engine': 58, 'knock': 3, 'noise': 23, 'turning': 9, 'servicing': 44, 'pete': 1, 'tried': 54, 'find': 161, 'seeking': 4, 'live': 18, 'massachusetts': 1, 'line': 25, 'flew': 2, 'wisconsin': 2, 'misled': 1, 'cylinder': 2, 'lied': 16, 'kevin': 9, 'second': 77, 'key': 66, 'next': 152, 'disgruntled': 2, 'knew': 62, 'nothing': 70, 'remake': 1, 'come': 174, 'tank': 6, 'billluke': 1, 'street': 16, 'mi': 2, 'le': 74, 'newer': 23, 'price': 332, '$1000': 8, 'cash': 24, 'offer': 66, 'addition': 15, 'returning': 26, 'did': 275, 'claim': 20, 'perform': 17, 'threw': 8, 'gave': 106, '\"store': 1, 'credit\"': 1, '$80': 3, 'owner': 70, 'chance': 16, 'earn': 7, 'party': 7, 'one': 56, 'touch': 20, 'final': 16, 'charged': 25, '$3': 10, 'careful': 5, 'type': 52, 'mistake': 8, 'lump': 2, 'weather': 7, 'stripping': 1, 'hear': 7, 'air': 22, 'thru': 4, 'driving': 89, 'freeway': 6, 'hand': 47, 'drop': 34, '@': 5, 'ford': 114, 'everyone': 48, 'steve': 12, 'personable': 4, 'kept': 61, 'informed': 43, 'going': 217, 'carmen': 1, 'gone': 21, 'distance': 6, \"carmen's\": 1, 'night': 34, 'morning': 49, 'insurance': 38, 'sent': 35, 'wednesday': 7, 'bumper': 11, 'friday': 16, '(today)': 1, 'dropped': 71, 'ride': 23, 'arranged': 12, 'rental': 53, 'wait': 51, 'offered': 59, 'donut': 2, 'lady': 12, 'phone': 82, '(i': 17, 'name)': 2, 'seemed': 23, 'irritated': 2, 'needed': 193, 'address': 8, 'set': 31, 'transaction': 6, 'paperwork': 43, 'using': 22, 'incorrect': 6, 'vin': 9, 'document': 9, 'insured': 2, 'registered': 8, 'drove': 115, 'negligent': 1, 'error': 5, 'lifestyle': 1, 'request': 16, 'corvette': 2, 'motor': 25, 'bit': 19, 'performance': 23, 'decking': 1, 'shaving': 1, 'head': 12, 'rebuilding': 1, 'crank': 1, 'cam': 2, 'split': 1, 'ratio': 1, 'try': 73, 'hp': 1, 'monitoring': 3, 'attitude': 9, 'believe': 24, 'read': 25, 'people': 109, 'knowledgeable': 59, 'slap': 1, 'item': 34, 'realizing': 4, 'cause': 14, 'warranty': 140, 'last': 112, 'clutch': 5, 'installed': 18, 'kid': 11, 'minute': 86, 'hold': 20, 'home': 83, 'park': 11, 'infiniti': 8, 'experience': 182, 'placed': 11, 'suited': 2, 'budget': 20, 'wish': 18, 'list': 19, 'keeping': 10, 'status': 35, 'treating': 3, 'high': 35, 'level': 15, 'respect': 15, 'based': 24, 'number': 46, 'profit': 2, 'margin': 3, 'manzel': 1, 'auto': 117, 'trusted': 10, 'shawn': 1, 'met': 23, 'referral': 3, 'front': 53, 'end': 61, 'gotten': 14, 'damaged': 26, 'highway': 5, 'june': 6, 'presented': 10, 'afternoon': 13, 'mike': 24, 'adam': 4, 'overheating': 8, 'agreed': 45, 'inspection': 93, 'thought': 50, 'convenient': 9, 'happened': 16, 'finished': 32, 'nervous': 6, 'manufacturer': 9, 'jim': 8, 'shorkey': 2, 'stayed': 16, 'tip': 6, 'tech': 26, 'noticed': 33, 'lubed': 1, 'considerable': 4, 'amount': 39, 'cleaned': 12, 'dripping': 1, 'understand': 29, 'delay': 6, 'supplier': 1, 'loaner': 71, 'ryan': 7, 'such': 28, 'upside': 6, 'current': 38, 'paying': 31, 'mine': 25, '(aside': 1, 'motorcycles)': 1, 'returned': 40, 'glendale': 4, 'rd': 4, 'state': 31, 'given': 60, 'telephone': 2, 'name': 16, 'value': 45, 'spent': 43, 'receptive': 1, 'involvement': 1, 'addressing': 1, 'novice': 1, 'his\\\\/her': 1, \"we've\": 19, 'alma': 2, 'school': 5, 'guadalupe': 1, 'couple': 66, 'occasion': 12, 'treated': 27, '(both': 1, 'preowned': 11, 'mini': 11, 'coupes)': 1, 'attempting': 1, 'register': 13, 'notified': 4, 'dmv': 7, 'smogged': 5, 'trusting': 7, 'rebel': 2, 'future': 88, 'maintenance': 96, 'advise': 16, 'avoid': 11, 'helped': 51, \"you're\": 40, 'market': 64, 'reliable': 25, 'yours': 2, 'hundred': 3, 'bill': 28, 'negligence': 3, 'incompetence': 2, '\"covered\"': 2, 'loose': 7, 'wheel': 43, 'normal': 8, 'review': 49, 'qualify': 6, 'concerned': 11, 'jeep': 41, 'follow-up': 2, 'force': 3, '(which': 24, 'weeks)': 1, \"wasn't\": 78, 'making': 47, \"won't\": 45, 'asking': 26, 'bryce': 1, 'lane': 3, 'chapman': 37, 'cannot': 21, 'reason': 39, 'start': 53, 'search': 26, 'camelback': 16, 'vw': 19, 'listed': 30, '$2000': 3, 'dealer': 101, 'mario': 2, 'assured': 15, 'plenty': 9, 'life': 43, 'appointment': 59, 'sitting': 17, 'day-this': 1, 'replace': 29, 'evaporator': 1, 'serviced': 151, 'chrysler': 14, 'corp': 2, 'goodwill': 2, 'occurred': 6, 'prior-my': 1, 'separate': 7, 'repairs\\\\/maintenance': 1, 'felt': 55, 'speak': 13, 'salesman': 87, 'truth': 3, 'lying': 6, 'decision': 25, 'think': 77, 'wanted': 269, 'share': 5, 'opinion': 8, 'rep': 27, 'eric': 11, 'admit': 3, 'screwed': 7, 'only': 86, 'stay': 17, 'job': 85, 'south': 3, 'strip': 3, 'notch': 10, 'similar': 11, 'suv': 14, 'suggested': 14, 'option': 64, \"we're\": 13, 'double': 5, '\"book': 1, 'sheet\"': 1, 'attention': 15, '\"': 29, 'collision': 28, 'not)': 3, 'doubt': 9, 'caliber': 10, 'wonder': 7, 'detail': 51, 'peace': 3, 'offering': 11, '\"have': 1, 'resolved': 8, 'mercedes': 12, 'include': 10, 'tax': 9, 'registration': 13, 'child': 10, 'patient': 13, 'understanding': 5, 'nitro': 1, 'greeted': 17, 'listen': 7, 'regarding': 20, 'worried': 5, 'notoriety': 1, 'older': 35, 'expressed': 3, 'supposed': 14, 'dropping': 10, 'considering': 19, 'outside': 12, 'greet': 2, 'black': 7, 'cc': 1, 'aftermarket': 12, 'figure': 16, 'fluke--it': 1, 'german': 12, 'on-line': 1, 'husband': 57, 'inspect': 25, 'recommendation': 13, 'cheaper': 10, 'return': 82, 'remained': 3, 'follow': 11, 'negotiated': 6, 'add': 27, 'ons': 4, 'renegotiate': 3, 'stock': 18, 'showed': 63, 'featured': 2, 'color': 18, 'like': 29, 'fact': 43, 'charging': 7, 'feature': 51, 'lifetime': 13, 'ended': 64, 'manor': 2, 'depend': 5, 'livelihood': 1, \"he's\": 17, 'playing': 3, 'game': 6, 'safety': 23, 'signed': 13, 'insuance': 1, 'roadside': 4, 'assistance': 9, 'policy': 8, 'courtesy': 38, 'install': 7, 'fee': 15, 'product': 7, 'wife': 59, 'replaced': 47, 'maintanence\\\\/service': 2, 'corrected': 4, 'waited': 24, 'modification': 1, '\"moe\"': 1, 'busy': 16, '(due': 2, 'schedule': 16, 'erratic': 2, 'handed': 7, 'jason': 11, 'assist': 16, 'staffing': 1, 'tim': 9, 'symdon': 2, 'trade-in': 25, 'approval': 7, 'amir': 1, 'answered': 19, '(not': 5, 'hybrid)': 1, 'benefit': 3, 'bernie': 1, 'wanting': 7, 'tinted': 4, 'oleg': 1, '\"notice\"': 1, 'retired': 3, 'hit': 24, 'doing': 42, 'help': 79, 'unsafe': 8, 'mother': 9, 'upgrade': 11, 'form': 6, 'ask': 44, 'beware': 4, 'tracking': 3, 'device': 4, 'towed': 48, 'cleaning': 8, 'detailing': 12, 'interior': 16, 'rv': 2, 'upfront': 4, 'jump': 4, 'length': 3, 'changed)': 1, 'covered': 23, 'extended': 23, 'stubborn': 1, 'passionate': 1, 'leasing': 18, 'mazda': 14, 'skyactiv': 1, 'bar': 1, 'pressure': 24, 'chelsea': 1, 'jj': 2, 'father': 8, 'moral': 1, 'support': 3, 'outright': 4, 'giving': 30, 'floor': 19, 'mat': 8, 'actual': 8, 'lexus': 28, '(my': 3, 'hubby': 3, 'scott': 14, 'coach': 3, 'jonathan': 4, 'gerrie': 1, 'representative': 4, 'handled': 7, 'ensure': 26, 'estimate': 35, 'quote': 45, 'expect': 26, 'money': 70, 'unrepaired': 1, 'neglect': 3, 'forever': 5, 'fessed': 1, 'causing': 16, 'shame': 3, 'professional': 37, 'manner': 16, 'basic': 9, 'replacing': 13, \"i'll\": 31, 'jay': 4, 'havnt': 1, 'enough': 18, 'warned': 2, 'mileage': 29, 'transmission': 55, 'fluid': 19, 'flush': 12, 'fill': 8, \"could've\": 1, 'plus': 1, 'highlander': 4, 'fob': 4, 'starting': 6, 'passed': 16, 'flying': 2, 'colour': 1, 'mechanical': 15, 'record': 10, 'determine': 4, 'inexpensive': 2, 'commuter': 4, 'hope': 18, 'emotional': 1, 'attachment': 1, 'scratch': 17, 'plan': 24, 'afford': 11, 'slide': 2, '\"other': 1, 'longer': 34, 'prepared': 9, 'overnight': 9, 'curt': 1, 'battery': 24, \"i'd\": 25, 'sal': 2, 'bmw': 30, 'la': 37, 'vega': 39, 'surrendered': 1, 'resell': 2, '(now': 1, 'totaling': 2, 'four)': 1, 'check-up': 1, 'tom\\\\/catskill': 1, 'carte': 1, 'blanche': 1, 'permission': 5, 'deem': 1, '(note': 3, 'coverage': 12, 'rotation': 13, 'aamco': 4, 'work-': 2, 'illuminated': 3, 'sign': 20, 'beacon': 2, 'shining': 3, 'illustrious': 2, 'establishment': 9, 'sat': 25, 'forecourt': 2, 'period': 5, 'reinforce': 2, 'severity': 2, 'technical': 6, 'ailing': 5, \"'service\": 2, \"advisor'\": 2, 'eversole': 2, 'saying': 36, 'collected': 2, 'cost': 78, '$417': 2, 'print': 5, 'stated': 32, '\"used': 1, 'condition\"': 1, 'seeing': 13, 'big': 37, 'dent': 14, 'back': 29, 'aftercare': 1, 'gmc': 14, 'denali': 2, 'dec': 1, 'mile': 87, 'specific': 44, 'inc': 2, 'power': 12, 'train': 3, 'seek': 2, 'whenever': 8, 'regular': 29, 'solicit': 1, 'nissan--even': 1, 'dave': 11, 'firestone': 11, 'crew': 12, 'crack': 5, 'chosen': 5, 'rebate': 4, 'bury': 1, 'downess': 1, \"terry's\": 1, 'suggest': 17, 'paper': 21, 'long': 43, 'story': 18, 'short': 16, 'extra': 47, '$900': 4, 'added': 19, 'star': 22, 'verbal': 4, 'interaction': 5, 'feel': 74, 'bullied': 1, 'choice': 16, 'post': 2, 'others': 17, 'system': 42, 'paul': 13, 'talk': 23, 'placate': 1, 'explain': 37, 'happening\\\\/wrong': 1, 'city': 10, 'urgent': 2, 'survival': 1, 'replacement': 24, 'failing': 3, 'side': 35, 'store': 21, 'nail': 5, 'complaining': 2, 'pricey': 2, 'compared': 6, 'diagnostic\\\\/inspection': 1, '(scratch': 1, 'arrangement': 13, '(3\\\\/20\\\\/17)': 1, 'tempe': 24, 'asks': 6, 'waiting': 65, 'arrive': 11, 'receive': 25, 'leo': 4, 'telling': 23, 'exterior': 4, 'testament': 1, 'owning': 12, 'technology': 7, 'focused': 4, 'combined': 1, 'integrated': 1, 'provided': 42, 'tesla': 2, 'started': 65, 'police': 5, 'released': 5, 'nicky': 2, 'requires': 3, 'solution': 8, 'moved': 19, 'writing': 6, 'kiwi': 1, 'helpful': 45, 'son': 19, 'lack': 13, '$300': 8, 'upcharge': 1, 'turned': 27, 'filter': 14, 'cadillac': 8, 'communication': 18, 'wendell': 1, 'thorough': 15, 'diagnosing': 12, 'helping': 18, 'grille': 1, 'badge': 2, 'handle': 14, 'seat': 24, 'driver': 27, 'writer': 3, 'avoiding': 1, '\"repair\"': 2, 'refunded': 3, '\"leak': 1, 'repairs\"': 2, 'total': 24, 'leak': 22, 'finding': 26, 'circumstance': 4, 'upset': 12, 'neglected': 2, 'bringing': 59, 'benz': 3, \"they're\": 17, 'treat': 20, 'country': 14, 'parent': 8, 'someone': 79, '(it': 6, 'recall': 44, 'parts)': 2, 'clear': 20, 'heart': 2, 'keith': 10, 'josh': 6, 'accommodate': 6, 'competitive': 10, 'complete': 38, 'explanation': 9, 'braking': 3, 'coolant': 8, 'hybrid': 11, 'electric': 5, 'located': 13, 'lease': 50, 'walked': 45, 'ruined': 2, 'david': 13, 'earnhardt': 17, 'searching': 12, 'valley': 22, 'qualified': 4, 'blurred': 1, 'sit': 18, 'pull': 16, 'parking': 21, 'space': 1, 'while': 10, 'bell': 27, 'whistle': 5, \"driver's\": 3, 'yes': 8, 'proceeded': 17, 'inside': 13, 'gm': 13, 'freezing': 1, 'wash': 35, '$30k-cash-purchased': 1, '\"we': 4, 'washing': 6, 'anytime\"': 1, 'automotive': 30, '(as': 7, 'am)': 1, 'consider': 23, 'concern': 24, 'idea': 14, 'john': 22, 'performs': 4, 'half': 32, 'dealt': 13, 'entire': 52, 'exception': 3, 'chevy': 25, 'explaining': 24, 'boy': 10, '$1': 6, '\"bmw': 1, 'genius\"': 1, 'initial': 11, 'training': 1, 'answer': 22, 'myriad': 1, 'krystel': 1, 'bockholt': 1, 'quoted': 15, 'model': 41, 'andrew': 7, 'report': 18, 'upsell': 3, 'phoenix': 12, 'encountered': 6, \"*doesn't*\": 1, 'written': 9, 'approved': 13, 'manager)': 10, 'implied': 2, 'acceptance': 1, 'word': 15, 'mess': 5, 'mvd': 1, 'traded': 18, 'progress': 13, 'chris': 18, 'died': 8, 'allow': 16, 'wade': 1, '(sales': 1, 'painting': 1, 'tho': 3, 'objective': 1, 'fixing': 22, \"that's\": 24, 'show': 52, \"aj's\": 1, 'assisting': 4, 'middle': 5, 'discussing': 7, 'quality': 54, 'facility': 10, 'priority': 7, 'charge': 64, 'spare': 5, 'longo': 1, 'contact': 37, 'pick-up': 6, 'barry': 9, 'rest': 15, 'somebody': 3, 'headlight': 8, 'employee': 23, 'driven': 23, 'entrance': 2, 'sending': 8, 'wild': 2, 'goose': 1, 'chase': 3, 'bother': 3, 'overall': 10, 'ownership': 3, 'rulon': 1, 'vicki': 2, 'surprise': 25, 'beginning': 4, 'happen': 8, 'twice': 6, 'march': 3, 'smoged': 1, 'frank': 8, 'weld': 1, 'door': 53, 'fender': 6, 'hood': 12, 'seen': 17, 'communicate': 5, 'crevice': 1, 'inch': 2, 'rain': 1, 'opened': 7, 'leaned': 1, 'body': 43, 'happening': 6, 'cussing': 1, 'piece': 14, 'continued': 12, 'cuss': 1, 'move': 16, 'im': 8, 'speaking': 6, 'array': 2, 'solve': 6, 'bouncing': 1, 'shaft': 2, 'tireworks': 2, 'competitor': 3, 'avondale': 10, '(edwin)': 1, 'rock': 6, 'chip': 6, \"he'd\": 6, 'timing': 4, 'belt': 10, 'bottom': 15, 'after-purchase': 1, 'unexpected': 4, 'stalled': 1, 'i-15': 1, 'primm': 1, 'san': 10, 'diego': 1, 'weekend': 29, 'advertise': 3, 'pre': 9, 'pulled': 24, 'fax': 7, 'steam': 1, 'august': 6, 'matthew': 1, 'wegener': 1, 'fuel': 16, 'relay': 1, 'larger': 8, 'room': 8, 'thinking': 17, 'something': 71, 'person': 57, 'learned': 6, 'sunland': 1, 'bob': 10, 'nick': 7, 'autobody': 1, '$600': 2, 'release': 16, 'centennial': 3, 'totaled': 14, 'express': 4, 'reevaluated': 2, 'saved': 5, 'brand': 77, 'passenger': 7, 'thank': 30, 'honesty': 12, 'rent': 9, '$7k': 1, '$10k': 1, 'debit': 2, 'card': 15, 'verify': 11, 'website': 31, 'approached': 3, 'info': 17, 'min': 11, 'hadnt': 1, 'shown': 11, 'priced': 25, 'plug': 12, 'mention': 22, 'tome': 1, 'advice': 15, 'minor': 24, 'monkey': 1, 'wrench': 5, 'thrown': 2, 'opportunity': 7, 'jaguar': 1, 'maintain': 16, 'appreciate': 18, 'information': 46, 'quoting': 1, 'brian': 11, 'enterprise': 5, 'pep': 6, \"boys'\": 1, 'rate': 20, 'technician': 29, 'office': 17, \"wife's\": 5, 'checking': 20, 'odd': 5, 'paint': 28, 'forgot': 8, '\"repairs\"': 1, 'entrusted': 2, 'please': 29, \"ones'\": 1, 'saw': 36, 'michael': 7, 'nation': 8, 'remember': 3, 'al': 1, 'wont': 5, 'torque': 2, 'lugnuts': 4, 'acorn': 1, 'style': 5, 'mag': 1, 'required': 27, 'ranging': 3, 'spanking': 1, 'honda': 69, 'shirley': 1, 'tier': 2, 'example': 5, 'staying': 2, 'closed': 8, 'preference': 3, 'occupied': 1, 'toddler': 1, 'signing': 6, 'availability': 4, 'hotel': 4, 'wgat': 1, 'didnt': 7, 'push': 6, 'ything': 1, 'knowledge': 22, 'educated': 3, 'mark': 29, 'layer': 1, 'lie': 7, 'dishonesty': 1, 'reveal': 1, 'course': 16, 'figured': 13, 'trading': 19, 'lose': 9, 'hassle': 10, 'promise': 13, 'claimed': 5, 'wrangler': 5, 'recognition': 2, 'luis': 3, 'stepped': 3, '\"call': 1, 'duty\"': 2, 'delivery': 21, 'jon': 5, 'seem': 14, 'browsing': 1, 'database': 4, 'send': 18, \"aren't\": 9, 'eligible': 3, 'write': 5, 'script': 1, 'excluding': 1, 'marketing': 2, 'campaign': 1, 'voiding': 2, 'cover': 20, 'online': 45, 'inform': 10, 'ass': 3, \"couldn't\": 45, 'stocking': 2, \"isn't\": 13, \"#'s\": 1, 'miss': 7, 'promotional': 1, 'screw': 6, 'cracked': 3, 'trans': 1, 'pan': 4, 'quart': 2, 'dipstick': 4, 'minimum': 4, 'active': 2, 'volkswagen': 2, 'including': 22, 'jamie': 1, 'cox': 2, 'transferred': 4, 'copy': 6, 'account': 11, 'statement': 5, 'vantage': 2, \"west's\": 1, 'terrific': 4, 'internet': 24, 'provide': 21, '\"help': 1, 'us\"': 1, 'reducing': 1, 'expense': 7, 'ac': 18, 'unit': 5, 'loyalty': 4, 'discount': 15, 'mean': 11, 'verifiable': 1, 'documentation': 2, 'baldwin': 1, 'bros': 1, 'talking': 19, 'bashing': 1, 'low': 27, 'camaro': 2, 's': 7, 'running': 46, 'red': 6, 'hitting': 2, 'rear': 24, 'quarter': 1, 'gopro': 1, 'camera': 5, 'stolen': 7, 'kia': 25, 'upgrade\\\\/purchase': 1, 'arrival': 6, 'spoke': 23, 'advisor': 23, 'tranny': 2, 'dept': 2, 'backed': 6, 'appt': 4, 'discus': 13, 'manual': 5, 'key-fob': 1, 'group': 12, \"bruce's\": 1, 'considered': 3, 'alex': 7, 'customization': 2, 'chevrolet': 26, 'obvioulsy': 1, 'break': 21, 'tighten': 1, 'lug': 7, 'nut': 8, 'operation': 11, 'van': 18, 'broke': 15, 'dash': 4, 'single': 8, 'anywhere': 3, 'watch': 6, 'upstairs': 1, 'famiky': 1, 'polite': 9, 'anybody': 9, 'imperial': 3, 'guaranteed': 5, \"earnhardt's\": 2, 'exchange': 3, 'program': 3, 'advertising': 4, 'realize': 6, 'practice': 3, 'ton': 7, 'jiffy': 5, 'recommended': 29, 'fletcher': 6, 'unprofessional': 4, 'washed': 13, 'deciding': 5, 'synthetic': 11, 'conventional': 2, '(2001': 1, 'escape)': 1, 'remembered': 1, 'sound': 4, 'matter': 19, 'inquiring': 8, 're-call': 1, 'scheduled': 14, 'recommending': 6, 'negotiate': 7, 'impression': 3, 'showing': 22, 'escorted': 4, 'watched': 3, 'glass': 10, 'jetta': 1, 'uber': 3, 'veer': 1, 'picking': 22, '(hit': 1, 'reminded': 3, 'close': 10, 'doe': 47, 'toyomotors': 2, '($99)': 1, 'book': 10, 'intact': 1, 'wired': 1, 'delivered': 24, 'ordered': 9, 'kit': 1, 'losing': 4, '$20': 3, 'gift': 5, 'shape': 14, 'demo': 3, 'dad': 10, 'pair': 2, 'cell': 5, 'bluetooth': 6, 'average': 6, 'joe': 12, \"what's\": 10, 'us': 6, 'correct': 9, 'meet': 12, \"spec's\": 1, \"'german\": 1, \"motors'\": 1, 'proper': 2, 'lubricant': 1, 'woke': 2, 'oh': 10, \"let's\": 4, 'cousin': 2, 'loud': 4, 'clunking': 3, 'tool': 9, 'joke': 3, 'humor': 1, 'won': 1, 'prize': 1, 'shoe': 2, 'conversation': 6, 'gross': 1, 'gary': 3, 'criterion': 5, 'explorer': 5, 'man': 26, 'deserve': 3, 'spending': 10, '30-40': 1, 'thousand': 7, 'monday': 19, 'friday)': 1, 'guess': 16, 'rely': 3, 'shuttle': 6, 'ethic': 2, 'nader': 2, 'ghobrial': 2, 'provides': 4, 'com': 1, 'listing': 3, 'spec': 9, 'vin#': 2, 'receiving': 8, 'email': 25, '(internet': 2, 'replied': 4, 'stating': 9, '(again': 2, 'vin#)': 1, 'evening': 13, 'relative': 5, 'earth': 3, 'wealth': 1, 'coffee': 4, 'doughnut': 1, 'brown': 6, 'brother': 4, 'carfax': 10, 'immaculate': 3, 'windshield': 15, 'selected': 4, 'milt': 1, 'nonsense': 3, 'newport': 1, 'rus': 2, 'costly': 2, 'timely': 14, 'saving': 3, '(who': 3, 'stuck': 10, 'interstate': 1, 'prescott': 1, 'turbocharger': 1, 'vacuum': 4, 'pump': 13, 'authorized': 1, 'personalized': 2, 'barb': 1, 'halsey': 1, 'larry': 11, 'miller': 9, 'lived': 7, 'az': 8, 'tru': 2, 'cab': 3, \"limo's\": 1, 'known': 7, 'asap': 4, 'ourselves': 1, 'difference': 12, 'till': 4, 'hey': 3, 'gotta': 1, 'acceptable': 2, 'graded': 1, 'max': 5, 'situation': 21, 'direct': 6, 'muffler': 3, 'manufacturing': 4, 'strict': 1, 'illustration': 1, 'social': 2, 'event': 7, 'blower': 1, 'clamoring': 1, 'doodad': 1, 'nicer': 6, '$$$': 4, 'nissian': 1, 'workmanship': 3, 'bmw\\\\/': 1, 'area': 40, 'pathfinder': 1, 'existing': 3, 'looking(no': 1, 'pressure)': 1, 'locked': 8, 'choose': 8, 'ff': 1, 'date': 16, 'awaiting': 3, 'bunch': 5, 'stuff': 12, 'planned': 7, 'eat': 6, 'lunch': 7, 'daughter': 14, '(new': 3, 'lot)': 3, 'plate': 18, 'bank': 13, 'realized': 12, 'european': 7, 'luck': 6, 'bully': 1, 'tactic': 3, 'financed': 11, 'satellite': 1, 'radio': 10, 'kind': 7, 'wiring': 2, 'electrical': 7, 'tossed': 3, 'rid': 7, 'rad': 1, 'reprinted': 1, 'invoice': 5, 'submit': 1, 'audi': 17, 'chandler': 14, 'wished': 2, 'findlay': 16, 'procedure': 2, 'escape': 1, 'turbo': 1, '\"certified\"': 5, 'standard': 19, 'coupon': 9, 'mgr': 1, 'honored': 3, 'shuttled': 2, 'house': 12, 'portrayed': 2, 'range': 18, 'test-drove': 2, \"shane's\": 1, 'blue': 9, 'colton': 1, 'questioned': 2, 'calls\\\\/letters': 1, 'owed': 2, 'in)': 1, 'appeared': 2, 'requirement': 3, 'harass': 1, '\"buy': 1, 'back\"': 2, 'advised': 21, 'mount': 7, 'axle': 2, 'ron': 3, '$56': 1, 'counter': 11, 'stop': 23, 'mustang': 2, 'seems': 17, '\"courtesy': 1, 'imports\"': 1, 'escalade': 2, 'happier': 12, 'bay': 21, 'minuet': 2, 'texting': 2, 'watching': 3, 'drain': 3, 'joking': 1, 'coworkers': 3, 'jake': 2, 'mommy': 1, 'lemon': 6, 'encouraging': 1, 'recommend)': 1, 'orlando': 3, \"hasn't\": 6, 'touched': 3, 'opposed': 4, 'forcing': 4, 'curiosity': 1, 'ignorance': 1, 'sill': 1, \"earl's\": 1, 'mission': 1, '\"oh': 1, 'family-owned': 1, 'nearby': 4, 'philip': 1, 'vandalized': 1, 'access': 4, 'fiat': 5, '\"mitch\"': 1, 'stell-william': 1, 'gordon': 2, 'diagnosis': 21, 'thief': 1, 'forged': 1, 'title': 8, 'unsuspecting': 3, 'victim': 1, 'corner': 3, 'seized': 1, 'attempted': 9, 'effort': 12, 'responsibility': 8, 'theft': 1, 'agree': 10, 'rekey': 1, 'eager': 2, 'advantage': 14, 'sometimes': 3, 'equipped': 5, 'typical': 3, 'checklist': 4, 'tooth': 1, 'comb': 2, 'better-than-before-the-accident': 1, 'eye': 3, 'm': 8, 'rob': 5, 'hr': 5, 'lund': 1, 'planning': 7, 'dealing': 16, 'phone\\\\/text': 1, 'smoother': 1, 'dreamed': 2, '\"above': 1, 'beyond\"': 1, 'days)': 3, 'sum': 1, '\"opt\"': 1, 'haggle': 3, 'management': 12, 'throw': 3, '$399': 1, 'tint': 10, 'autonation': 26, 'appraised': 4, 'dont': 6, 'appraisal': 9, 'ordeal': 1, 'countless': 4, 'dwayne': 3, \"dwayne's\": 3, 'response': 14, '\"i': 8, 'member': 21, 'shopping': 26, 'settled': 5, 'crv': 1, 'mercy': 1, 'cross': 2, 'explained': 64, 'instructive': 1, 'aspect': 10, 'outback': 1, 'eurotech': 2, 'related': 7, 'domestic': 7, 'audio': 1, 'diagnosed': 14, '\"assigned\"': 1, 'decides': 1, 'tlc': 1, 'trim': 7, 'seamless': 3, 'calin': 1, 'worker': 3, 'goofing': 1, 'agreeable': 3, 'jared': 2, 'headed': 3, 'george': 1, 'daniel': 3, 'emphasized': 1, 'upsold': 2, '$15': 3, 'explains': 4, 'arizona': 18, 'nm)': 1, 'nm': 2, 'hope)': 1, '\"forever\"': 1, 'temporary': 1, 'lead': 4, 'foot': 5, 'control': 12, 'speed': 7, 'assessment': 9, 'identified': 4, 'contacted': 30, 'pouring': 2, 'baierl': 3, 'robert': 11, 'alright': 3, 'noon': 3, 'brining': 2, 'box': 2, 'exhaust': 6, 'radiator': 16, 'handeld': 1, 'greg': 4, 'dressell': 1, 'hendrick': 7, 'porsche': 4, 'scratched': 5, 'allignment': 2, 'possible': 30, 'security': 6, 'classic': 7, 'local': 11, 'community': 4, 'general': 12, 'rough': 5, 'stalling': 2, 'stand': 15, 'radius': 2, 'various': 12, '5-point': 1, 'rating': 5, 'score': 2, 'attempt': 12, \"there's\": 14, 'medium': 3, 'tab': 3, 'picture': 11, 'voice': 7, 'note': 9, '(ie': 4, 'includes': 7, 'berge': 8, 'october': 5, 'biggest': 4, 'justice': 1, 'visiting': 7, 'nightmare': 8, 'holiday': 3, 'jonathon': 1, 'tam': 1, 'aligned': 1, 'armstrong': 1, 'automotives': 3, 'stage': 4, 'honor': 10, 'fuss': 1, 'ben': 2, 'begin': 3, 'compressor': 2, 'reed': 1, 'meant': 9, 'awe': 2, 'hawthorne': 2, 'adora': 1, 'industry': 4, 'consultant': 3, 'pleasure': 12, 'smiling': 1, 'ear': 2, 'selling-': 1, 'closing': 10, 'creating': 3, \"world's\": 1, 'demoralizing': 1, 'belonging': 3, 'disappeared': 1, 'relaxed': 1, 'peoria': 11, 'swift': 1, 'breaking': 4, 'center': 13, 'console': 1, 'cover\\\\/latch': 1, 'rover': 7, \"(i'm\": 2, 'internal': 2, 'performed': 37, 'exterior)': 1, 'reminds': 1, 'educate': 2, 'occur': 2, 'arrange': 4, 'size': 5, 'shoving': 1, 'face': 6, 'lost': 17, 'smelled': 4, 'edge': 3, 'leaking': 12, 'driveway': 8, '(they': 8, 'construction': 1, 'time)': 3, 'heat': 7, 'shield': 2, 'emission': 15, '(this': 5, 'concerning': 2, 'therefore': 2, 'file': 5, 'formal': 1, 'bbb': 2, 'lifted': 4, 'raised': 3, '\"all': 2, \"sister's\": 2, 'open': 17, 'greed': 2, 'rip': 4, \"man's\": 2, 'lower': 19, 'monthly': 13, 'disheartening': 1, 'assumed': 3, 'negotiating': 9, 'wrote': 3, 'knucklehead': 1, 'out': 7, 'apache': 1, 'junction': 1, '\"jeff\"': 1, 'puddy': 1, 'sheet': 3, 'ticket': 3, 'view': 6, 'appear': 5, 'rebuilt': 5, 'spark': 6, 'wire': 5, \"weren't\": 13, 'universal': 1, 'platinum': 5, 'ripped': 5, \"guy's\": 3, 'snake': 1, 'happens': 10, 'ordering': 3, 'trustworthy': 9, 'evaluation': 2, 'preventing': 2, 'girl': 6, \"doesn't\": 17, 'squat': 3, 'prior': 8, 'bolt': 2, 'ground': 1, 'yesterday': 25, 'loading': 2, 'perishable': 2, 'grocery': 2, 'misstep': 1, '(such': 2, 'slipping': 1, \"bozarth's\": 1, 'phase': 2, 'retrieved': 7, 'meeting': 5, '(service': 2, 'overview': 3, 'demonstrated': 3, 'dodge': 21, 'journey': 1, 'debris': 2, 'gerber': 5, 'professionalism': 8, 'craftsmanship': 2, 'pickup': 9, '(the': 7, 'benson': 1, 'compare': 6, 'q5': 1, 'retrieve': 5, 'appraised)': 1, 'tomorrow': 10, 'damien': 1, 'setup': 3, 'vince': 2, 'updated': 23, 'eliminate': 2, 'headache': 6, 'served': 3, 'thompson': 1, 'row': 2, 'custom': 6, 'airbag': 8, 'proficient': 1, 'variety': 2, 'roger': 2, 'in': 7, 'allowed': 12, 'referred': 13, 'travel': 4, 'icc': 1, 'comp': 1, 'dodge\\\\/chrysler': 1, 'station': 6, 'iced': 1, 'tea': 1, 'finishing': 1, 'hartley': 1, 'agreement': 12, 'tuesday': 5, 'enormous': 4, 'buyer': 16, 'alternator': 2, 'diagnose': 15, 'rick': 6, 'landed': 1, 'messed': 4, 'in-paid': 1, 'introduced': 3, 'sheldon': 1, 'wayne': 1, 'confirm': 10, 'research': 19, 'a4': 1, 'ted': 3, 'flexible': 3, 'non': 7, 'board': 1, 'routine': 18, 'somethings': 1, 'companion': 1, 'witnessed': 3, 'lap': 1, 'neighbourhood': 1, 'well)': 2, 'aux': 1, 'port': 1, 'knowledgable': 7, 'needing': 13, 'drastic': 1, 'mpg': 1, 'reset': 8, 'enabled': 1, 'caught': 7, 'repair\\\\/maintenance': 1, 'listening': 2, '(and': 10, 'prevent': 3, 'cancellation': 1, 'optional': 1, '(total': 1, 'off)': 1, 'law': 9, 'expecting': 8, 'alignment': 41, 'scottsdale': 22, 'exited': 1, 'greasy': 1, 'clothes': 1, 'preview': 1, 'shared': 5, 'highlight': 1, 'audi)': 1, 'responded': 5, 'chose': 13, 'check-in': 3, 'shock': 8, 'tested': 5, 'henderson': 15, \"chevrolet's\": 2, 'efficient': 11, 'agent': 5, 'recommends': 1, 'client': 2, 'post-wreck': 1, 'woman': 19, 'senior': 2, 'limited': 5, 'savvy': 3, 'imagine': 7, '$1324': 1, 'regret': 9, 'anti-theft': 1, 'activated': 1, '(or': 7, 'that)': 1, 'hesitating': 1, 'chuck': 3, 'mountain': 2, 'old': 64, 'fortune': 3, '(color': 1, 'bulb': 2, 'young': 6, 'contemplated': 1, 'warren': 8, 'imperative': 1, 'shanna': 1, 'save': 11, 'suspected': 6, \"hadn't\": 13, 're-done': 1, 'meineke': 8, 'fallow': 1, 'refinancing': 5, 'leasing)': 2, 'visited': 11, 'deposit': 11, '\"turns': 1, 'justin': 8, 'background)': 1, 'judgmental': 1, 'this-': 1, 'towing': 8, 'ran': 9, 'scared': 2, '\"help\"': 1, \"mitch's\": 1, 'econo': 1, 'lube': 9, 'dozen': 3, 'mentioned': 20, 'freon': 2, 'creak': 1, 'tonight': 3, 'reiterated': 2, 'apology': 3, 'official': 2, 'letter': 10, 'recalled': 3, 'parked': 17, 'dedicated': 1, 'associate': 10, 'permit': 4, 'military': 4, 'practical': 1, 'rotate': 1, 'blamed': 2, '\"lost': 1, 'track\"': 1, 'hesitation': 2, 'salesperson': 23, 'hassled': 1, 'reflects': 1, 'johnny': 2, \"manager's\": 1, 'resulted': 4, 'clicked': 3, 'refused': 21, 'overhead': 1, 'history': 12, 'server': 1, 'conditioner': 2, 'pfs': 1, 'pad': 9, 'caliper': 1, 'completing': 4, 'charley': 1, 'jpr': 1, 'cooper': 3, '\"certified': 2, 'unwilling': 3, \"carmax's\": 1, 'unlock': 2, 'lock': 9, 'scion': 1, 'xa': 1, 'vibration': 6, '2-3': 2, 'gear': 4, 'shift': 5, 'tune': 8, 'brainier': 1, 'slade': 1, 'advertised': 24, 'block': 2, 'lovett': 1, 'pre-accident': 1, 'master': 1, '(including': 4, 'paradise': 3, 'experience)': 1, 'faulty': 6, 'switch': 4, \"kia's\": 1, \"'warranty'\": 1, 'feeling': 11, 'valve': 5, 'stem': 2, 'corroded': 2, 'pumped': 1, 'amazed': 4, 'charles': 1, 'reverse': 5, 'reversed\\\\/refunded': 1, 'term': 14, 'confidence': 7, 'notice': 9, 'coppola': 1, 'walk-thru': 1, 'loss-leader': 1, 'track': 6, 'affordability': 1, \"tony's\": 7, 'proverbial': 1, '\"mistake': 1, 'customizing': 1, \"they've\": 10, 'numerous': 11, 'impress': 1, 'quinn': 3, 'wrap': 4, 'tackle': 1, 'e': 6, 'leased': 25, 'gaudin': 4, 'consideration': 3, 'span': 2, 'renewal': 1, '($50\\\\/6': 1, 'mo': 2, '$100\\\\/yr)': 1, 'increase': 3, \"dad's\": 1, 'jack': 7, 'dating': 1, 'southwest': 1, 'bimmers': 1, 'them--it': 1, 'comptroller': 1, 'camry': 4, 'fault': 7, 'printing': 2, 'description': 4, 'posted': 9, 'mistake)': 1, '$26k': 2, 'removed': 9, 'certification': 2, 'rush': 3, '(friday': 1, 'evening)': 1, 'insisted': 15, 'moving': 11, 'los': 3, 'angeles': 3, 'non-functioning': 1, 'fog': 1, 'lamp': 1, 'sensor': 7, 'trent': 1, 'openness': 2, 'handling': 9, '\"work\"': 1, 'pm': 4, \"would've\": 3, 'repainted': 3, 'tpms': 3, 'switched': 3, '$100k': 1, 'belittled': 1, 'eddy': 1, 'harassing': 1, 'threatening': 1, 'defective': 4, 'atmosphere': 1, 'inviting': 1, 'lounge': 2, 'july': 4, 'irv': 2, 'text': 15, 'ease': 7, 'corporate': 7, 'flag': 1, 'decent': 12, 'expected': 22, 'maintained': 8, 'baby': 2, 'busted': 1, 'knuckle': 1, \"dave's\": 4, 'cook': 2, 'stemmed': 1, 'lift': 16, 'differential': 3, 'earned': 11, 'tdi': 1, 'settlement': 1, 'test-driving': 1, 'spend': 13, 'trained': 2, 'pooling': 2, 'yiur': 1, \"exter's\": 2, \"he'll\": 3, 'actor': 2, 'invited': 5, 'serviceman': 1, \"leak's\": 1, 'origin': 1, 'moment': 9, 'future)': 1, 'rj': 1, 'contract': 13, 'world': 6, 'estate': 3, 'trashed': 1, 'whatever': 2, 'breakdown)': 1, 'penny': 2, 'applied': 6, 'sunday': 8, '\"no': 2, 'bull\"': 1, '$41': 1, 'fleet': 30, 'cake': 4, 'detailers': 1, 'skill': 2, 'correction': 1, 'become': 4, 'refuse': 6, 'cut': 5, 'versed': 1, 'denying': 2, 'excuse': 8, 'liable': 1, '(caliber)': 1, 'leading': 5, 'argue': 1, '\"the': 5, 'lemon\"': 1, \"ken's\": 1, 'understood': 10, 'grain': 1, 'sand': 5, 'painted': 7, 'oxidation': 1, 'yahya': 1, 'magnitude': 1, 'reserve': 1, 'described': 2, 'spot': 12, 'don': 5, '$40k': 3, 'downpayment': 1, \"bravo's\": 1, '$150': 5, 'bela': 1, 'hannah': 1, 'duration': 2, 'substantial': 1, 'avenger': 2, 'scotty': 1, 'n': 2, \"stanley's\": 2, 'mesa': 4, 'faith': 6, 'a)': 2, 'diagnostic': 16, 'b)': 1, 'apply': 3, 'c)': 1, '(lost': 1, 'january': 5, '(1)': 1, 'expiration': 1, 'expire': 1, 'valid': 3, 'neighborhood': 3, 'evaluate': 2, 'homework': 1, 'price(because': 1, 'holding': 4, 'american': 6, 'ever-': 1, 'national': 2, 'comment': 3, 'household': 7, 'hondas': 3, 'rack': 9, '(maybe)': 1, 'dismisses': 1, 'carl': 2, 'rubbing': 1, 'november': 4, 'main': 6, 'st': 4, 'days-i': 1, 'hesitant': 3, 'squeaking': 3, 'bobby': 6, 'says-': 1, 'upholds': 1, 'owe': 5, '\"take': 3, 'look\"': 1, '(versus': 1, '\"diagnosing': 1, 'problem\"': 1, '\"fixing': 1, 'cooling': 3, 'deny': 2, '\"kiwi\"': 1, 'communicated': 2, 'interest': 23, 'diesel': 11, 'perch': 1, 'grate': 1, 'libery': 1, 'days-': 2, 'fight': 1, 'goal': 3, 'wasnt': 1, 'wouldnt': 4, 'jerking': 1, 'claiming': 3, 'cant': 7, 'amar': 1, 'gill': 1, 'assurance': 2, 'responsive': 2, \"mom's\": 2, 'expressing': 2, 'ramon': 1, 'mom': 3, 'mr': 5, 'picky': 4, 'shadiness': 1, 'squeaky': 2, \"someone's\": 2, 'gouging': 2, 'purrfect': 4, 'recurring': 2, 'medina': 1, 'hurry': 4, 'slip': 3, 'rented': 1, 'tuscon': 1, 'matt': 16, 'hoping': 4, 'acting': 4, 'heard': 6, 'rotor': 8, 'drum': 1, 'armando': 2, 'receives': 2, 'communicates': 3, 'resolving': 4, 'receipt': 13, 'storage': 3, 'case': 5, 'ignore': 1, '\"fill\"': 1, 'directed': 2, 'crystal': 1, 'pitch': 2, 'wooo': 1, 'position': 4, 'walking': 6, 'articulate': 1, 'pro': 3, 'stood': 4, 'accommodating': 6, 'payment\"': 1, 'adding': 2, 'insult': 3, 'injury': 2, 'ball': 9, '\"trade': 1, 'value\"': 1, '(told': 2, '3-4': 2, 'values)': 1, 'blame': 1, 'comparable': 6, 'pre-owned)': 1, 'volvo': 6, 'ding': 5, 'buick': 7, 'regal': 1, 'remote': 4, 'wiper': 2, 'flleet': 1, 'badmouthed': 1, 'sits': 3, 'ability': 7, 'balance': 6, 'oversized': 2, 'napa': 1, 'mcqueen': 1, \"shop's\": 1, 'estimated': 5, 'completion': 3, 'nitrogen': 4, '(we': 8, 'location)': 3, 'inconveniencing': 3, 'package': 22, 'precision': 3, 'minus': 1, 'wide': 3, 'yell': 3, 'lesson': 3, 'autotrader': 3, 'valued': 3, '$24k': 1, 'add)': 3, '$5k': 3, \"they'd\": 3, '$39k': 1, 'site': 10, '$24': 1, 'proven': 5, 'anticipate': 2, '\"fix\"': 3, 'restore': 4, 'discourage': 2, 'rebuild': 7, 'joey': 2, 'saccavino': 1, 'closed)': 1, 'clunk': 1, 'duplicate\"': 1, 'a\\\\/c': 8, 'chevroled': 1, 'obtain': 2, 'granular': 1, '$1800': 1, '$2500': 3, 'accessory': 6, 'requested': 24, 'installed\"': 1, \"shouldn't\": 5, 'dig': 1, 'anymore': 3, 'convenience': 6, '(a': 9, 'moe': 1, 'bedwan': 1, 'terry': 4, 'relationship': 4, 'tip-top': 1, 'expires': 1, 'stress': 6, '\"encourage\"': 1, 'dream': 8, 'bimmer\\\\/german': 1, 'aj': 1, 'nissantech': 1, 'infinity': 1, 'arrow': 2, \"mineke's\": 1, 'junkyard': 1, 'specialist': 6, 'adult': 1, 'harun': 1, 'freeman': 1, 'bowl': 1, 'b': 3, \"(i've\": 2, 'smell': 3, '(602)': 1, 'pile': 1, 'hearing': 1, 'miguel': 4, 'helo': 2, 'prestige': 2, '$47': 1, 'license': 7, 'sort': 10, 'away)': 1, 'stall': 5, 'sharpen': 1, 'pencil': 1, \"spec'd\": 1, 'cave': 2, 'creek': 2, 'luke': 9, 'shot': 2, 'con': 3, 'hungry': 1, 'wolf': 1, 'make\\\\/model': 1, 'module': 1, 'factory': 12, 'computer': 11, 'download': 1, 'emailed': 9, 'bench': 1, 'latter': 1, 'sanderson': 7, 'entered': 2, 'bull': 3, 'theory': 1, 'expedition': 1, 'unsold)': 1, \"they'll\": 6, 'link': 3, 'heck': 1, 'ours': 1, '$4': 3, 'expert)': 1, 'dan': 6, 'medical': 2, 'emergency': 5, 'on-site': 2, 'suffered': 1, 'mall': 6, 'auto-body': 1, '\"job\"': 1, 'lasted': 2, 'texted': 4, 'flammable': 1, 'liquid': 1, 'danger': 1, 'exploding': 1, '(car': 1, '~50k': 1, 'it)': 7, 'buck': 4, 'rifle': 1, 'garage': 16, 'jc': 1, 'ambivalent': 1, 'shouting': 1, 'guarantee': 6, 'hyundai': 12, 'consulted': 2, '\"fixed\"': 1, 'functioning': 9, '$280': 1, 'javier': 2, 'correcting': 2, '(customer': 1, 'proclaimed)': 1, 'khaled': 1, 'stranded': 4, 'director': 2, 'believer': 1, 'super-awesome': 1, 'gentleman': 16, 'me)': 2, '\"know': 1, 'vehicle\"': 2, 'packet': 1, 'go)': 1, \"gil's\": 1, 'stripped': 1, 'stud': 1, 'constant': 2, 'h': 2, 'page': 3, 'lifter': 1, '\"resolution\"': 1, 'consumer': 8, 'long-term': 2, 'assure': 1, 'parameter': 1, 'investigate': 1, 'factor': 3, 'determining': 1, 'resolution': 4, 'mv': 1, 'd': 1, 'transfer': 5, 'researching': 5, 'aaa': 13, '$250': 1, 'tiana': 1, 'jumped': 5, 'purcell': 1, 'worry': 9, 'arranging': 2, 'transportation': 6, 'suspecting': 1, 'jerked': 2, 'overseas': 1, 'assignment': 1, 'manger': 2, 'land': 4, 'further': 11, 'encounter': 1, 'deceit': 1, 'thursday': 13, 'hhr': 1, 'rushed': 2, 'foe': 1, 'interim': 1, 'inconvenience': 2, 'mccoy': 1, 'grateful': 2, 'shane': 4, 'introducing': 1, 'albert': 1, 'match)': 1, 'subject': 1, '[': 1, '\"reconditioning': 1, 'fees\"': 1, ']': 1, 'shea': 1, 'staring': 1, 'mitsubishi': 3, 'stealing': 2, 'california)': 1, 'secured': 3, '\"run': 1, '(took': 1, 'transport': 3, 'garage)': 1, 'smog': 10, 'brendan': 3, 'sudden': 3, 'grinding': 5, 'shake': 4, 'sounded': 2, 'back-to': 1, 'built': 3, 'grease': 10, 'learn': 6, 'myself': 7, 'ur': 3, 'usa': 3, 'stir': 2, 'regard': 10, 'laid': 2, 'finalized': 1, 'sooo': 1, '$100': 8, 'boyfriend': 3, 'todd': 2, 'ray': 6, 'ditto': 1, 'continuing': 2, 'troubleshooting': 1, 'genesis': 2, 'coupe': 1, '(in': 2, 'eyes)': 1, 'ad': 3, 'limbo': 1, 'tack': 3, 'mandatory': 2, '$800': 4, 'negotiable': 1, \"(it's\": 1, 'unit)': 1, '\"well': 3, 'preinstall': 1, 'protection': 3, 'condescending': 3, 'crappy': 3, 'pin': 1, 'striping': 1, 'overcharge': 1, 'pealing': 1, 'armed': 4, '$641': 3, '(general': 4, 'filed': 3, 'lien': 10, 'auctioning': 3, 'installer': 1, 'msrp': 2, 'victor': 3, 'perfection': 2, 'remove': 8, 'bra': 1, 'series': 6, 'equal': 2, 'kyle': 2, 'kinda': 1, 'bummed': 2, 'fiance': 4, 'inquired': 8, 'passion': 4, '(2': 2, 'truck)': 2, '$6': 2, '(did': 1, 'here)': 1, 'chaos': 1, \"else's\": 1, 'negativity': 2, 'lhm': 2, 'guidance': 2, '\"upsold\"': 1, 'california': 5, 'charlotte': 8, 'elected': 2, 'change\\\\/maintenance': 1, 'koury': 1, 'relating': 4, 'tie': 6, 'rod': 6, 'pain': 3, 'act': 9, 'light': 8, 'zip': 3, 'tied': 4, 'myselfso': 2, 'clicking': 3, 'uncle': 2, 'mail': 3, 'soldier': 2, 'payday': 2, 'none': 7, 'subaru': 9, 'stacy': 3, 'ripple': 1, 'loaned': 2, 'arriving': 3, 'temper': 2, 'learning': 1, 'folk': 10, 'tan': 10, 'daily': 6, 'waggy': 1, 'maje': 1, 'tj': 2, 'giant': 3, '000-for-new': 1, 'formerly-pristine': 1, 'truly': 4, 'pressure-free': 1, 'mystical': 1, 'interchange': 1, 'does--if': 1, 'mutant': 1, 'swindling': 1, 'towards': 2, 'huffing': 1, 'puffing': 1, 'tower': 1, 'saying\"homeboy': 1, 'it\"': 1, 'reality': 2, 'pushing': 5, 'overheard': 1, 'proceeds': 2, 'blow': 1, 'chat': 1, 'deliver': 6, 'supposedly': 1, 'east': 6, 'gruelich\"s': 1, '$700': 2, 'implying': 1, 'declined': 6, 'referring': 1, '\"did': 1, 'pas': 11, 'preform': 1, '\"drive': 1, 'cycle\"': 1, 'according': 8, 'testing': 7, 'iautohaus': 2, '#4': 1, 'bent': 5, 'paula': 1, '$540': 2, 'printed': 4, 'shaking': 5, 'hub': 1, 'bearing': 1, 'instance': 2, 'misc': 2, 'rebekah': 1, 'smallest': 1, 'obviously': 1, 'parma': 1, 'stacking': 1, 'missed': 8, 'harbir': 2, 'sandhu': 1, 'providing': 7, '(john)': 1, 'oregon': 2, 'forth': 6, 'already)': 1, 'dog': 4, 'serpentine': 1, 'semi-synthetic': 1, 'organic': 1, 'yelp': 11, 'ten': 2, 'adventure': 1, 'willoughby': 1, 'detect': 1, 'detected': 1, 'fam': 1, 'gregg': 4, 'interdonato': 1, 'plentiful': 1, 'ludicrous': 1, '30-40%': 1, 'statefarm': 2, 'sf': 2, 'skc': 4, 'myra': 2, 'mya': 2, 'mia': 2, 'answering': 6, 'overheated': 4, 'swing': 1, 'ridgeline': 1, 'stability': 1, 'dennis': 2, 'desk': 16, 'curbed': 1, 'fund': 2, 'commend': 1, 'willingness': 1, 'lawsuit': 2, 'voided': 2, 'nuno': 1, 'tend': 3, 'welcomed': 2, 'fashioned': 1, 'calculate': 2, 'ptu': 1, 'brighton': 2, 'mph': 3, 'limiton': 2, 'over)': 1, 'result': 12, '(4': 1, 'volume': 4, '$200': 4, 'ago)': 1, 'building': 7, 'adjacent': 1, 'crooked': 2, 'blocking': 1, 'flow': 1, 'traffic': 4, 'became': 6, 'approx': 2, 'tangent': 1, 'demand': 5, 'non-subaru': 1, 'action': 2, 'anyways': 4, 'repaint': 7, '\"repainted\"': 1, 'measure': 1, 'density': 1, 'proved': 2, 'trouble': 4, 'chimed': 1, \"roy's\": 1, 'college': 2, 'professor': 1, 'buying\\\\/leasing': 1, 'equate': 1, 'dentist': 1, 'autozone': 3, 'closest': 6, 'forego': 1, 'nature': 1, 'amsoil': 1, 'pointed': 10, 'extension': 2, 'panel': 5, 'mod': 1, 'maintence': 2, 'meticulous': 2, 'experiance': 1, 'modified': 5, 'dismissive': 1, 'wallet': 2, 'suffer': 2, 'repeat': 3, 'fought': 1, '(almost': 2, '\"manager\")': 1, 'buy-here-pay-here': 1, '\"used\"': 1, 'civic': 4, 'lx': 2, 'sedan': 1, 'step': 15, 'countered': 1, 'truecar': 5, 'autotrade': 1, '$23k': 1, 'smoked': 2, 'warmed': 1, 'smoking)': 1, 'everyones': 1, 'someplace': 2, 'shook': 3, 'burn': 1, 'islington': 1, 'toronto': 1, 'tom': 16, 'recognized': 1, 'wash\\\\/detail': 1, 'prefer': 2, 'entrust': 1, 'suggestive': 1, 'guideline': 1, 'collides': 1, 'metallic': 1, 'anthracite': 1, 'visual': 2, 'depth': 3, 'sunlight': 1, 'english': 1, 'untouched': 1, 'transpired': 2, 'sone': 1, 'certec': 1, 'despise': 1, 'customize': 3, 'desired': 3, 't': 4, 'kar': 2, 'proximity': 1, 'workplace': 2, 'heated': 1, 'changing': 6, 'potential': 14, 'friends\\\\/relatives': 1, 'faster': 3, 'meantime': 4, 'cursed': 1, 'threatened': 3, 'w': 2, '\\\\/': 8, 'operate': 4, 'stick': 3, 'havent': 1, 'titled': 2, 'dialed': 1, '(of': 1, \"dealer's\": 2, 'grown': 1, 'intensity': 1, 'food': 1, 'facilitate': 1, 're-detail': 1, 'improve': 2, 'depreciation': 1, 'gil': 2, 'congratulate': 1, 'compete': 1, 'pre-ordered': 1, 'cashier': 5, 'top': 1, 'horse': 1, 'donate': 3, 'peter': 2, '$120': 1, 'outcome': 3, 'craft': 1, 'language': 1, 'relate': 1, 'maintenence': 1, 'pic': 2, 'racing': 1, 'scurry': 1, 'convince': 5, 'roll': 6, 'argued': 2, 'odometer': 5, 'andy': 6, 'discussion': 5, 'vw)': 2, 'fourth': 6, 'dread': 4, 'employed': 2, 'commute': 3, 'spencer': 1, 'cautioned': 1, '$10': 2, 'unacceptable': 3, 'non-mobile': 1, 'fraudulent': 1, 'issac': 4, 'highest': 4, 'upgraded': 4, 'difference)': 1, 'resulting': 3, 'fatality': 2, 'reviewing': 3, 'theirs)': 1, 'proof': 3, 'revealed': 1, '\"just': 1, 'assume': 3, 'shape\"': 1, '\"service': 3, 'soon\"': 2, 'requesting': 1, 'molding': 2, 'thanksgiving': 3, 'ringing': 2, 'hook': 2, 'identification': 1, 'gut': 1, 'instinct': 1, 'impala': 2, 'thoroughbred': 1, 'cancel': 2, 'refund': 7, 'refundable': 1, '\"applied\"': 1, 'james': 8, 'poking': 1, 'dang': 1, 'aggression': 1, 'accept': 4, 'whiteoak': 1, 'christina': 1, 'focus': 5, 'private': 6, 'recognize': 1, 'shotty': 1, 'masonry': 1, 'respond': 1, 'yea': 2, 'petty': 2, 'regardless': 3, 'napletons': 1, 'scamming': 1, 'proceed': 4, 'specification': 3, 'bryan': 4, 'nelson': 1, 'qx80': 1, 'coulter': 4, 'up-sell': 3, 'aaron': 2, 'map': 2, 'curbside': 1, 'cleared': 2, 'noted': 5, 'established': 1, 'towbin': 3, 'review**': 1, 'tols': 1, 'anyyhing': 1, 'closer': 7, 'melinda': 1, 'ups': 2, 'mid': 3, 'sized': 3, 'intent': 1, 'code': 11, 'acura': 16, '(brampton)': 2, 'reselling': 2, 'examined': 3, 'dusk': 1, 'daylight': 1, 'hedland': 1, 'followed': 9, 'ask)': 1, 'zoloto': 1, 'route': 3, 'heading': 3, \"today's\": 1, 'proliferation': 1, 'say)': 1, 'standing': 5, 'fan': 2, '(after': 3, 'styles)': 1, 'choosing': 4, 'burnt': 1, 'rubber': 3, 'hours)': 1, 'midas': 5, 'glove': 1, \"simon's\": 1, 'owns': 3, 'fusion': 3, 'accelerate': 2, 'furthermore': 1, '(our': 3, 'car)': 3, 'slight': 1, 'wear': 5, 'belts\\\\/hoses': 1, 'edit': 2, 'mfg': 2, 'foreign': 3, 'clicking\\\\/tapping': 1, 'louder': 1, 'prevalent': 1, 'expert': 5, 'breaker': 1, 'pedal': 2, 'grew': 1, \"experts'\": 1, 'memorial': 2, 'tag': 8, 'decrease': 1, 'filling': 1, 'cubicle': 1, 'ned': 2, 'evaluated': 3, 'highline': 2, 'assessed': 3, 'intermittent': 2, '$65': 2, 'atac': 1, 'recker': 1, 'baseline': 1, 'backwards': 2, 'debacle': 1, 'motion': 2, 'hooked': 2, '(chrysler': 1, 'paddle': 1, \"we'll\": 8, \"andy's\": 1, 'milwaukee': 1, 'madison': 2, 'liberty': 10, 'yard': 4, 'issued': 2, 'property': 11, 'nevada': 5, 'dynamite': 1, 'plamen': 2, 'tender': 1, 'help\\\\/maintenance': 1, 'rotated': 3, 'reveiws': 1, '\"to': 2, 'work\"': 1, 'told\"no\"': 1, 'hole': 5, 'sealant': 2, 'remain': 1, 'unnamed)': 1, 'wound': 1, 'refunding': 1, \"friend's\": 3, 'til': 1, 'video': 3, 'shift\"': 1, 'automatic': 3, 'overheat': 1, 'smoke': 1, 'riley': 2, 'sun': 19, 'devil': 14, 'spoken': 3, 'understands': 3, 'frustration': 1, 'tacoma': 2, 'thats': 5, 'alot': 1, 'doug': 1, '\"high': 1, 'demand\"': 1, 'warning': 6, 'km': 1, 'def': 4, 'confusion': 4, 'massive': 2, 'info\"': 2, 'reply': 3, 'deserves': 1, 'auto-piloted': 1, 'near': 3, 'reduction': 2, 'carbon': 1, 'footprint': 1, 'minuted': 1, 'tole': 1, 'incentive': 2, 'syclone': 1, 'o': 7, 'payson': 1, 'po': 2, 'jag': 1, 'assisted': 6, 'ariel': 4, 'believed': 6, 'ocd': 1, 'overpay': 1, 'were)': 1, 'increasing': 1, 'complexity': 1, 'shelby': 3, 'equipment': 1, 'vote': 1, 'foundation': 1, 'patrick': 3, 'research\\\\/selected': 1, 'price-point': 1, 'shout': 1, '\"end': 1, 'line\"': 1, 'onstar': 1, 're-established': 1, 'nar': 1, 'reading': 7, 'well': 2, 'lusso': 1, 'spa': 3, 'design': 3, 'analysis': 2, 'insure': 2, 'co': 1, 'temp': 1, 'non-luxury': 1, 'maintance': 1, 'sierra': 1, 'z71': 1, 'gmc)': 1, 'tinkering': 1, 'mississauga': 1, 'operable': 1, 'unforeseen': 1, 'faced': 2, 'jerry': 8, 'mess)': 1, 'union': 6, 'load': 4, 're-detailed': 1, 'mkx': 1, 'rear-ended': 3, '$500': 7, 'brand-new': 4, 'yeah': 1, 'experiencing': 4, 'indicating': 2, 'asap)': 1, 'gilbert': 4, 'cruz': 1, '\"dance\"': 1, 'gesture)': 1, 'up)': 1, 'icing': 2, 'matched': 6, 'web': 3, 'misleading': 1, '\"exterior\"': 1, 'automobile': 3, 'america': 3, 'vandalism': 1, 'application': 3, 'disclosing': 1, 'pertinent': 1, 'bender': 2, 'likely': 4, 'vaniessa': 1, 'organization': 2, '\"couldn\\'t': 1, 'find\"': 1, '\"overflow\"': 1, 'confronted': 2, 'driving\\\\/looking': 1, '(mil)': 1, 'nephew': 2, 'april': 5, 'mil': 1, 'expired': 1, 'rarity': 1, 'exercise': 1, 'day\\\\/150': 1, 'physical': 1, '(problems': 1, 'headrest': 2, 'forward)': 1, 'google': 2, 'questioning': 3, 'disclosure': 4, 'display': 3, '\"on': 1, 'floor\"': 1, 'brookfield': 1, '\"spotless\"': 1, 'conduct': 2, 'miles+': 1, 'satisfaction': 8, 'troy': 2, 'developed': 2, 'fogging': 1, 'fading': 1, 'teach': 2, \"'use'\": 1, 'oriented': 2, 'class': 4, 'dreaded': 2, 'task': 2, 'acquire': 3, 'isnt': 3, 'memorandum': 1, 'suppose': 2, 'disappoints': 1, 'raise': 2, 'farm': 1, 'balled': 1, '(2013': 2, 'tucson)': 1, 'oem': 1, 'pumpers': 1, 'craigslist': 4, \"al's\": 1, 'unibody': 1, 'straighten': 1, 'definitely': 1, '(plural)': 1, 'daughter-in-law': 1, '(different': 1, 'dealership)': 9, 'groupon': 1, 'cabin': 2, 'person\"': 1, 'tear': 4, 'extensive': 4, 'accident\\\\/damage': 1, 'reported': 5, 'liner': 2, 'expertise': 4, 'mb': 3, 'software': 1, 'gu': 1, 'function': 5, 'gouge': 5, 'inspecting': 7, 'interact': 1, 'grab': 3, 'as': 2, 'garbage': 2, 'heaven': 1, 'forbid': 1, 'overnight)': 1, 'pre-certified': 1, 'led': 2, '-inform': 1, 'drifting': 1, 'log': 1, 'pocketbook': 1, 'examine': 1, 'starter': 2, 'outlet': 1, 'exposed': 1, 'drying': 1, 'interior\\\\/windows': 1, 'disgust': 2, 'arrowhead': 5, 'stressful': 6, 'etching': 1, 'hott': 1, 'integrity': 7, 'stow': 1, \"paul's\": 2, 'truck\\\\/van': 1, 'prove': 2, 'obvious': 4, 'midway': 2, 'unorganized': 1, 'communicating': 4, 'canned': 1, 'ham': 1, 'camper': 1, 'degree': 6, 'easiest': 5, 'extimated': 1, '(gerber)': 1, 'marianne': 1, 'reiner': 1, \"mangol's\": 1, 'pontiac': 1, 'saturn': 2, \"nephews'\": 1, 'cutie': 1, 'pie': 1, 'explode': 1, 'men': 2, \"haven't\": 14, \"we'd\": 2, 'begun': 1, 'included': 16, 'rtm': 1, 'unloading': 1, 'held': 4, 'give-up': 1, 'ingrid': 1, 'richard': 5, 'jonah': 1, 'solid': 2, 'pennsylvania': 1, 'enclosed': 1, 'trailer': 3, 'lay': 2, 'flat': 5, 'behaving': 1, 'mentioning': 1, 'pipe': 2, 'pushed': 6, 'dispatched': 1, 'hwy': 2, 'suggestion': 6, 'conditioning': 3, 'blowing': 2, 'warmer': 1, '(again)': 3, 'speedbump': 1, 'about': 1, 'oasis': 4, 'photo': 3, 'owner)': 1, 'saturday': 21, 'assembly': 2, 'watson': 1, 'suit': 3, 'strange': 3, 'sloshing': 1, 'dime': 4, 'clogged': 1, 'tube': 1, 'personnel': 1, 'stopping': 1, 'negotiation': 7, 'balling': 1, 'fiesta': 1, 'classless': 1, 'meal': 1, 'dine': 1, \"'new'\": 1, 'loss': 2, 'surrounding': 2, 'disturbed': 1, 'scam': 2, 'artist': 1, \"wayne's\": 1, '(south': 1, 'blvd)': 1, 'traveller': 1, 'essential': 2, '\"follow': 1, 'up\"': 2, 'premier': 1, 'sibling': 1, 'malfunctioning': 1, 'misquoting': 1, 'photographed': 1, 'blog': 1, 'horror': 1, 'nonrefundable': 1, '$1400': 3, 'seal': 3, 'attending': 1, 'breakfast': 1, 'bergstrom': 2, 'unrivaled': 1, 'quit': 2, 'rahal': 1, 'reputation': 6, \"lee's\": 1, 'favor': 3, 'ongoing': 4, 'grandson': 2, 'shoot': 3, 'allowing': 6, \"son's\": 5, 'pcc': 1, 'guided': 1, 'automasters': 1, 'harness': 3, 'financial': 6, '+': 4, 'tody': 1, 'gruff': 1, 'roughness': 1, 'stoked': 1, 'sc': 1, 'sinking': 1, 'jesse': 1, 'operated': 1, 'component': 5, '(headed': 1, 'vacation': 2, 'completed)': 1, 'chad': 4, 'tutorial': 2, 'scratching': 1, 'pleasurable': 2, 'ive': 5, 'minimal': 1, 'borrow': 2, 'appearance': 3, 'desert': 4, 'similiar': 2, '\"baby\"': 1, 'deep': 2, 'salina': 1, 'brief': 2, 'removal': 1, 'pool': 1, \"gab's\": 1, 'invest': 2, 'court': 1, 'sue': 1, '(if': 2, 'loaner-': 1, 'showcase': 3, \"show'd\": 1, 'mobile': 3, 'dr': 2, 'up-front': 1, 'belief': 1, 'hitch': 5, 'appointed': 1, 'disregard': 1, 'exhibited': 1, 'nicked': 1, 'florida': 1, 'bluebook': 1, 'carry': 1, 'standard)': 2, 'special': 4, 'there)': 1, 'fairway': 3, 'sink': 1, 'instead)': 1, 'non-toyota': 2, '(no': 2, 'transparency)': 1, \"pat's\": 1, 'ounce': 1, 'assistant': 7, 'unprepared': 1, '\\xa0kyle': 1, 'ensures': 1, 'afterwards': 2, 'flw': 1, 'brad': 3, 'saleswoman': 2, \"person's\": 2, 'wasting': 3, 'directing': 1, \"steve's\": 1, 'diagnostics': 7, 'flushed': 1, 'desire': 3, 'steal': 3, 'relies': 1, 'same-day': 1, 'visor': 1, 'prompt': 4, 'facilitya': 1, 'environment': 1, 'laptop': 3, 'bestautobuy': 1, 'remanufactured': 1, \"ron's\": 2, 'sheer': 1, 'forthright': 1, 'pre-approved': 3, 'provided)': 1, 'carwash': 2, 'fell': 5, '(yes': 3, 'threatens': 1, 'blank': 2, 'mister': 1, \"family's\": 6, 'machanic': 1, 'or3': 1, 'pristine': 3, \"husband's\": 4, 'verified': 4, '(on': 1, 'price)': 1, 'cpo': 4, 'brochure': 2, 'nolen': 1, 'wright': 1, 'omar': 1, '\"get': 3, 'lot\"': 2, 'government': 2, 'underneath': 3, 'vibrating': 1, 'porter': 1, 'sorento': 2, 'diffused': 1, 'reaching': 2, '\"hold': 1, 'classification': 1, 'one\"': 1, 'finish': 8, '\"chapman': 1, 'package\"': 2, '$1500': 4, 'wax': 1, \"day's\": 2, 'subsidized': 1, 'pilot': 2, 'touring': 1, 'darn': 2, 'exist': 5, 'sears': 1, 'bethel': 1, 'pa': 3, 'bos': 1, \"sonny's\": 1, 'pulling': 6, 'shined': 1, 'pride': 5, 'remind': 1, 'arm': 4, 'francisco': 1, 'thermostat': 2, 'housing': 3, 'd&m': 1, 'cochran': 1, '10th': 1, '$1700': 1, 'done)': 1, 'kiley': 1, 'dude': 2, 'exiting': 1, 'gawking': 1, '(reading': 1, 'peering': 1, 'entering': 2, '(since': 5, 'value)': 1, 'entry': 2, 'dreading': 2, 'reg': 1, 'dodge\\\\/ram': 1, 'optimum': 2, 'raising': 1, 'hung': 4, 'timetable': 1, 'scenario': 2, '(fuel': 2, 'pump)': 1, 'andie': 1, 'accepted': 3, '(was': 1, 'institution)': 1, 'inherited': 1, '5-car': 1, 'pileup': 1, 'salvage': 4, 'squeezed': 2, 'steering': 13, 'spin': 1, 'harpoon': 1, 'passing': 1, \"buddy's\": 1, 'sarah': 1, 'marco': 5, 'niko': 1, 'rommo': 1, 'residence': 2, 'indication': 1, 'carmax': 8, \"randy's\": 1, 'auction': 4, 'unethical': 1, 'strut': 3, 'socket': 1, 'myself)': 1, 'becasue': 1, 'supply': 1, '\"since': 1, 'rolled': 3, 'suffice': 1, 'downgrade': 1, 'steven': 2, 'tenwick': 1, 'in-line': 1, 'promotion': 1, '(when': 1, 'day)': 1, 'obtained': 1, '(see': 1, 'above': 2, 'paragraphs)': 1, 'ohio': 4, 'fricken': 1, 'february': 2, 'transparent': 4, 'pressured': 5, 'dearership': 2, 'danny': 8, 'mailed': 2, 'seam': 2, 'mailing': 2, 'nav': 2, 'moon': 3, 'roof': 5, 'sorrento': 2, 'valuing': 4, 'clue': 4, 'travelled': 2, '$29999': 1, 'chair': 1, 'reviewer': 1, 'vacuumed': 4, 'screeching': 1, 'blake': 1, 'henry': 2, 'dj': 1, \"should've\": 1, 'purpose': 4, \"one's\": 2, \"cary's\": 1, 'death': 2, 'blend': 2, '$21': 2, 'educates': 1, 'suggesting': 1, 'friends\\\\family': 1, 'virginia': 1, 'vin--never': 1, 'purchased\\\\/info': 1, '$70k+': 1, 'meaner': 1, '\"upgrading\"': 1, 'dial': 3, 'utmost': 4, 'denied': 6, 'burning': 1, 'heating': 2, 'angle': 2, 'shitty': 1, 'noone': 1, 'etc': 5, 'commended': 1, '\"i\\'m': 1, 'bill\"': 1, 'biggie': 1, 'sahara': 4, 'cleveland': 1, 'norman': 1, 'quarterly': 1, 'reliable\"': 1, 'voicemail': 2, ')who': 1, 'sam': 3, 'lot(praying': 1, 'rank': 1, 'invasive': 1, 'exam': 1, 'yer': 1, 'retailer': 1, 'zimbrick': 5, 'fish': 1, 'hatch': 2, 'payed': 3, 'disbute': 1, '*if': 2, 'new\\\\/used': 5, 'roberto': 1, 'saenz': 1, 'ford(of': 1, 'sd': 1, 'navigation': 11, 'edition': 4, 'penske': 2, 'rapid': 1, 'diamond': 1, 'occassion': 1, 'beond': 1, 'inconvenienced': 1, 'safer': 3, 'youngest': 1, 'severe': 2, 'disabilities)': 1, 'behold': 3, '\"would': 2, 'sell\"': 1, 'lifesaver': 1, 'managed': 3, 'modest': 1, '$160': 2, 'underlying': 2, 'accommodation': 1, 'premium': 6, 'bu': 1, 'reach': 2, 'beating': 1, 'properly': 3, 'installation': 1, 'roam': 1, 'unwinded': 1, 'curtis': 2, 'alarm': 6, 'dodging': 1, 'pressed': 2, 'switching': 1, 'litchfield': 2, 'roundabout': 2, 'installing': 1, 'takeing': 1, 'sooner': 3, 'earliest': 1, \"'for\": 1, \"owner'\": 1, 'unknown': 1, 'party)': 1, 'salvage-titled': 1, '(fellow': 1, '(always': 1, 'writing)': 1, 'zaktek': 3, '(other': 1, '+-': 1, '$100)': 1, 'iv': 1, 'roughy': 1, '\"figure': 1, 'numbers\"': 1, '$8k': 1, 'strolled': 1, '$9980': 1, 'taxes\\\\/fees': 1, 'destination': 1, 'potentiality': 1, 'issue(s)': 1, 'lyle': 1, 'smal': 1, 'miscommunications': 1, '\"manager\"': 1, 'scene': 1, 'jeremy': 6, 'elantra': 1, 'fifth': 1, 'myself\\\\/my': 1, 'leased\\\\/purchased': 1, 'lowered': 1, 'woul': 1, 'wold': 1, 'needle': 2, 'cholla': 1, 'advocated': 1, 'me\\\\/my': 1, 'hill': 3, 'understandable': 1, 'mimi': 1, 'sought': 3, 'unfulfilled': 1, 'hidden': 3, 'clint': 1, 'discussed': 7, 'arise': 5, 'ecstatic': 1, 'sherri': 1, '(but': 2, 'maintains': 2, 'joyce': 3, 'easier': 9, 'chief': 1, 'pu': 1, 'surpassed': 2, 'nicest': 2, 'whats': 2, '*similar': 1, 'resale': 2, 'jeanette': 1, 'cleon': 1, 'weigh': 3, 'showroom': 8, 'before)': 1, 'mon-frid': 1, '8-5': 1, '\"multipurpose\"': 1, 'pdf': 1, 'multipurpose': 1, 'cleanest': 1, 'referenced': 1, 'brother-in-law': 1, '(front': 1, 'padding': 2, 'trevor': 1, 'convinced': 4, 'taken-checking': 1, 'rotation-would': 1, 'gap': 3, 'anytime': 4, 'tahoe': 3, 'cleaner': 2, \"cam's\": 1, 'cindy': 3, 'leaking\\\\/seeping': 1, 'carma': 1, 'dug': 2, 'deeper': 1, 'conclusion': 2, 'intimidating': 1, 'stranger': 1, '3-day': 1, 'ticked': 1, 'unneeded': 1, 'treatment': 13, 'bee': 1, 'ernie': 2, 'thoroughness': 1, 'damaging': 2, 'theirs': 2, 'painesville': 2, 'marty': 1, 'budd': 1, '(#dodge': 1, '#chevrolet': 1, 'forthcoming)': 1, 'source': 2, 'navy': 1, 'fed': 1, 'ssked': 1, 'charity': 2, 'motorhome': 1, 'toad)': 1, 'article': 1, '$400': 2, 'lou': 3, 'remaining': 3, 'reduced': 1, 'believing': 2, 'shipping': 2, 'hospital': 1, 'metro': 2, '$42': 1, 'risk': 1, 'aunt': 1, '(according': 1, 'toy': 2, 'off-road': 1, 'counting': 1, 'church': 3, 'vibe': 1, 'approach': 3, 'named': 1, 'pen': 1, \"'blocked\": 1, \"in'\": 1, '(dark)': 1, 'bed': 1, 'loner': 4, 'serve': 3, 'opening': 1, 'adapter': 2, 'lil': 4, 'ping': 2, '(operative': 2, 'be)': 2, 'gold': 2, 'forwarding': 1, 'jan': 1, 'budge': 1, '$4000': 1, 'kbb': 5, '$7000': 2, 'hortons': 1, '\"ford': 1, 'low-ball': 1, '(by': 3, 'shaun)': 1, '(noting': 1, 'desirable': 1, 'vehicle)': 1, 'varying': 1, 'moore': 6, 'commander': 1, '\"executive': 1, 'lease\"': 1, 'calculating': 1, 'tacked': 1, '$1900': 1, 'disclaimer': 1, 'validation': 1, 'bait': 1, 'operates': 2, 'underestimating': 1, 'billing': 1, '$20k+': 1, 'recent': 7, 'problematic': 1, 'grubby': 1, 'paw': 1, 'pop': 1, '$15k+': 1, 'hostage': 3, '\"it': 1, 'seems)': 1, 'affect': 1, 'bd': 1, 'kristy': 1, 'laughing': 2, 'nepa': 1, 'clown': 3, 'cheated': 1, 'longevity': 1, 'overpriced': 3, 'defensive': 1, 'stumbled': 1, 'goodyear': 2, 'beachwood': 2, 'johnson': 2, 'commented': 2, 'leaked': 1, 'exchanged': 2, \"car's\": 1, 'catch': 2, 'airport': 2, 'instruction': 3, 'overcharged': 3, 'guessed': 1, 'vandevere': 1, 'toss': 1, 'reminder': 2, 'witness': 1, 'noticing': 4, 'ntb': 1, 'doofus': 1, 'explicit': 2, 'examining': 1, 'doubled': 1, 'troubleshoot': 1, 'salon': 1, 'barber': 1, \"mechanic's\": 1, 'part-time': 1, 'traveling': 3, '(6hrs': 1, 'gc': 1, 'insuring': 1, 'kris': 1, 'background': 3, 'welding': 1, 'tampering': 1, 'consisted': 1, 'admitting': 1, 'accused': 1, '\"hurt\"': 1, 'expanding': 1, 'eagerness': 1, 'darren': 1, 'hubcap': 2, 'materialized': 1, 'kristin': 1, 'thankful': 3, 'fran': 1, 'arnold': 1, 'mercedes-benz': 2, 'disappoint': 1, 'branded': 2, 'utah': 1, 'harassed': 2, 'moment)': 1, 'mill': 2, 'liar': 4, 'deceitful': 1, 'champ': 3, 'weight': 1, 'power-wash': 1, 'honest-1': 1, 'contracted': 1, 'ballpark': 1, 'alert': 1, '(so': 1, 'change)': 1, '\"sometimes': 1, '-when': 2, '\"my': 1, 'day\"': 2, 'yates': 1, 'narrowed': 3, 'avoided': 1, 'rearranged': 2, 'remains': 2, 'stout': 1, '(with': 5, 'tint)': 1, \"kids'\": 1, '(10': 1, 'so)': 2, 'tent': 2, 'fj': 1, 'retire': 1, '$3000': 2, 'misfiring': 1, 'bigger': 5, 'commuting': 1, 'dy': 1, 'taxi': 1, '\"oil': 1, 'change\"': 1, 'airpark': 3, 'refill': 1, 'advertisement': 1, '$30': 2, 'sense': 3, 'reviewed': 2, 'either)': 1, 'challenge': 3, '$15k': 2, '$21k': 1, 'locate': 6, '\"unsure\"': 1, 'unlimited': 3, 'haunt': 1, 'brampton': 1, '$22': 1, 'mature': 1, 'guarantor': 1, 'method': 1, 'employer': 1, 'silverado': 4, 'ranch)': 1, 'ensured': 4, 'sunroof': 2, 'nickel': 1, 'somewhere': 1, 'booked': 4, 'scanned': 1, 'incur': 1, 're-programming': 1, 'tanner': 2, \"people's\": 1, 'gasket': 4, 'leak)': 1, 'opposite': 1, 'balanced': 1, 'suing': 2, 'forward': 2, 'lawrence': 2, 'munich': 1, 'ian': 1, 'jones': 3, 'specialty': 3, 'crawl': 1, '4th': 1, '(3': 2, 'lr4)': 1, 'ruled': 1, 'warrantied': 1, 'a+++++++': 1, 'lamar': 1, 'mclaughlin': 1, 'protected': 1, 'tyler': 2, 'gietzen': 1, 're': 2, 'play': 5, 'female': 3, 'appears': 1, \"nothing's\": 1, 'demanded': 3, 'immediate': 4, '(engine': 1, 'lowed': 1, \"mark's\": 1, 'sister': 5, 'earl': 1, 'rope': 1, 'refinance': 1, 'months)': 1, 'premise': 2, '\"numbers': 2, 'dale': 3, 'contingent': 3, 'nv': 2, 'disclosed': 3, 'swindled': 1, \"'overlook\": 1, \"it'\": 1, 'golf': 2, 'ado': 1, 'disclose': 2, 'flaw': 2, '5th': 2, 'labor': 7, 'thier': 1, 'crash': 1, 'doctor': 2, 'molded': 1, 'sir\"': 1, 'dickered': 1, 'match': 4, 'bonus': 1, 'fridge': 1, 'cary': 1, 'cared': 6, 'toyota\\\\/scion': 1, 'mechanic\"': 2, 'salem': 1, 'prioritize': 2, 'guard': 2, 'informative': 5, 'smaller': 3, 'checkup': 1, 'informs': 1, 'upcoming': 3, 'recover': 1, 'toe': 1, 'waist': 1, 'non-stock': 1, 'valuable': 1, 'arrogant': 1, 'inquire': 5, 'deception': 1, 'manage': 2, 'kick': 2, 'wondering': 2, 'hell': 3, \"fletcher's\": 2, 'out-of-town': 1, 'kurt': 1, 'mick': 1, 'played': 2, 'bat': 1, 'clueless': 2, 'maybe': 1, 'tuneup': 1, 'go-to': 1, 'stomach': 1, 'technician\"': 1, 'adjustment': 3, 'falling': 2, '\"you': 1, 'shifting': 2, '\"prestige\"': 1, 'chaudoin': 1, 'tatiana': 1, 'arrives': 1, 'message': 3, 'antenna': 2, '\"documented\"': 1, 'wore': 1, '\"warranty\"': 1, 'revoke': 1, 'immune': 1, 'fulfilled': 1, 'pursue': 3, 'adjuster': 3, '$5': 2, 'target': 1, 'wet': 1, 'scooted': 1, 'kailani': 1, 'accrue': 1, 'mdx': 2, 'cardinaleway': 1, 'up-to-date': 3, 'hustle': 1, 'wanna': 1, 'compromise': 1, '(4690': 1, 'cactus': 1, 'ave': 6, 'delivering': 4, 'inspection\"': 1, 'abandoned': 1, \"dillon's\": 1, 'non-dealer': 1, 'taylor': 1, 'phil': 2, 'caring': 2, 'critical': 3, 'addressed': 4, 'spot)': 1, 'overvalued': 1, 'matching': 4, '(6\\\\/17\\\\/2015)': 1, 'queue': 3, 'apathetic': 1, 'drone': 1, 'zero': 5, 'f#*ks': 1, 'yukon': 1, 'garcia': 1, 'superstition': 1, 'spring': 2, \"girlfriend's\": 2, 'maintainance': 1, 'bind': 1, 'struggle': 1, 'fyi': 3, '\"professionally\"': 1, 'appraise': 2, 'is)': 1, 'flood': 3, 'kiosk': 1, 'him\"': 1, '\"in': 1, 'out\"': 3, 'perused': 1, 'lineup': 1, 'shark': 1, 'cost-effective': 1, '(test': 2, 'specialized': 2, 'fabricating': 1, 'cautious': 3, 'handing': 5, 'progressive': 4, 'committing': 1, 'sundevil': 1, 'preventative': 2, 'pep-boys': 2, 'dislike': 1, 'vincent': 4, 'miracle': 3, 'fuse': 2, 'carlos': 1, 'julie': 2, \"hefner's\": 1, 'cringes': 1, 'mitchelle': 1, '\"they': 1, \"'pause'\": 1, 'mix': 1, 'suvs)': 1, 'handicap': 1, 'mirror': 4, 'grandma': 2, \"who's\": 3, 'attend': 2, 'impound': 2, '(knowing': 1, 'anyone)': 1, '(review': 1, 'come)': 1, 'daren': 1, 'sienna': 2, '(replacing': 1, 'million': 1, \"customer's\": 5, 'refusing': 2, 'live\\\\/travel': 1, 'assigned': 2, 'cheapest': 2, 'fashion': 1, 'restored': 2, 'coachworks': 1, 'post-repair': 1, 'clarified': 1, 'misunderstanding': 1, 'higher-priced': 1, 'subtracting': 1, 'borrowed': 1, 'compensate': 2, 'sleep': 1, 'shift)': 1, 'ignored': 1, 'rdx': 1, 'unauthorized': 3, \"anyone's\": 1, 'getz': 1, 'disagree': 1, \"getz's\": 1, 'lingering': 1, \"getz'\": 1, '(while': 1, 'snowy': 1, 'conditions)': 1, '4rth': 1, 'friendliness': 1, 'reliability': 2, 'tune-up': 3, '(plugs\\\\/wires)': 1, 'determined': 3, 'evidence': 1, 'collectable': 1, \"george's\": 1, 'finocchi': 1, 'plug-in': 1, 'precaution': 1, 'plastic': 4, 'tape': 2, 'removal\\\\/installation': 1, 'bag': 2, 'dragged': 1, 'metal': 1, 'below': 1, 'vitale': 1, 'condenser': 2, \"honda's\": 1, 'endanger': 1, 'wage': 1, '\"show': 1, 'youtube': 1, 'lifelong': 1, 'transmisson': 1, 'xjl': 1, 'leap': 1, '(being': 3, 'all)': 2, 'so': 1, '$12': 3, 'complain': 3, '\"check': 1, 'engine\"': 1, '$2900': 2, \"cashier's\": 1, 'co-signer': 1, 'co-sign': 1, 'mechanics\"': 1, 'liability': 1, 'associated': 2, 'acuras': 2, 'farm-n-fleet': 1, '$315': 1, 'hack': 1, 'jumping': 1, '(because': 1, 'lockout': 1, 'shifter': 1, 'functional': 1, 'preparation': 1, 'digging': 2, 'stride': 2, \"van's\": 1, 'daly': 1, 'if\\\\/when': 1, '\"out': 1, 'door\"': 1, 'tinting': 3, '$3999': 1, 'twenty': 3, 'done(while': 1, 'processed)': 1, 'ken': 3, 'georgia': 1, 'rav4': 3, 'hurt': 1, 'tail': 2, 'vey': 1, 'brandon': 3, 'independent': 1, '(only': 1, 'david)': 1, '$366': 1, 'bellisarios': 1, \"scott's\": 2, 'par': 2, \"daniel's\": 1, 'dru': 1, 'finest': 1, '(barring': 1, 'need)': 2, 'tsb': 1, '(technical': 1, 'bulletin)': 1, 'scheme': 1, 'trekking-style': 1, 'dented\\\\/scratched': 1, 'one)': 1, 'water': 10, 'fort': 1, 'proactive': 1, 'backup': 1, 'retail': 1, 'you\"': 2, 'shell': 1, 'patel': 1, '\"starred\"': 1, \"(don't\": 1, 'technique': 1, 'purifying': 1, 'ricky': 1, 'patiently': 1, 'filter)': 1, 'prospective': 2, 'lincoln': 3, 'broadman': 1, 'advises': 1, 'louis': 1, 'evans': 1, '(7': 1, 'lend': 2, 'misrepresentation': 1, 'union)': 1, 'mckenney-salinas': 1, 'welcoming': 1, 'preoccupied': 1, 'birthday': 1, 'quickness': 1, 'submitted': 2, 'awlful': 1, 'informing': 1, 'repurchase': 1, 'chrysler\\\\/jeep': 1, 'apart': 1, 'pre-lease': 1, 'solidified': 1, 'hose': 2, 'pressuring': 3, '(two': 1, 'have)': 2, '#0710': 1, 'arguing': 1, 'charge)': 1, 'vacuuming': 2, 'tread': 1, 'landin': 2, 'as-is': 2, 'animal': 1, 'fancy': 1, '(save': 1, 'gems)': 1, 'unruly': 1, 'continues': 3, '%': 2, '\"diagnosis': 2, 'fee\"': 2, 'gray': 2, 'hair': 1, '(employee)': 1, 'smog-ing': 1, 'inspector': 1, 'uninformed': 2, 'amendment': 1, 'attain': 2, 'colored': 2, 'screwdriver': 3, 'mounted': 1, '(formerly': 1, 'bruce': 1, 'sher': 1, 'goodyear)': 1, 'granted': 2, 'asy': 1, 'advance': 1, 'climb': 1, \"craig's\": 1, 'bailey': 1, 'insulted': 3, 'road-trip': 1, '$$': 2, 'published': 2, 'f$&@': 1, 'sport': 3, 'procurement': 1, 'r': 1, 'maria': 1, 'roomier': 1, 'dustin': 1, 'satisfactory': 2, '***': 1, 'tirerack': 2, 'indicated': 2, 'await': 1, 'mazdas': 1, 'intricacy': 1, 'scouted': 1, 'ago': 1, 'processed': 1, \"weeks'\": 1, 'commit': 2, 'commitment': 4, 'wed': 3, 'arisen': 1, \"wes's\": 1, 'lens': 1, 'newhighest': 1, 'like--knowing': 1, 'shorted': 2, '$44': 1, 'da': 1, 'consequence': 1, 'uninsured': 1, 'hatchback': 3, 'ignition': 3, '$125': 1, '(so-cal': 1, 'area)': 2, 'ed': 2, 'anderson': 1, '$101000': 2, 'lowest': 4, 'new-to-us': 1, 'lee': 1, 'henderson\\\\/vegas': 1, 'whoever': 2, 'generate': 1, 'backend': 1, 'hardest': 1, '\"professional\"': 1, 'febuary': 1, 'baja': 1, 'sales-team': 1, 'growing': 2, 'intake': 1, 'manifold': 3, 'graduation': 1, 'trap': 2, 'dissatisfied': 2, 'timeframe': 3, 'interior\\\\/exterior': 1, 'existed': 1, 'elliot': 1, 'run-flat': 1, 'pinnacle': 4, 'scanner': 1, 'interacted': 1, '(from': 1, 'occassions': 1, 'risking': 1, 'kelley': 2, 'csr': 1, 'hearted': 1, 'accord': 2, \"owner's\": 1, 'job\\\\/choice': 1, 'wether': 2, 'app': 4, 'conducted': 1, '\"john\"': 1, 'gonna': 2, 'cesar': 1, 'purchased\\\\/leased': 1, 'swenson': 1, 'nuts)': 1, '(any': 2, 'refusal': 1, 'sti': 1, 'swarm': 1, 'trash': 2, 'occurence': 1, 'customized': 1, 'cuz': 1, 'collect': 1, 'hurting': 1, 'relocated': 1, 'gerd': 2, 'feigns': 2, 'realization': 1, 'elderly': 2, 'fellow': 2, 'scratches\\\\/chips': 1, 'tina': 3, 're-looked': 1, 'leather': 3, 'supervising': 2, 'section': 2, '(chrome': 1, 'means)': 1, 'in\\\\/out': 1, '$750': 1, 'bypassed': 1, 'carried': 1, 'removing': 2, 'lasting': 1, 'unparalleled': 1, 'intersection': 1, 'w\\\\/san': 1, 'collusion': 1, 'outfit': 2, 'w\\\\/the': 2, 'yr': 5, 'w\\\\/usaa': 1, 'ro': 2, 'je': 1, 'couldnt': 1, 'shafted': 1, 'ex-wife': 1, 'individual': 2, 'suburban': 1, 'unfamiliar': 2, 'dashboard': 2, 'experiment': 1, 'hears': 1, 'preferred': 3, 'hi': 1, 'shayne': 1, 'mcgurthy': 1, 'invite': 2, 'sunny': 1, 'money\"': 1, 'trunk': 2, 'jacking': 1, 'wreck': 2, 'transported': 1, 'corey': 3, 'taillight': 1, \"mother's\": 1, \"hendrick's\": 1, 'subpar': 1, 'gabe': 1, 'performing': 3, \"harrah's\": 1, 'deck': 3, 'lock-guy': 1, 'operator': 1, 'relayed': 1, '(mobile': 1, 'ruin': 1, 'no': 1, 'syed': 1, 'risvi': 1, 'synced': 1, 'camille': 1, 'cares)': 1, 'b)-': 1, 'price-wise': 1, 'deliberating': 1, 'regrettably': 1, 'cargo': 1, 'resolve': 1, 'dim': 1, 'mode': 1, 'indifferent': 1, 'cry': 2, 'worrying': 1, 'intimidated': 1, 'die': 1, 'cent': 1, 'else': 2, 'present': 1, 'breakdown': 4, 'payoff': 1, 'caution': 2, 'colder': 1, 'liking': 1, \"also'they\": 1, 'dean': 1, 'kelsey': 2, 'amy': 2, 'gastonia': 2, 'human': 1, 'emotion': 1, 'bargaining': 2, 'offer($2000-': 1, '$2971': 1, '$4000)': 1, 'up-priced': 1, 'simmons': 1, 'over-priced': 2, 'bald': 1, 'anthony': 1, 'williams': 3, 'kronc': 1, 'december': 1, 'logan': 2, 'brush': 2, 'petes': 2, 'minivan': 2, 'postcard': 1, 'incpected': 2, 'alerted': 4, 'afterwards)': 1, 'entertains': 1, 'brick': 1, 'mortar': 1, '(85': 1, 'aaa)': 2, 'bramgate': 2, 'pretend': 4, 'hour+': 1, 'endure': 1, 'drafted': 1, 'whatsoever': 2, 'redeem': 1, 'run-around': 1, 'emails\\\\/calls': 1, 'honour': 1, 'e-mailed': 1, 'inquiry': 2, 'brings': 1, 'feedback': 1, 'jimmy': 1, 'rigged': 1, 'chisel': 1, 'wedged': 2, 'pound': 1, 'cruising': 1, 'solved': 1, 'anticipated': 4, 'licensed': 1, 'coupled': 1, 'cd': 1, 'herd': 1, 'negate': 1, 'preyed': 1, 'protocol': 2, 'retract': 1, '\\xa0': 2, 'marked': 2, 'backing': 1, 'mopar': 2, 'sprinter': 1, 'roadtrek': 2, 'rv)': 2, 'guessing': 1, 'opted': 4, '(wagon': 1, 'trail': 2, 'contacting': 5, 'shipped': 1, 'raptor': 1, 'insignificant': 1, '$26': 1, '$1300': 1, '(still': 1, 'not\"': 3, 'incline': 1, 'warped': 1, 'wheelchair': 1, 'user': 1, 'selecting': 2, 'reinstalled': 1, 'away': 1, 'stamp': 1, 'overweight': 1, 'groomed': 1, 'haired': 1, 'scolded': 1, 'customer)': 1, 'physic': 1, 'vessel': 1, '\"obstructing\"': 1, 'hi-tech': 1, 'marvin': 1, 'young)': 1, 'bitty': 1, '\"its': 1, 'thanked': 2, 'approve': 1, 'oldest': 1, 'assessing': 1, 'were-': 1, 'brakes-': 1, 'basis': 2, '(using': 2, '\"we\\'ve': 1, 'used\")': 1, 'mis-fire': 1, 'canceled': 1, '\"worked': 1, 'in\"': 1, 'rinsed': 1, 'furious': 1, '\"loose': 1, 'bolts\"causing': 1, 'non-bmw': 1, 'must-have': 1, 'empathized': 1, 'vangs': 1, '$2': 3, 'prius': 4, \"jake's\": 1, 'tweak': 1, 'propane': 1, 'fade': 1, 'problem(s)': 1, 'ago-': 1, 'business\\\\/finance': 1, 'add-on': 3, 'intended': 2, \"its'\": 1, 'unbeatable': 1, 'mood': 2, 'patty': 1, \"here's\": 1, '(lies': 1, 'auto-nation': 1, 'committed\\\\/vowed': 1, 're-selling': 1, 'lawyer': 1, 'fraud': 2, 'brakes)': 1, '(air': 1, 'throwing': 1, \"it'll\": 3, 'testify': 1, 'snort': 1, 'insists': 1, 'buckle': 1, 'motorcycle': 2, 'specialize': 1, 'on)': 2, 'stealership': 1, '(also': 1, 'progress)': 1, 'dom': 1, 'airbags': 1, \"week's\": 1, 'citizen': 1, 'dismissed': 1, 'haul': 2, 'deteriorated': 1, 'comfort': 2, 'prorities': 1, '&beemer': 1, 'decade': 2, 'offensive': 1, 'dirt': 2, '$2800': 2, 'hst': 1, 'sufficient': 1, 'misrepresented': 1, \"friends'\": 1, '2-years': 1, '2014': 1, 'inoperable': 2, 'dmv)': 1, '$4k)': 1, 'storm': 1, 'vent': 3, 'instrumental': 1, 'colleague': 2, 'angelo': 1, 'northwest': 2, 'notwithstanding': 1, 'mid-town': 1, 'toronto)': 1, 'zaktak': 2, 'applying': 1, 'consent': 3, 'now)': 1, 'cameron': 3, 'ownership)': 1, 'realistic': 1, 'haggling': 1, 'agreeing': 3, 'dependable': 3, 'empire': 1, '(except': 2, 'doc': 1, 'fee)': 1, 'rental)': 1, \"xterra's\": 1, 'frontier': 1, 'steer': 1, 'disagreed': 1, 'breathe': 1, 'neck': 1, 'jersey': 1, 'book\\\\/nada': 1, 'buyer*': 1, 'diehl': 1, '($40)': 1, 'encourage': 1, 'foolish': 4, '(dave': 1, 'restarted': 1, 'news': 4, 'possibility': 1, 'dispose': 1, 'patch': 1, 'particluar': 1, \"whitey's\": 2, 'independence': 2, 'emailing': 3, '(to': 1, 'tyson': 2, 'muse': 1, 'girlfriend': 2, 'reaction': 1, 'beemer': 1, 'defect': 4, 'popped': 1, 'costco': 1, '~': 1, 'bought)': 1, '(greg': 1, 'w)': 1, '\"preferred': 1, 'dealer\"': 1, '\"changed': 1, 'dynamic': 1, 'locked-in': 1, 'fred': 1, \"garcia's\": 1, 'roof)': 1, 'franchise': 1, 'sept': 1, 'apon': 1, 'months\\\\/60': 1, 'turnoff': 1, 'nicholson': 1, 'electronics': 3, 'coordinator': 1, '\"had': 1, 'knowledge\"': 1, 'god': 2, 'extent': 2, 'place)': 1, 'alittle': 1, 'abit': 1, 'erik': 1, 'allowance)': 1, '$75': 1, '(mine': 1, '2012)': 1, 'shopped': 1, 'traveled': 1, 'service\\\\/repair': 1, 'anxiety': 1, 're-inspection': 1, 'dificult': 1, 'juddi': 1, 'blade': 2, 'imported': 1, '(honda': 1, 'transition': 1, 'reassuring': 1, 'awhile': 3, 'condition)': 2, 'leakage': 1, 'addie': 1, 'ironing': 1, 'friendly': 1, 'warn': 2, 'scam\\\\/hustlers': 1, '\"families': 1, 'admitted': 2, '\"not': 1, 'wheelhouse\"': 1, 'weasel': 1, 'calculator': 1, 'teammate': 1, 'briefed': 1, 'carrier)': 1, \"in's\": 1, \"out's\": 1, 'certainty': 1, 'volunteer': 1, 'project': 2, \"daughters'\": 1, 'run-in': 1, 'lex': 1, 'legit': 1, 'tires)': 1, 'utilizing': 1, 'prepped': 1, 'rail': 1, 'build': 2, 'portion': 1, '\"pulled': 1, 'bay\"': 1, 'bullshit': 2, 'hour)': 1, 'hound': 1, 'shopper': 1, 'figuring': 1, 'me--': 1, 'grandparent': 1, 'devastated': 1, '\"bumper': 1, 'bumper\"': 1, 'punishment': 1, 'egde': 1, '-(': 1, 'wiens': 2, 'living': 1, \"zero's\": 1, \"you'll\": 2, 'silent': 1, 'splash': 2, 'renew': 2, 'differed': 1, 'survey': 3, 'cat': 1, 'hubler': 1, 'rectified': 1, 'cbb': 1, 'balked': 1, 'northlake': 1, 'majority': 2, '(oh': 1, 'repairman': 2, 'forget': 3, 'hesitates': 2, 'recorded': 2, 'recording': 1, '$27': 2, '\"randy\"': 1, 'eurotek': 2, 'gathering': 1, 'analyzing': 1, \"bj's\": 1, 'vip': 2, '$33': 1, 'saturday-after': 1, '\"signing': 1, 'room\"': 1, 'goldhammer': 1, 'ensuring': 4, 'loaded': 2, \"aarp's\": 1, 'program)': 1, 'targeting': 1, 'viewed': 1, 'lobby': 3, 'rafael': 1, \"***don't\": 1, 'here***': 1, 'melisa': 1, 'self': 2, '$800-$1': 1, 'beaumont': 1, '\"structural': 1, 'damage\"': 1, 'observation': 1, 'protect': 1, 'university': 1, 'painless': 4, 'bundle': 1, 'officer': 1, 'sustained': 1, 'rolling': 1, 'missile': 1, 'boulevard': 1, '(decatur)': 1, 'remedy': 1, 'armada': 1, 'lender': 1, 'turd': 1, '$108': 1, '\"diagnostic': 1, 'charge\"': 1, 'servicer': 1, \"servicer's\": 1, \"jeremy's\": 1, 'decipher': 1, 'equity': 2, '\"glide\"': 1, 'bicycle': 1, 'mark-up': 1, 'wheel\\\\/tire': 1, 'click': 1, 'button': 3, 'specify': 1, \"that'll\": 1, 'ignorant': 3, 'nowadays': 1, 'increased': 2, 'schumacher': 3, 'l': 1, '\"upon': 1, '$278': 1, 'smarter': 1, 'panned': 1, 'prep': 1, '$459\"': 1, '\"payments': 1, 'samaniego': 2, 'roberta': 2, 'mcdonald': 2, 'drilled': 4, 'mislead': 2, 'rescinding': 1, 'buyout': 1, '\"tiger\"': 1, 'stripe': 1, 'spider': 1, 'rotary': 1, 'buffing': 1, 'hologram': 1, 'lined': 3, 'nook': 1, 'cranny': 1, 'blvd': 3, 'zone': 1, 'scan': 2, 'catalytic': 1, 'converter': 1, 'ivan': 1, 'hispanic': 1, 'speaks': 1, 'english)': 1, 'sabotaging': 2, 'ex-employee': 1, 'acquiantance': 1, 'sabotage': 1, 'cigar': 1, 'smoking': 2, 'hamster': 1, 'waad': 1, \"wade's\": 3, 'ripcount': 1, 'smokin': 1, 'moofler': 1, 'soup': 1, 'sandwich': 1, 'maker': 1, 'salvaged': 1, 'tight': 3, 'representation': 2, 'nay-sayers': 1, 'inner': 1, 'unsatisfied': 1, 'diminished': 1, 're-ended': 1, 'bet': 1, '\"cpo-type\"': 1, 'crunched': 1, 'jive': 1, \"usaa's\": 1, 'set-up': 1, 'inconvenience)': 1, 'mychevrolet': 1, 'one-owner': 1, '(sun': 1, 'hawthorn': 1, 'dispute': 1, 'certified)': 1, 'apologized': 2, 'behalf': 3, 'kindest': 1, 'phone\"': 1, 'brett': 1, 'white': 1, 'swerved': 1, 'struck': 3, 'irreparable': 1, 'purchase\\\\/lease': 1, '$4700': 1, 'xterra': 1, 'obstacle': 2, \"hat's\": 1, 'bernard': 1, 'suggests': 1, '(even': 1, 'unlocked': 1, 'prior)': 1, 'glared': 1, '$250)': 1, 'patriotic': 1, 'american-made': 1, 'owner-operated': 1, 'new)': 1, '\"bite-sized\"': 1, 'chunk': 1, 'fired': 1, 'dangling': 1, 'reduce': 1, 'gallo-miller': 1, 'shuffle': 1, 'dvd': 2, 'player': 1, 'commission': 1, '$38k': 1, '$41k': 1, 'bc': 2, '(lease)': 1, '\"desert': 1, 'consists': 1, 'privacy': 1, 'glass)': 1, 'buckling': 1, 'alter': 1, 'directly(even': 1, 'didnt)': 1, 'play-by-play': 1, 'side-by-side': 1, 'comparison': 1, \"competitor's\": 1, '\"thank': 1, 'patience': 1, 'caliber)': 1, 'grant': 1, 'razor': 1, 'curb': 1, 'fascia': 1, '$60k': 1, '$35': 1, 'crook': 1, 'service-you': 1, 'bumming': 1, 'rides\\\\/taking': 1, 'scooped': 1, 'crumb': 1, 'irate': 1, 'ate': 1, 'replicate': 2, '20-30': 1, 'tackled': 2, 'smudge': 2, 'ceiling': 2, 'certify': 2, 'fit': 1, 'service\\\\/concern': 1, 'expedite': 1, 'te': 1, 'regulator': 1, '\"no\"': 2, 'awaited': 1, \"matt's\": 1, 'retuned': 1, '$950': 1, 'depart': 1, 'wherever': 1, 'central': 2, 'carlife': 1, 'respecting': 1, 'threaten': 1, 'health': 2, 'on\\\\/off': 1, 'partner': 1, 'eventual': 1, 'tinker': 1, 'missy': 1, \"kelley's\": 2, 'soothing': 1, 'facing': 1, 'pino': 1, 'adviser': 2, 'electronic': 1, 'clipboard': 1, 'screen': 1, 'keyboard': 1, '\"problem\"': 1, 'landscape': 1, 'count': 1, '\"up': 1, 'sale\"': 1, 'cop': 1, 'nuance': 1, 'thorobred': 1, 'tuned': 1, '\"ultimate': 1, 'machine\"': 1, 'torn': 1, \"valley's\": 1, 'swiped': 1, 'fleeced': 1, 'irritation': 1, 'balweg': 1, 'accountability': 1, 'dare': 1, 'antifreeze': 5, 'hals': 1, 'toxin': 1, 'sewer': 2, 'reporting': 1, 'epa': 1, 'agency': 1, 'public': 1, 'runoff': 1, 'freddie': 1, 'elite': 1, 'point)': 1, '\"big\"': 1, '\"yourself\"': 1, 'all': 1, 'rust': 3, 'bump': 1, 'andre': 1, 'texas': 1, 'low)': 1, 'souther': 1, 'enthused': 1, 'relieved': 1, 'connected': 1, 'constraint': 1, 'invaluable': 1, 'comparative': 1, 'yet\"': 1, 'star)-': 1, 'ganley': 1, 'loaded\"': 1, 'and\\\\/or': 1, \"ed's\": 1, 'soulless': 1, 'mason': 1, '$109': 1, 'reconsider': 2, 'i-77': 1, 'popping': 1, 'advisor)': 1, '$1200': 2, 'proving': 1, 'hesperia': 1, 'refreshment': 1, 'unturned': 1, 'releasing': 2, 'sherrie': 1, 'adi': 1, 'alleviating': 1, 'constituted': 1, 'morgan': 1, 'represenative': 1, 'ammenities': 1, 'utilize': 1, 'goodfellas': 1, 'require': 5, 'spanned': 1, 'kuba': 1, 'hanson': 1, 'volkswagon': 4, 'ending': 4, 'meh': 2, 'overruled': 1, \"napleton's\": 1, 'hopped': 1, '(2017': 2, 'miles)': 1, 'heartburn': 1, \"'recall'\": 1, 'aisin': 1, 'angel': 1, 'octopus': 1, 'marriot': 1, 'buissness': 1, 'employe': 1, 'fingerd': 1, 'toledo': 1, 'rogue': 1, 'pay-off': 2, 'pothole': 1, '3-4k': 2, '\"loaner\"': 1, 'depreciates': 1, '\"new\"': 1, 'difficulty': 1, 'later)': 1, 'chalked': 1, 'charger': 3, 'do)': 2, 'rule': 1, 'odyssey': 3, 'unwanted': 1, \"vehicle's\": 1, \"sand's\": 1, 'nest': 1, 'tour': 1, 'blown': 2, \"robert's\": 1, 'align': 1, 'berg': 1, 'pinch': 2, 'offroading': 1, 'doran': 1, 'trooper': 1, 'economy': 1, '$116': 1, 'thirteen': 1, 'decal': 1, 'dedication': 1, 'on-star': 1, 'new(used)': 1, \"'60-point\": 1, \"inspection'\": 1, 'requested)': 1, 'western': 1, '\"do': 1, 'involves': 1, 'postpone': 1, 'reschedule': 1, 'lvct': 1, 'motorhome)': 1, '(85%': 1, 'left)': 1, \"leroy's\": 1, 'symptom': 1, 'lr': 4, 'panic': 1, 'notification': 1, 'physician': 1, 'facetime': 1, 'suspect': 3, 'strike': 1, 'cherokee': 4, 'unkept': 3, 'damn': 1, '$536': 1, 'chirp': 1, 'noisy': 1, 'costing': 1, 'cahoot': 1, 'ion': 1, 'me\\\\/': 1, 'talent': 1, \"marshall's\": 1, 'crashed': 2, 'staffed': 1, 'dint': 1, 'deadline': 1, 'creeping': 1, \"line's\": 1, 'uhaul': 1, 'waive': 1, 'rotating': 1, 'kerr': 2, 'back-doored': 1, 'allowance': 1, 'cost)': 1, 'immediatley': 1, '\"tom\"': 3, '(3\\\\/21\\\\/2015)': 1, '\"im': 1, 'tryin': 1, \"freakin'\": 1, 'aggressive\"': 2, '4runners': 2, 'phx': 2, 'dallas': 2, '$7500': 1, 'investment': 1, 's4': 1, 'broughton': 1, 'totaled)': 1, 'to\\\\/deceived': 1, 'montrose': 1, 'fairlawn': 1, 'haggled': 1, 'fi': 1, 'weighing': 1, 'stain': 2, 'jmj': 2, 'tl': 2, 'importance': 1, 'hardship': 1, \"boyfriend's\": 1, 'fifty': 1, 'successor': 1, '$450': 1, 'deprive': 1, 'disrespect': 2, 'outlandish': 1, 'catastrophe': 1, 'preface': 1, 'settle': 2, '(8': 1, 'spouse': 1, 'wilde': 1, 'pain-free': 1, 'version': 1, 'shuffling': 1, 'reusable': 1, 'dere': 1, 'supervisor': 2, 'presuming': 2, 'scream': 2, 'clerk': 2, 'junior': 1, 'pepboys': 1, '$50': 1, 'dinner': 1, \"taylor's\": 1, 'grey': 1, 'harvey': 1, 'car\"': 1, 'summarized': 1, 'money-wise': 1, 'high-end': 1, 'cadillacs': 2, 'invested': 1, 'lover': 1, 'utter': 1, 'bilking': 1, \"business'\": 1, 'behavior': 1, 'upsetting': 1, '\\xa0\\xa0i': 1, '(he': 1, 'leaf': 2, '(unheard': 1, 'of)': 1, 'used)': 1, 'nowhere': 1, '\\xa0\\xa0our': 1, '(piece': 1, '$h1t)': 1, '($100-$200': 1, 'mishap': 1, 'long-time': 1, 'rustin': 2, 'reynolds': 1, 'non-existent': 1, 'sight': 1, 'unseen': 1, 'wittnessed': 1, 'sueing': 1, 'stereo': 1, '2nd': 1, 'swore': 1, 'curious': 2, '\"inspection\"': 1, '\"maintenance\"': 2, 'cal': 1, 'pac': 1, 'autos)': 1, 'travelling': 1, 'tonite': 1, 'resist': 1, 'urge': 1, 'hug': 1, 'root': 1, 'canal': 1, 'bumpy': 1, 'grinned': 1, 'transformed': 1, 'babbitt': 1, 'motorwerks': 1, 'reluctant': 1, 'bill)': 1, 'spirit': 2, 'company)': 1, 'landrover': 1, 'guide': 1, 'kappler': 1, 'created': 1, 'greensboro': 1, 'geico': 3, 'phoned': 1, 'embarrassed': 1, 'lakeshore': 1, 'contains': 1, 'purported': 1, 'printout': 1, '\"handwritten\"': 1, 'bought\\\\/leased': 1, 'chatted': 1, '\"never\"': 1, 'cruze': 1, 'kathy': 1, 'dawson': 1, '(temporary': 1, 'improves': 2, 'machine': 5, 'beck': 1, 'reassurance': 1, 'lights\"': 1, 'dinging': 1, 'burton': 1, '(go': 1, 'figure)': 1, '$47k': 1, 'deisel': 1, 'united': 2, 'nissain': 1, 'purchasing\"': 1, 'samantha': 1, 'tucson': 1, 'julian': 1, 'glance': 2, 'carriage': 1, 'repair-despair': 1, 'unmatched': 1, 'appointment)': 1, 'inbound': 1, 'tommy': 1, 'loop': 2, 'montz': 1, 'rendition': 1, 'finish)': 1, '(oil': 1, 'apologizing': 1, 'usage': 2, 'less-than-great': 1, 'ram': 1, 'cummins': 1, 'offset': 1, 'roading': 1, 'reflection': 1, 'prioritized': 1, 'daunting': 1, 'flagstaff)': 1, '$246\\\\/month': 1, '$29': 1, 'network': 1, 'viable': 1, '(\"they': 1, \"'training'\": 1, 'it\")': 1, '\"rebates\"': 1, 'charleston': 1, 'manny': 1, 'takin': 1, 'downsize': 1, 'compact': 1, 'rate)': 1, 'nv)': 1, 'embarrassing': 1, 'tantrum': 2, 'roy': 1, 'transferring': 1, 'ouch': 1, 'unregistered': 1, 'f-550': 1, 'charter': 1, 'bus': 1, 'colorado': 1, 'tk': 1, \"d's\": 1, 'annual': 1, 'bud': 1, 'select': 2, 'engineer)': 1, 'pack': 1, 'hiding': 1, '(yet)': 1, \"vegas'\": 1, 'shove': 1, 'fitted': 2, '25-30%': 1, 'replaced\\\\/repaired': 1, 'prolong': 1, 'describing': 1, 'wiggle': 1, 'reprimanded': 1, '\"wasting': 1, 'time\"': 1, '\"sitting': 1, 'field': 1, 'edip': 1, '(http': 1, 'unavi': 4, 'x5': 2, 'reimbursed': 1, 'somehow': 1, 'mother-in-law': 1, \"customers'\": 1, 'charlie': 5, 'garenteed': 1, '7th': 1, 'secluded': 1, 'attributed': 1, '\"ticking\"': 3, 'a$1000': 1, 'deductible': 3, 'devalued': 1, '$11': 1, 'prepare': 1, 'spotless': 2, 'autoshops': 1, 'trey': 1, 'weary': 1, 'hyundai)': 1, 'ghost': 1, 'hylton': 1, 'weston': 1, 'parker': 1, 'a2': 1, 'mitigate': 1, '$2000+': 1, '(parts': 1, 'labor)': 1, 'noticeable': 1, 'undercarriage': 1, 'voluntary': 1, 'surrender': 1, 'kurtis': 1, \"kurtis's\": 1, 'temperature': 1, 'equinox': 2, '~$24k': 1, '$29k': 1, 'cashed': 1, 'wow': 1, 'tuning': 1, 'hoist': 1, 'pre-purchase': 1, 'armand': 1, 'jud': 1, '(anthem': 1, 'phob': 2, 'duplicate': 1, 'antonio': 2, 'morale': 1, 'bj': 1, 'facet': 1, '$225': 2, 'scrape': 2, 'alloy': 2, 'implies': 1, 'hid': 1, 'rescue': 2, 'hendricks': 3, 'vehicles)': 1, 'atlanta)': 1, 'pawn': 1, 'chappy': 1, 'nailed': 1, 'gearhead': 1, 'disservice': 1, 'admiring': 1, 'reception': 1, 'huddle': 1, 'carrying': 1, 'direction': 1, 'hello': 1, 'character': 1, 'ssc': 1, 'ab': 2, 'spankin': 1, 'entirety': 1, '(major': 1, 'chip)': 1, '$60': 1, 'struggling': 1, 'registering': 3, 'obligate': 1, 'cadillac)': 1, 'xt': 2, 'stu': 1, '(spent': 1, '$1200)': 1, 'rescheduled': 1, 'frame-': 1, 'call-': 1, 'entitled': 1, 'see)': 1, 'acted': 1, 'swindle': 1, 'student': 1, 'debt': 1, 'income': 1, 'sanity': 1, 'ricardo': 1, 'tickled': 1, 'pink': 1, 'intimidates': 1, '\"made': 1, 'cheapo': 1, 'traumatic': 1, 'cambron': 1, 'cx-7': 1, 'gyro': 1, 'canadian': 1, 'ontario': 1, 'licence': 1, 'proposed': 1, \"'loose'\": 1, 'snowing)': 1, 'km\\\\/hr': 1, 'season': 1, 'maximize': 1, 'activity': 1, 'riverview': 2, 'dividend': 1, 'trd': 1, 'quickest': 1, 'guest': 1, 'steel': 2, 'devaluing': 1, 'hargraves': 1, 'kudos': 1, 'scott)': 1, 'disposition': 1, 'waived': 1, 'pre-paid': 3, 'efforts)': 1, \"gentleman's\": 1, '(geico)': 1, 'tactful)': 1, 'principled': 1, 'oropeza': 1, 'vist': 1, 'develop': 1, 'outsourcing': 1, '(s)': 1, 'maintenance\\\\/repairs': 1, '4-runner': 1, 'crawford': 1, 'news\"': 1, 'rocky': 1, 'remark': 1, 'down\\\\/affordable': 1, 'incident': 1, 'deflected': 1, '(2008': 1, 'ring': 3, 'drilling': 1, 'candy': 1, '$32': 1, 'intelligence': 1, 'sued': 1, 'verge': 1, 'uncertain': 1, 're-sale': 1, 'butt': 1, 'deaslership': 1, 'glenn': 2, 'prestigee': 1, 'repair\\\\/replace': 1, 'coast': 4, \"arizona's\": 2, 'hurricane': 2, 'destroyed': 2, 'tornado': 1, 'stationed': 1, 'carolina': 1, 'wipe': 1, 'clark': 1, 'alighnment': 1, 'bear': 2, 'solon': 2, \"homer's\": 1, '\"too': 1, 'costly\"': 1, 'container': 4, 'empty': 2, 'warrant': 1, 'jotting': 1, 'alejandra': 1, 'tour\\\\/introduction': 1, '(just': 1, 'smitty': 1, 'predicted)': 1, 'gab': 1, 'cosmetic': 1, 'jaime': 1, 'system)': 1, 'ebullient': 1, 'tricky': 1, 'eva': 1, 'cure': 1, 'neighbor': 1, '$h': 1, 'accomodating': 1, 'art': 1, 'taste': 1, 'r&m': 2, 'data': 1, 'demanding': 2, 'refinanced': 2, 'cancelled': 1, 'check-engine': 1, 'scrap': 1, 'owing': 1, 'glusco': 1, 'dana': 2, 'explorer)': 1, 'ultimate': 1, 'unknowledgeable': 1, \"caliber's\": 1, 'irresponsible': 1, 'wifi': 1, 'wolff': 1, 'engineered': 1, 'shotwell': 1, \"subaru's\": 1, 'drained': 1, 'puddle': 1, 'coworker': 1, 'coordinate': 1, 'x3': 1, 'etc)': 1, 'rushing': 1, 'in-stock': 1, 'undesirable': 1, 'overfilled': 1, 'dip': 1, 'rubio': 1, '\"everything': 1, 'covered\"': 1, 'hang': 1, '2003-2011': 1, 'buy\\\\/take': 1, '(1-owner': 1, 'rachel': 1, 'sixth': 1, 'rodeo': 2, 'inability': 1, 'unwillingness': 1, 'rental\\\\/loner': 1, 'fastest': 1, 'designed': 1, 'cottman': 1, 'cornelius': 1, '10-14': 1, 'owes': 1, 'rzr': 1, 'humiliated': 1, 'oblivious': 1, 'pdi': 1, 'alternative': 3, 'resonator': 1, 'jeffrey': 1, 'granzen': 1, 'lorena': 2, 'newmarket': 1, 'curteous': 1, 'effecient': 1, 'beneficial': 1, \"greulich's\": 1, '\"mechanics\"': 1, 'change\\\\/tire': 1, 'plan)': 1, 'certificate': 1, 'guzzler': 1, '535d': 1, 'velasques': 1, 'wally': 1, 'strive': 1, 'confuse': 1, 'motorcoach': 1, 'rubicon': 1, 'jaron': 1, 'saab': 2, 'creature': 1, 'hawk': 1, 'thomas': 1, 'uconnect': 1, 'ego': 1, 'bruised': 1, '$9300': 1, 'anther': 1, 'luster': 1, 'urgency': 1, 'dependency': 1, 'judge': 1, 'rainy': 1, '(alerting': 1, 'issues)': 1, 'skills\\\\/knowledge': 1, 'yourmechanic': 1, 'blaine': 1, 'involve': 1, 'solder': 1, 'grunwold': 2, 'watertown': 2, 'pictured': 1, 'walk-through': 1, 'sincerer': 1, 'unreliable': 2, 'non-members': 1, 'visit)': 1, 'f-pace': 1, 'caa': 1, 'arizona-': 1, 'wheeler': 1, 'esquivel': 1, 'animosity': 1, '\"frakentruck\"': 1, 'conglomeration': 1, 'spanning': 1, 'detroit': 1, 'lesueur': 2, 'forgotten': 2, 'ranch': 1, 'occurring': 2, 'circled': 1, 'spelling': 1, 'work)': 1, '$6500': 1, 'excludes': 1, 'high-mileage': 1, 'needs)': 1, 'iain': 1, '(one': 1, 'reps)': 1, 'btw': 1, 'millennium': 1, 'collecting': 1, 'plethora': 1, '(some': 1, 'jdm)': 1, 'harris': 1, 'on-time': 1, 'interlock': 2, 'issue)': 1, 'deduction': 1, 'buzzing': 1, 'credited)': 1, '(either': 1, 'chandler)': 1, 'dark': 1, 'boot': 1, 'dinky': 1, \"'spot\": 1, \"delivered'\": 1, 'p0442': 1, '$632': 1, 'fire': 1, 'hazard': 1, '$139': 1, 'flange': 1, 'extreme': 1, 'snack': 1, 'one-owner\\\\/low': 1, 'holding-up': 1, 'chevron': 1, 'gaglione': 1, 'systematic': 1, 'uneasy': 1, 'father)': 1, 'british': 1, 'rode': 2, 'pahl': 1, '\"park': 1, 'stratosphere': 1, 'battle': 1, 'bidding': 1, 'war': 1, 'junk': 2, 'thingy': 1, 'fac': 1, 'was)': 1, 'beige': 1, 'snap': 1, 'driver)': 1, 'igor': 1, '(1st': 1, 'monitor': 2, 'beverage': 2, \"children's\": 2, 'generation': 1, 'native': 1, 'joseph': 1, 'attached': 1, 'specified': 1, 'predict': 1, 'pros\\\\/cons': 1, 'totalling': 1, 'non-work': 1, '$799': 1, 'paquin': 1, 'yuma': 1, 'incredulous': 1, 'miffed': 1, \"brandon's\": 1, 'detailer': 1, 'exit': 2, 'fudged': 1, 'adot': 1, 'identify': 1, '$taxes': 1, 'ludo': 1, 'day-': 1, 'patronizing': 1, 'quota': 1, 'usaa': 1, 'acknowledge': 1, 'attorney': 1, '(away': 1, 'jargon': 1, 'blew': 1, 'spray': 1, 'brook': 1, 'tomas': 1, 'lopez': 1, 'gateway': 1, 'upselling': 1, 'obvious)': 1, 'sensing': 1, 'follows': 1, 'apologize': 1, 'entity': 1, 'string': 1, 'paid$190': 1, 'locksmith': 1, 'another$100': 1, '\"elitest\"': 1, 'aura': 1, 'evokes': 1, 'pressure\"': 1, 'persistent': 1, '(keeping': 1, 'get-go': 1, 'notorious': 1, 'zane': 1, 'them-': 1, 'mitch': 2, 'julio': 3, 'overdue': 1, 'eco': 1, 'patti': 1, \"thorobred's\": 1, 'shop\"': 1, 'maureen': 1, 'leg': 1, 'technology\\\\/features': 1, \"joe's\": 1, 'prepping': 1, \"toyota's\": 1, 'overlooked': 1, 'assuming': 1, '(personal': 1, 'diagnosis)': 1, 'trading-in': 1, 'bastard': 1, 'kelly': 1, \"johnson's\": 1, 'hickory': 1, 'biondi': 1, 'spotty': 1, 'spilled': 1, 'covering': 1, 'snow': 1, 'researched': 1, \"audi's\": 1, 'enthusiast': 1, 'flip': 1, 'sonic': 2, 'lookin': 1, 'out-the-door': 1, 'ase': 1, 'girly': 1, 'excluded': 1, 'brushing': 1, 'edie': 2, '$5000': 1, 'culprit': 1, '(paid': 1, '$150)': 1, 'warrenties': 1, 'reassured': 1, 'warrenty': 1, 'loosers': 1, 'lock\\\\/unlock': 1, 'ward': 1, \"'certified'\": 1, 'lochrin': 3, 'mot': 3, 'jammed': 2, 'hand-brake': 2, 'receptionist': 1, 'pursuade': 1, 'drivable': 1, 'mourning': 1, 'literature': 1, 'complementary': 1, 'speech': 1, 'chevrolet-we': 1, 'describe': 1, \"ford's\": 1, 'works\"': 1, '$39': 1, \"you'd\": 1, 'inevitable': 1, 'up': 1, 'ronnie': 1, 'stunned': 2, 'co-worker': 1, 'hike': 1, 'bushing': 1, '(apprx': 1, '$2600)': 1, 'edmonds': 1, 'strived': 1, '\"was': 2, 'damnit': 1, 'unsuccessful': 1, 'budged': 1, '\"listen': 1, \"manufacturers'\": 1, 'vintage': 1, 'rectify': 1, 'hooking': 1, 'flex': 1, 'models)': 1, '$873': 1, 'motortek': 2, '(seems': 1, 'affiliation': 1, 'brand)': 1, 'rawry': 1, 'abc': 1, 'zentek': 1, 'applies': 1, 'runaround': 1}\n"
     ]
    }
   ],
   "source": [
    "reviews_with_sentences = processed_df['words_lemmatized']\n",
    "\n",
    "graph = {}\n",
    "for review in reviews_with_sentences :\n",
    "    for sentence in review :\n",
    "        for w1 in sentence :\n",
    "            if w1 in graph.keys() :\n",
    "                for w2 in sentence :\n",
    "                    if w2 in graph[w1].keys() :\n",
    "                        graph[w1][w2] += 1\n",
    "                    else :\n",
    "                        graph[w1][w2] = 1\n",
    "            else :\n",
    "                graph[w1] = {}\n",
    "                for w2 in sentence :\n",
    "                    graph[w1][w2] = 1\n",
    "print(graph['vehicle'])\n",
    "            \n",
    "\n",
    "        "
   ]
  },
  {
   "cell_type": "markdown",
   "metadata": {},
   "source": [
    "## Graph with NetworkX"
   ]
  },
  {
   "cell_type": "code",
   "execution_count": 34,
   "metadata": {},
   "outputs": [],
   "source": [
    "import networkx as nx\n",
    "reviews_with_sentences = processed_df['words_lemmatized']\n",
    "all_words = processed_df['joined_words'].tolist()\n",
    "all_words = [inner for outer in all_words for inner in outer]\n",
    "\n",
    "def create_graph(n):\n",
    "    fdist = FreqDist(all_words)\n",
    "    frequent_words = fdist.most_common(n)\n",
    "    words = [word[0] for word in frequent_words]\n",
    "    frequencies = [word[1] for word in frequent_words]\n",
    "    fdist = FreqDist(all_words)\n",
    "    G = nx.Graph()\n",
    "    for i,review in enumerate(reviews_with_sentences) :\n",
    "        for sentence in review :\n",
    "            for w1 in sentence :\n",
    "                if w1 in G.nodes :\n",
    "                    for w2 in sentence :\n",
    "                        if w2 in words :\n",
    "                            if w2 in G.adj[w1] :\n",
    "                                try :\n",
    "                                    index = words.index(w1)\n",
    "                                    G.edges[w1,w2]['weight'] += 1/frequencies[index]\n",
    "                                except ValueError :\n",
    "                                    print('Nope')\n",
    "                            else :\n",
    "                                if w2 not in G.nodes :\n",
    "                                    G.add_node(w2)\n",
    "                                    index = words.index(w2)\n",
    "                                    weight = 1/frequencies[index]\n",
    "                                    G.add_weighted_edges_from([(w1,w2,weight)])\n",
    "                else :\n",
    "                    if w1 in words :\n",
    "                        G.add_node(w1)\n",
    "                        for w2 in sentence :\n",
    "                            if w2 not in G.nodes and w2 in words:\n",
    "                                G.add_node(w2)\n",
    "                                index = words.index(w2)\n",
    "                                weight = 1/frequencies[index]\n",
    "                                G.add_weighted_edges_from([(w1,w2,weight)])\n",
    "    return G\n",
    "G = create_graph(50)\n",
    "\n",
    "#plt.subplot(121)\n",
    "#nx.draw(G, with_labels=True, font_weight='bold')\n"
   ]
  },
  {
   "cell_type": "markdown",
   "metadata": {},
   "source": [
    "## Build matrix"
   ]
  },
  {
   "cell_type": "code",
   "execution_count": 71,
   "metadata": {},
   "outputs": [
    {
     "name": "stdout",
     "output_type": "stream",
     "text": [
      "49.68\n"
     ]
    }
   ],
   "source": [
    "import numpy as np\n",
    "reviews_with_sentences = processed_df['words_lemmatized']\n",
    "reviews = processed_df[\"joined_words\"]\n",
    "\n",
    "all_words = processed_df['joined_words'].tolist()\n",
    "\n",
    "\n",
    "\n",
    "all_words = [inner for outer in all_words for inner in outer]\n",
    "\n",
    "\n",
    "def get_matrix(n):\n",
    "    fdist = FreqDist(all_words)\n",
    "    frequent_words = fdist.most_common(n)\n",
    "    A = np.zeros((n,n))\n",
    "    words = [word[0] for word in frequent_words]\n",
    "    frequencies = [word[1] for word in frequent_words]\n",
    "    for i,review in enumerate(reviews_with_sentences) :\n",
    "        for sentence in review :\n",
    "            for w1 in sentence :\n",
    "                if w1 in words :\n",
    "                    index1 = words.index(w1)\n",
    "                    for w2 in sentence :\n",
    "                        if w2 in words :\n",
    "                            index2 = words.index(w2)\n",
    "                            A[index1,index2] += 1\n",
    "    for i in range(len(A)) :\n",
    "        A[i][i] = 1\n",
    "    return(A,words)\n",
    "        \n",
    "    \n",
    "A,words = get_matrix(50)\n",
    "s = 0\n",
    "\n",
    "for i in range(len(A)):\n",
    "    Si = 0\n",
    "    for j in range(len(A)):\n",
    "        if A[i][j] > 0 :\n",
    "            Si += 1\n",
    "    s += Si\n",
    "    \n",
    "print(s/len(A))\n",
    "\n",
    "\n"
   ]
  },
  {
   "cell_type": "code",
   "execution_count": 21,
   "metadata": {},
   "outputs": [
    {
     "name": "stdout",
     "output_type": "stream",
     "text": [
      "20.9428\n"
     ]
    }
   ],
   "source": [
    "print(np.mean(A))"
   ]
  },
  {
   "cell_type": "code",
   "execution_count": 66,
   "metadata": {},
   "outputs": [],
   "source": [
    "import time\n",
    "import random\n",
    "import numpy as np\n",
    "import pandas as pd\n",
    "import matplotlib.pyplot as plt\n",
    "\n",
    "def get_classe(i,classes):\n",
    "    for c in classes:\n",
    "        if i in c:\n",
    "            return(c)\n",
    "\n",
    "def louvain_1(critere, a, classes):\n",
    "    n = np.shape(a)[0]\n",
    "    dico_fusion = {}\n",
    "    for i in range(n):\n",
    "        classe_i = get_classe(i,classes)\n",
    "        moins_classe_i = np.sum([critere(i,j,a) for j in classe_i])\n",
    "        delta = 0\n",
    "        classe_found = None\n",
    "        for classe in classes:\n",
    "            plus_classe = np.sum([critere(i,j,a) for j in classe])\n",
    "            if i not in classe:\n",
    "                plus_classe += critere(i,i,a)\n",
    "            current_delta = -moins_classe_i+plus_classe\n",
    "            if current_delta>delta:\n",
    "                delta = current_delta\n",
    "                classe_found = classe\n",
    "        if classe_found:\n",
    "            classe_found.update({i})\n",
    "            classe_i.remove(i)\n",
    "    return([s for s in classes if s])\n",
    "\n",
    "def merge(classes, a):\n",
    "    n = len(classes)\n",
    "    new_a = np.zeros((n,n))\n",
    "    new_i = 0\n",
    "    dico = {}\n",
    "    for classe in classes:\n",
    "        for i in classe:\n",
    "            dico[i] = new_i\n",
    "        new_i+=1\n",
    "    for i in range(np.shape(a)[0]):\n",
    "        for j in range(np.shape(a)[1]):\n",
    "            new_a[dico[i]][dico[j]] = new_a[dico[i]][dico[j]] + a[i][j]\n",
    "    return(new_a)\n",
    "\n",
    "def louvain(critere, a, classes_finales={}):\n",
    "    n = np.shape(a)[0]\n",
    "    classes = [{i} for i in range(n)]\n",
    "    if not classes_finales:\n",
    "        classes_finales = classes.copy()\n",
    "    classes = louvain_1(critere, a, classes)\n",
    "    a = merge(classes, a)\n",
    "    classes_finales = [set.union(*[classes_finales[i] for i in classe]) for classe in classes]\n",
    "    if len(classes)==n:\n",
    "        return(classes_finales)\n",
    "    else:\n",
    "        return(louvain(critere, a, classes_finales))\n",
    "\n",
    "def classes_labels(classes_finales,n):\n",
    "    clusters = []\n",
    "    print(\"Il y a \" + str(len(classes_finales)) + \" clusters\")\n",
    "    for i,classe in enumerate(classes_finales) :\n",
    "        cluster = []\n",
    "        for i in classe :\n",
    "            cluster.append(words[i])\n",
    "        clusters.append(cluster)        \n",
    "    return clusters\n",
    "        \n",
    "    \n",
    "\n",
    "def critere1(i,j,a):\n",
    "    delta = 0\n",
    "    if a[i][j] > 0 : \n",
    "        delta = 1\n",
    "    s = (a[i][j]-np.sum(a[i])*np.sum(a[j])/(2*len(a)))\n",
    "    return(s)\n",
    "                         \n",
    "def critere2(i,j,a):\n",
    "    delta = 0\n",
    "    if a[i][j] > 0 : \n",
    "        delta = 1\n",
    "    s = (a[i][j]-np.sum(a[i])/len(a)-np.sum(a[j])/len(a)+np.sum(np.sum(a))/len(a)**2)\n",
    "    return(s)\n",
    "\n",
    "def critere3(i,j,a):\n",
    "    delta = 0\n",
    "    if a[i][j] > 0 : \n",
    "        delta = 1\n",
    "    s = (a[i][j]-np.sum(a[i])*np.sum(a[j])/(np.sum(np.sum(a))))\n",
    "    return(s)"
   ]
  },
  {
   "cell_type": "code",
   "execution_count": 72,
   "metadata": {
    "scrolled": true
   },
   "outputs": [
    {
     "name": "stdout",
     "output_type": "stream",
     "text": [
      "Il y a 4 clusters\n",
      "[['food', 'place', 'time', 'service', 'restaurant', 'location', 'price', 'review', 'staff', 'people', 'experience', 'way', 'star', 'lot'], ['dinner', 'lunch', 'night', 'day', 'hour', 'friend'], ['everything', 'minute', 'order', 'menu', 'table', 'area', 'drink', 'something', 'beer', 'thing', 'wait', 'bar', 'server'], ['sauce', 'dish', 'pizza', 'meal', 'burger', 'salad', 'side', 'bit', 'sandwich', 'meat', 'flavor', 'fry', 'cheese', 'rice', 'taste', 'roll', 'portion']]\n"
     ]
    }
   ],
   "source": [
    "classes_finales1 = louvain(critere1,A)\n",
    "classes_finales2 = louvain(critere2,A)\n",
    "classes_finales3 = louvain(critere3,A)\n",
    "\n",
    "print(classes_labels(classes_finales3,50))\n",
    "\n",
    "\n"
   ]
  },
  {
   "cell_type": "code",
   "execution_count": 73,
   "metadata": {},
   "outputs": [
    {
     "name": "stdout",
     "output_type": "stream",
     "text": [
      "Il y a 4 clusters\n"
     ]
    }
   ],
   "source": [
    "clusters = classes_labels(classes_finales3,50)"
   ]
  },
  {
   "cell_type": "markdown",
   "metadata": {},
   "source": [
    "## Nombre de clusters en fonction du nombre de mots"
   ]
  },
  {
   "cell_type": "code",
   "execution_count": 134,
   "metadata": {},
   "outputs": [
    {
     "name": "stdout",
     "output_type": "stream",
     "text": [
      "50\n",
      "100\n",
      "150\n",
      "200\n",
      "250\n",
      "300\n",
      "350\n",
      "400\n",
      "450\n",
      "500\n"
     ]
    },
    {
     "data": {
      "image/png": "[encoded data removed]",
      "text/plain": [
       "<Figure size 432x288 with 1 Axes>"
      ]
     },
     "metadata": {
      "needs_background": "light"
     },
     "output_type": "display_data"
    }
   ],
   "source": [
    "nb_words = [50,100,150,200,250,300,350,400,450,500]\n",
    "clusters_1 = np.zeros(len(nb_words))\n",
    "clusters_2 = np.zeros(len(nb_words))\n",
    "for i,nb in enumerate(nb_words) :\n",
    "    print(nb)\n",
    "    A = get_matrix(nb)[0]\n",
    "    classes_1 = louvain(critere1,A)\n",
    "    clusters_1[i] = len(classes_1)\n",
    "    classes_2 = louvain(critere2,A)\n",
    "    clusters_2[i] = len(classes_2)\n",
    "    \n",
    "plt.plot(nb_words,clusters_1)\n",
    "plt.plot(nb_words,clusters_2)\n",
    "\n",
    "plt.show()"
   ]
  },
  {
   "cell_type": "code",
   "execution_count": 136,
   "metadata": {},
   "outputs": [
    {
     "data": {
      "text/plain": [
       "<matplotlib.legend.Legend at 0x185f9b1a5c8>"
      ]
     },
     "execution_count": 136,
     "metadata": {},
     "output_type": "execute_result"
    },
    {
     "data": {
      "image/png": "[encoded data removed]",
      "text/plain": [
       "<Figure size 432x288 with 1 Axes>"
      ]
     },
     "metadata": {
      "needs_background": "light"
     },
     "output_type": "display_data"
    }
   ],
   "source": [
    "plt.plot(nb_words,clusters_1,label='Critère 1')\n",
    "plt.plot(nb_words,clusters_2, label=\"Critère 2\")\n",
    "plt.legend()"
   ]
  },
  {
   "cell_type": "markdown",
   "metadata": {},
   "source": [
    "## Attrbution phrase cluster"
   ]
  },
  {
   "cell_type": "code",
   "execution_count": 74,
   "metadata": {},
   "outputs": [
    {
     "name": "stdout",
     "output_type": "stream",
     "text": [
      "Il y a 4 clusters\n",
      "Il y a 63.236666666666665 % de review attribuées à des clusters\n"
     ]
    }
   ],
   "source": [
    "clusters = classes_labels(classes_finales3,100)\n",
    "def is_in_clusters(word):\n",
    "    res = False\n",
    "    index = 0\n",
    "    for i,classe in enumerate(clusters) :\n",
    "        for w in classe :\n",
    "            if word == w :\n",
    "                res = True\n",
    "                index = i\n",
    "                break\n",
    "    return res,index\n",
    "\n",
    "def attribute_cluster(row):\n",
    "    sentences = row['words_lemmatized']\n",
    "    cs = []\n",
    "    for sentence in sentences :\n",
    "        c = []\n",
    "        for word in sentence :\n",
    "            \n",
    "            res,i = is_in_clusters(word)\n",
    "            if res :\n",
    "                c.append(i)\n",
    "            else :\n",
    "                c.append('None')\n",
    "        cs.append(c)\n",
    "    return c\n",
    "\n",
    "processed_df['clustered'] = processed_df.apply(attribute_cluster,axis=1)\n",
    "\n",
    "count = 0\n",
    "for review in processed_df['clustered']:\n",
    "    for sentence in review :\n",
    "\n",
    "        if sentence != 'None':\n",
    "            count += 1\n",
    "percentage = count/len(processed_df['clustered'])*100\n",
    "\n",
    "print(\"Il y a \"+ str(percentage) + \" % de review attribuées à des clusters\")\n",
    "\n",
    "                \n",
    "                "
   ]
  },
  {
   "cell_type": "code",
   "execution_count": 75,
   "metadata": {},
   "outputs": [
    {
     "name": "stdout",
     "output_type": "stream",
     "text": [
      "0                                      [0]\n",
      "1           [3, None, None, 2, None, None]\n",
      "2     [3, None, 3, None, None, None, None]\n",
      "3                                   [None]\n",
      "4                       [None, None, None]\n",
      "5                                   [None]\n",
      "6                                   [None]\n",
      "7                                      [0]\n",
      "8                                   [None]\n",
      "9                                [0, None]\n",
      "10                                     [0]\n",
      "11                      [None, None, 2, 2]\n",
      "12                               [None, 3]\n",
      "13                               [None, 3]\n",
      "14                               [0, None]\n",
      "15                                  [None]\n",
      "16                                  [None]\n",
      "17                                      []\n",
      "18                         [None, None, 2]\n",
      "19                      [None, 0, None, 0]\n",
      "20                               [0, 0, 0]\n",
      "21                      [None, None, None]\n",
      "22                                     [3]\n",
      "23                                      []\n",
      "24                         [None, 3, None]\n",
      "25                      [None, None, None]\n",
      "26                                  [3, 2]\n",
      "27                   [None, 2, None, None]\n",
      "28                            [0, None, 1]\n",
      "29                                     [1]\n",
      "30                                  [None]\n",
      "31                                     [0]\n",
      "32                            [None, None]\n",
      "33                                     [1]\n",
      "34                               [1, 2, 2]\n",
      "35                                      []\n",
      "36                   [2, None, None, None]\n",
      "37                                     [0]\n",
      "38                                     [0]\n",
      "39                            [None, None]\n",
      "40                                  [None]\n",
      "41                                  [None]\n",
      "42                                  [None]\n",
      "43                                      []\n",
      "44                                     [0]\n",
      "45                                      []\n",
      "46                      [0, 2, None, None]\n",
      "47                                      []\n",
      "48                         [None, None, 0]\n",
      "49                                      []\n",
      "50                                     [3]\n",
      "Name: clustered, dtype: object\n"
     ]
    }
   ],
   "source": [
    "print(processed_df['clustered'].loc[:50])"
   ]
  },
  {
   "cell_type": "markdown",
   "metadata": {},
   "source": [
    "## Attribution des clusters"
   ]
  },
  {
   "cell_type": "code",
   "execution_count": null,
   "metadata": {},
   "outputs": [],
   "source": []
  }
 ],
 "metadata": {
  "kernelspec": {
   "display_name": "Python 3",
   "language": "python",
   "name": "python3"
  },
  "language_info": {
   "codemirror_mode": {
    "name": "ipython",
    "version": 3
   },
   "file_extension": ".py",
   "mimetype": "text/x-python",
   "name": "python",
   "nbconvert_exporter": "python",
   "pygments_lexer": "ipython3",
   "version": "3.7.4"
  }
 },
 "nbformat": 4,
 "nbformat_minor": 2
}
