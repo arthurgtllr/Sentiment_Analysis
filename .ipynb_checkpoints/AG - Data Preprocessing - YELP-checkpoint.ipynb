{
 "cells": [
  {
   "cell_type": "code",
   "execution_count": 9,
   "metadata": {},
   "outputs": [],
   "source": [
    "import pandas as pd\n",
    "import matplotlib.pyplot as plt\n",
    "\n",
    "import re\n",
    "\n",
    "import nltk\n",
    "from nltk.tokenize import word_tokenize\n",
    "from nltk.corpus import stopwords\n",
    "from nltk.stem import PorterStemmer\n",
    "from nltk.stem.wordnet import WordNetLemmatizer\n",
    "from nltk.probability import FreqDist\n",
    "\n",
    "from data_preprocesser import preprocessed_data_path\n",
    "\n",
    "from wordcloud import WordCloud, STOPWORDS, ImageColorGenerator"
   ]
  },
  {
   "cell_type": "code",
   "execution_count": 5,
   "metadata": {},
   "outputs": [
    {
     "data": {
      "text/html": [
       "<div>\n",
       "<style scoped>\n",
       "    .dataframe tbody tr th:only-of-type {\n",
       "        vertical-align: middle;\n",
       "    }\n",
       "\n",
       "    .dataframe tbody tr th {\n",
       "        vertical-align: top;\n",
       "    }\n",
       "\n",
       "    .dataframe thead th {\n",
       "        text-align: right;\n",
       "    }\n",
       "</style>\n",
       "<table border=\"1\" class=\"dataframe\">\n",
       "  <thead>\n",
       "    <tr style=\"text-align: right;\">\n",
       "      <th></th>\n",
       "      <th>review_id</th>\n",
       "      <th>business_id</th>\n",
       "      <th>stars_x</th>\n",
       "      <th>stars_y</th>\n",
       "      <th>date</th>\n",
       "      <th>city</th>\n",
       "      <th>text</th>\n",
       "      <th>categories</th>\n",
       "    </tr>\n",
       "  </thead>\n",
       "  <tbody>\n",
       "    <tr>\n",
       "      <th>0</th>\n",
       "      <td>JN0tmjiksWfr4i2NIFuPXw</td>\n",
       "      <td>pLZ9oZM8c6MNbRlg06lBPg</td>\n",
       "      <td>1</td>\n",
       "      <td>3.0</td>\n",
       "      <td>2016-08-03</td>\n",
       "      <td>Las Vegas</td>\n",
       "      <td>THEY SELL WRECKED VEHICLES! \\nI purchased a 20...</td>\n",
       "      <td>Auto Repair;Car Dealers;Automotive;Auto Parts ...</td>\n",
       "    </tr>\n",
       "    <tr>\n",
       "      <th>1</th>\n",
       "      <td>lFmz61DNRzBPnrwH_cF42g</td>\n",
       "      <td>J0KZR0DDnvj73D-xmbh4uA</td>\n",
       "      <td>4</td>\n",
       "      <td>4.0</td>\n",
       "      <td>2017-06-15</td>\n",
       "      <td>Las Vegas</td>\n",
       "      <td>I stopped in here recently as I had to buy a t...</td>\n",
       "      <td>Auto Parts &amp; Supplies;Auto Repair;Automotive</td>\n",
       "    </tr>\n",
       "    <tr>\n",
       "      <th>2</th>\n",
       "      <td>R9p3ug8zNPvawYX_jsO0UA</td>\n",
       "      <td>Tknj3u-3CZTI-q52saTAIA</td>\n",
       "      <td>1</td>\n",
       "      <td>1.0</td>\n",
       "      <td>2012-09-12</td>\n",
       "      <td>Toronto</td>\n",
       "      <td>If you want the \"I don't give a shit \" attitud...</td>\n",
       "      <td>Car Dealers;Auto Repair;Automotive</td>\n",
       "    </tr>\n",
       "    <tr>\n",
       "      <th>3</th>\n",
       "      <td>FMXER_6R6URYBpV6TYPn9A</td>\n",
       "      <td>rV1nkTx58v_q7YGDkGzfxQ</td>\n",
       "      <td>5</td>\n",
       "      <td>5.0</td>\n",
       "      <td>2016-06-10</td>\n",
       "      <td>Las Vegas</td>\n",
       "      <td>where to start...\\na few months ago I slammed....</td>\n",
       "      <td>Auto Repair;Automotive</td>\n",
       "    </tr>\n",
       "    <tr>\n",
       "      <th>4</th>\n",
       "      <td>bJN2ZPa0jF4xgR1gPKZP3A</td>\n",
       "      <td>hCXknMQalY1QQZrdZGuBHg</td>\n",
       "      <td>3</td>\n",
       "      <td>3.5</td>\n",
       "      <td>2017-01-24</td>\n",
       "      <td>Las Vegas</td>\n",
       "      <td>I have mixed feelings here. I recently purchas...</td>\n",
       "      <td>Car Dealers;Auto Repair;Automotive</td>\n",
       "    </tr>\n",
       "  </tbody>\n",
       "</table>\n",
       "</div>"
      ],
      "text/plain": [
       "                review_id             business_id  stars_x  stars_y  \\\n",
       "0  JN0tmjiksWfr4i2NIFuPXw  pLZ9oZM8c6MNbRlg06lBPg        1      3.0   \n",
       "1  lFmz61DNRzBPnrwH_cF42g  J0KZR0DDnvj73D-xmbh4uA        4      4.0   \n",
       "2  R9p3ug8zNPvawYX_jsO0UA  Tknj3u-3CZTI-q52saTAIA        1      1.0   \n",
       "3  FMXER_6R6URYBpV6TYPn9A  rV1nkTx58v_q7YGDkGzfxQ        5      5.0   \n",
       "4  bJN2ZPa0jF4xgR1gPKZP3A  hCXknMQalY1QQZrdZGuBHg        3      3.5   \n",
       "\n",
       "         date       city                                               text  \\\n",
       "0  2016-08-03  Las Vegas  THEY SELL WRECKED VEHICLES! \\nI purchased a 20...   \n",
       "1  2017-06-15  Las Vegas  I stopped in here recently as I had to buy a t...   \n",
       "2  2012-09-12    Toronto  If you want the \"I don't give a shit \" attitud...   \n",
       "3  2016-06-10  Las Vegas  where to start...\\na few months ago I slammed....   \n",
       "4  2017-01-24  Las Vegas  I have mixed feelings here. I recently purchas...   \n",
       "\n",
       "                                          categories  \n",
       "0  Auto Repair;Car Dealers;Automotive;Auto Parts ...  \n",
       "1       Auto Parts & Supplies;Auto Repair;Automotive  \n",
       "2                 Car Dealers;Auto Repair;Automotive  \n",
       "3                             Auto Repair;Automotive  \n",
       "4                 Car Dealers;Auto Repair;Automotive  "
      ]
     },
     "execution_count": 5,
     "metadata": {},
     "output_type": "execute_result"
    }
   ],
   "source": [
    "df = pd.read_csv(preprocessed_data_path + 'categories_30000/yelp_academic_dataset_review_Auto Repair.csv')\n",
    "df.head()"
   ]
  },
  {
   "cell_type": "code",
   "execution_count": 10,
   "metadata": {},
   "outputs": [],
   "source": [
    "# Processing Functions\n",
    "def identify_tokens(row):\n",
    "    review = row['text']\n",
    "    tokens = nltk.word_tokenize(review)\n",
    "    # taken only words (not punctuation)\n",
    "    # token_words = [re.sub(\"[^\\w\\s]\", \" \", w) for w in tokens]\n",
    "    token_words = [w for w in tokens if w.isalpha()]\n",
    "    return token_words\n",
    "\n",
    "stops = set(stopwords.words(\"english\"))                  \n",
    "\n",
    "def remove_stops(row):\n",
    "    my_list = row['words']\n",
    "    meaningful_words = [w for w in my_list if not w in stops and w != \" \"]\n",
    "    return (meaningful_words)\n",
    "\n",
    "stemming = PorterStemmer()\n",
    "\n",
    "def stem_list(row):\n",
    "    my_list = row['words_meaningful']\n",
    "    stemmed_list = [stemming.stem(word) for word in my_list]\n",
    "    return (stemmed_list)\n",
    "\n",
    "lemming = WordNetLemmatizer()\n",
    "\n",
    "def lem_list(row):\n",
    "    my_list = row['words_meaningful']\n",
    "    lemmed_list = [lemming.lemmatize(word) for word in my_list]\n",
    "    return (lemmed_list)\n",
    "\n",
    "def rejoin_words(row):\n",
    "    my_list = row['words_meaningful']\n",
    "    joined_words = ( \" \".join(my_list))\n",
    "    return joined_words"
   ]
  },
  {
   "cell_type": "code",
   "execution_count": 11,
   "metadata": {},
   "outputs": [],
   "source": [
    "def process(data_df):\n",
    "    data_df['text'] = data_df['text'].str.lower()\n",
    "    data_df['words'] = data_df.apply(identify_tokens, axis=1)\n",
    "    data_df['words_meaningful'] = data_df.apply(remove_stops, axis=1)\n",
    "    data_df['processed'] = data_df.apply(rejoin_words, axis=1)\n",
    "    return data_df"
   ]
  },
  {
   "cell_type": "code",
   "execution_count": 12,
   "metadata": {},
   "outputs": [],
   "source": [
    "df_processed = process(df)"
   ]
  },
  {
   "cell_type": "code",
   "execution_count": 13,
   "metadata": {},
   "outputs": [
    {
     "name": "stdout",
     "output_type": "stream",
     "text": [
      "There are 11664380 words in the combination of all review.\n"
     ]
    }
   ],
   "source": [
    "text = \" \".join(review for review in df['processed'])\n",
    "print (\"There are {} words in the combination of all review.\".format(len(text)))"
   ]
  },
  {
   "cell_type": "code",
   "execution_count": 14,
   "metadata": {},
   "outputs": [
    {
     "data": {
      "image/png": "[encoded data removed]",
      "text/plain": [
       "<Figure size 432x288 with 1 Axes>"
      ]
     },
     "metadata": {
      "needs_background": "light"
     },
     "output_type": "display_data"
    }
   ],
   "source": [
    "# Generate a word cloud image\n",
    "wordcloud = WordCloud(background_color=\"white\").generate(text)\n",
    "\n",
    "# Display the generated image:\n",
    "# the matplotlib way:\n",
    "plt.imshow(wordcloud, interpolation='bilinear')\n",
    "plt.axis(\"off\")\n",
    "plt.show()"
   ]
  },
  {
   "cell_type": "markdown",
   "metadata": {},
   "source": [
    "# LDA"
   ]
  },
  {
   "cell_type": "code",
   "execution_count": 16,
   "metadata": {},
   "outputs": [
    {
     "data": {
      "text/plain": [
       "<30000x16968 sparse matrix of type '<class 'numpy.int64'>'\n",
       "\twith 1210875 stored elements in Compressed Sparse Row format>"
      ]
     },
     "execution_count": 16,
     "metadata": {},
     "output_type": "execute_result"
    }
   ],
   "source": [
    "from sklearn.feature_extraction.text import CountVectorizer\n",
    "\n",
    "count_vect = CountVectorizer(max_df=0.8, min_df=2, stop_words='english')\n",
    "doc_term_matrix = count_vect.fit_transform(df['processed'].values.astype('U'))\n",
    "\n",
    "doc_term_matrix"
   ]
  },
  {
   "cell_type": "code",
   "execution_count": 18,
   "metadata": {},
   "outputs": [
    {
     "data": {
      "text/plain": [
       "LatentDirichletAllocation(batch_size=128, doc_topic_prior=None,\n",
       "                          evaluate_every=-1, learning_decay=0.7,\n",
       "                          learning_method='batch', learning_offset=10.0,\n",
       "                          max_doc_update_iter=100, max_iter=10,\n",
       "                          mean_change_tol=0.001, n_components=5, n_jobs=None,\n",
       "                          perp_tol=0.1, random_state=None,\n",
       "                          topic_word_prior=None, total_samples=1000000.0,\n",
       "                          verbose=0)"
      ]
     },
     "execution_count": 18,
     "metadata": {},
     "output_type": "execute_result"
    }
   ],
   "source": [
    "from sklearn.decomposition import LatentDirichletAllocation\n",
    "\n",
    "LDA = LatentDirichletAllocation(n_components=5)\n",
    "LDA.fit(doc_term_matrix)"
   ]
  },
  {
   "cell_type": "code",
   "execution_count": 19,
   "metadata": {},
   "outputs": [
    {
     "name": "stdout",
     "output_type": "stream",
     "text": [
      "Top 10 words for topic #0:\n",
      "['manager', 'time', 'price', 'deal', 'new', 'experience', 'vehicle', 'sales', 'dealership', 'car']\n",
      "\n",
      "\n",
      "Top 10 words for topic #1:\n",
      "['went', 'said', 'time', 'tires', 'told', 'tire', 'change', 'service', 'car', 'oil']\n",
      "\n",
      "\n",
      "Top 10 words for topic #2:\n",
      "['time', 'place', 'friendly', 'customer', 'honest', 'recommend', 'work', 'car', 'great', 'service']\n",
      "\n",
      "\n",
      "Top 10 words for topic #3:\n",
      "['thank', 'service', 'thanks', 'guys', 'dealership', 'audi', 'car', 'new', 'jeep', 'great']\n",
      "\n",
      "\n",
      "Top 10 words for topic #4:\n",
      "['time', 'problem', 'repair', 'called', 'said', 'took', 'told', 'work', 'shop', 'car']\n",
      "\n",
      "\n"
     ]
    }
   ],
   "source": [
    "for i,topic in enumerate(LDA.components_):\n",
    "    print(f'Top 10 words for topic #{i}:')\n",
    "    print([count_vect.get_feature_names()[i] for i in topic.argsort()[-10:]])\n",
    "    print('\\n')"
   ]
  },
  {
   "cell_type": "markdown",
   "metadata": {},
   "source": [
    "# NMF"
   ]
  },
  {
   "cell_type": "code",
   "execution_count": 21,
   "metadata": {},
   "outputs": [],
   "source": [
    "from sklearn.feature_extraction.text import TfidfVectorizer\n",
    "\n",
    "tfidf_vect = TfidfVectorizer(max_df=0.8, min_df=2, stop_words='english')\n",
    "doc_term_matrix = tfidf_vect.fit_transform(df['processed'].values.astype('U'))"
   ]
  },
  {
   "cell_type": "code",
   "execution_count": 22,
   "metadata": {},
   "outputs": [
    {
     "data": {
      "text/plain": [
       "NMF(alpha=0.0, beta_loss='frobenius', init=None, l1_ratio=0.0, max_iter=200,\n",
       "    n_components=5, random_state=None, shuffle=False, solver='cd', tol=0.0001,\n",
       "    verbose=0)"
      ]
     },
     "execution_count": 22,
     "metadata": {},
     "output_type": "execute_result"
    }
   ],
   "source": [
    "from sklearn.decomposition import NMF\n",
    "\n",
    "nmf = NMF(n_components=5)\n",
    "nmf.fit(doc_term_matrix)"
   ]
  },
  {
   "cell_type": "code",
   "execution_count": 23,
   "metadata": {},
   "outputs": [
    {
     "name": "stdout",
     "output_type": "stream",
     "text": [
      "Top 10 words for topic #0:\n",
      "['sales', 'called', 'went', 'vehicle', 'time', 'new', 'said', 'dealership', 'told', 'car']\n",
      "\n",
      "\n",
      "Top 10 words for topic #1:\n",
      "['definitely', 'excellent', 'helpful', 'experience', 'recommend', 'staff', 'friendly', 'customer', 'great', 'service']\n",
      "\n",
      "\n",
      "Top 10 words for topic #2:\n",
      "['minutes', 'service', 'hour', 'time', 'changed', 'filter', 'changes', 'appointment', 'change', 'oil']\n",
      "\n",
      "\n",
      "Top 10 words for topic #3:\n",
      "['repairs', 'recommend', 'mechanic', 'guys', 'place', 'repair', 'auto', 'honest', 'work', 'shop']\n",
      "\n",
      "\n",
      "Top 10 words for topic #4:\n",
      "['went', 'discount', 'needed', 'alignment', 'said', 'told', 'flat', 'new', 'tires', 'tire']\n",
      "\n",
      "\n"
     ]
    }
   ],
   "source": [
    "for i,topic in enumerate(nmf.components_):\n",
    "    print(f'Top 10 words for topic #{i}:')\n",
    "    print([tfidf_vect.get_feature_names()[i] for i in topic.argsort()[-10:]])\n",
    "    print('\\n')"
   ]
  },
  {
   "cell_type": "markdown",
   "metadata": {},
   "source": [
    "# Gensim LDA"
   ]
  },
  {
   "cell_type": "code",
   "execution_count": 55,
   "metadata": {},
   "outputs": [],
   "source": [
    "# Gensim\n",
    "import gensim\n",
    "import gensim.corpora as corpora\n",
    "from gensim.utils import simple_preprocess\n",
    "from gensim.models import CoherenceModel\n",
    "\n",
    "import pyLDAvis\n",
    "import pyLDAvis.gensim\n",
    "import matplotlib.pyplot as plt"
   ]
  },
  {
   "cell_type": "code",
   "execution_count": 29,
   "metadata": {},
   "outputs": [],
   "source": [
    "# Create Dictionary\n",
    "id2word = corpora.Dictionary(df['words_meaningful'])\n",
    "\n",
    "# Create Corpus\n",
    "texts = df['words_meaningful']\n",
    "\n",
    "# Term Document Frequency\n",
    "corpus = [id2word.doc2bow(text) for text in texts]"
   ]
  },
  {
   "cell_type": "code",
   "execution_count": 30,
   "metadata": {},
   "outputs": [
    {
     "data": {
      "text/plain": [
       "[[('absolutely', 1),\n",
       "  ('accident', 1),\n",
       "  ('advise', 1),\n",
       "  ('altima', 1),\n",
       "  ('another', 1),\n",
       "  ('avoid', 1),\n",
       "  ('began', 1),\n",
       "  ('bit', 1),\n",
       "  ('bought', 1),\n",
       "  ('brakes', 1),\n",
       "  ('car', 3),\n",
       "  ('caused', 1),\n",
       "  ('charged', 1),\n",
       "  ('clue', 1),\n",
       "  ('constant', 1),\n",
       "  ('consumer', 1),\n",
       "  ('damage', 1),\n",
       "  ('dealership', 2),\n",
       "  ('decided', 1),\n",
       "  ('drove', 1),\n",
       "  ('every', 1),\n",
       "  ('except', 1),\n",
       "  ('exhaust', 1),\n",
       "  ('finally', 1),\n",
       "  ('found', 1),\n",
       "  ('frame', 1),\n",
       "  ('go', 1),\n",
       "  ('high', 1),\n",
       "  ('immediately', 1),\n",
       "  ('involved', 1),\n",
       "  ('knowing', 1),\n",
       "  ('major', 1),\n",
       "  ('make', 1),\n",
       "  ('manufacturer', 1),\n",
       "  ('means', 1),\n",
       "  ('miles', 1),\n",
       "  ('months', 2),\n",
       "  ('much', 1),\n",
       "  ('nissan', 3),\n",
       "  ('planet', 2),\n",
       "  ('pocket', 1),\n",
       "  ('possible', 1),\n",
       "  ('powertrain', 1),\n",
       "  ('prior', 1),\n",
       "  ('problems', 1),\n",
       "  ('process', 1),\n",
       "  ('provided', 1),\n",
       "  ('purchased', 1),\n",
       "  ('purchasing', 1),\n",
       "  ('repairs', 2),\n",
       "  ('reputable', 1),\n",
       "  ('savvy', 1),\n",
       "  ('sell', 1),\n",
       "  ('selling', 1),\n",
       "  ('sick', 1),\n",
       "  ('six', 1),\n",
       "  ('sold', 1),\n",
       "  ('someplace', 1),\n",
       "  ('somewhat', 1),\n",
       "  ('speeds', 1),\n",
       "  ('still', 1),\n",
       "  ('suspension', 1),\n",
       "  ('system', 1),\n",
       "  ('trade', 2),\n",
       "  ('two', 1),\n",
       "  ('unfortunately', 1),\n",
       "  ('unsteady', 1),\n",
       "  ('vehicle', 2),\n",
       "  ('vehicles', 1),\n",
       "  ('warranty', 1),\n",
       "  ('would', 1),\n",
       "  ('wrecked', 1),\n",
       "  ('years', 1)]]"
      ]
     },
     "execution_count": 30,
     "metadata": {},
     "output_type": "execute_result"
    }
   ],
   "source": [
    "[[(id2word[id], freq) for id, freq in cp] for cp in corpus[:1]]"
   ]
  },
  {
   "cell_type": "code",
   "execution_count": 31,
   "metadata": {},
   "outputs": [],
   "source": [
    "# Build LDA model\n",
    "lda_model = gensim.models.ldamodel.LdaModel(corpus=corpus,\n",
    "                                           id2word=id2word,\n",
    "                                           num_topics=5, \n",
    "                                           update_every=1,\n",
    "                                           chunksize=100,\n",
    "                                           passes=10,\n",
    "                                           alpha='auto',\n",
    "                                           per_word_topics=True)"
   ]
  },
  {
   "cell_type": "code",
   "execution_count": 52,
   "metadata": {},
   "outputs": [
    {
     "name": "stdout",
     "output_type": "stream",
     "text": [
      "Top words for topic #0:\n",
      "['service', 'great', 'work', 'recommend', 'shop', 'always', 'guys', 'honest', 'friendly', 'best']\n",
      "\n",
      "\n",
      "Top words for topic #1:\n",
      "['oil', 'change', 'air', 'paint', 'changes', 'filter', 'damage', 'bumper', 'coupon', 'power']\n",
      "\n",
      "\n",
      "Top words for topic #2:\n",
      "['told', 'said', 'tire', 'took', 'needed', 'tires', 'problem', 'truck', 'fix', 'new']\n",
      "\n",
      "\n",
      "Top words for topic #3:\n",
      "['dealership', 'us', 'vehicle', 'deal', 'sales', 'new', 'experience', 'wanted', 'price', 'buy']\n",
      "\n",
      "\n",
      "Top words for topic #4:\n",
      "['car', 'would', 'get', 'back', 'time', 'service', 'one', 'go', 'even', 'could']\n",
      "\n",
      "\n"
     ]
    }
   ],
   "source": [
    "for (i,topic) in enumerate(lda_model.print_topics()):\n",
    "    print(f'Top words for topic #{i}:')\n",
    "    print([i for i in topic[1].split('\"') if str(i).isalpha()])\n",
    "    print('\\n')"
   ]
  },
  {
   "cell_type": "code",
   "execution_count": 37,
   "metadata": {},
   "outputs": [
    {
     "name": "stdout",
     "output_type": "stream",
     "text": [
      "\n",
      "Perplexity:  -7.547943089602035\n",
      "\n",
      "Coherence Score:  0.4047682781189306\n"
     ]
    }
   ],
   "source": [
    "# Compute Perplexity\n",
    "print('\\nPerplexity: ', lda_model.log_perplexity(corpus))  # a measure of how good the model is. lower the better.\n",
    "\n",
    "# Compute Coherence Score\n",
    "coherence_model_lda = CoherenceModel(model=lda_model, texts=df['words_meaningful'], dictionary=id2word, \n",
    "                                     coherence='c_v')\n",
    "coherence_lda = coherence_model_lda.get_coherence()\n",
    "print('\\nCoherence Score: ', coherence_lda)"
   ]
  },
  {
   "cell_type": "code",
   "execution_count": 57,
   "metadata": {},
   "outputs": [],
   "source": [
    "#pyLDAvis.enable_notebook()\n",
    "#vis = pyLDAvis.gensim.prepare(lda_model, corpus, id2word)\n",
    "#vis"
   ]
  },
  {
   "cell_type": "markdown",
   "metadata": {},
   "source": [
    "# Mallet"
   ]
  },
  {
   "cell_type": "code",
   "execution_count": 2,
   "metadata": {},
   "outputs": [
    {
     "ename": "NameError",
     "evalue": "name 'gensim' is not defined",
     "output_type": "error",
     "traceback": [
      "\u001b[0;31m---------------------------------------------------------------------------\u001b[0m",
      "\u001b[0;31mNameError\u001b[0m                                 Traceback (most recent call last)",
      "\u001b[0;32m<ipython-input-2-b3f92ef07bea>\u001b[0m in \u001b[0;36m<module>\u001b[0;34m\u001b[0m\n\u001b[1;32m      1\u001b[0m \u001b[0;31m# Download File: http://mallet.cs.umass.edu/dist/mallet-2.0.8.zip\u001b[0m\u001b[0;34m\u001b[0m\u001b[0;34m\u001b[0m\u001b[0;34m\u001b[0m\u001b[0m\n\u001b[1;32m      2\u001b[0m \u001b[0mmallet_path\u001b[0m \u001b[0;34m=\u001b[0m \u001b[0;34m'home/arthur/BNPP_Sentiment_Analysis/mallet-2.0.8/bin/mallet'\u001b[0m\u001b[0;34m\u001b[0m\u001b[0;34m\u001b[0m\u001b[0m\n\u001b[0;32m----> 3\u001b[0;31m \u001b[0mldamallet\u001b[0m \u001b[0;34m=\u001b[0m \u001b[0mgensim\u001b[0m\u001b[0;34m.\u001b[0m\u001b[0mmodels\u001b[0m\u001b[0;34m.\u001b[0m\u001b[0mwrappers\u001b[0m\u001b[0;34m.\u001b[0m\u001b[0mLdaMallet\u001b[0m\u001b[0;34m(\u001b[0m\u001b[0mmallet_path\u001b[0m\u001b[0;34m,\u001b[0m \u001b[0mcorpus\u001b[0m\u001b[0;34m=\u001b[0m\u001b[0mcorpus\u001b[0m\u001b[0;34m,\u001b[0m \u001b[0mnum_topics\u001b[0m\u001b[0;34m=\u001b[0m\u001b[0;36m5\u001b[0m\u001b[0;34m,\u001b[0m \u001b[0mid2word\u001b[0m\u001b[0;34m=\u001b[0m\u001b[0mid2word\u001b[0m\u001b[0;34m)\u001b[0m\u001b[0;34m\u001b[0m\u001b[0;34m\u001b[0m\u001b[0m\n\u001b[0m",
      "\u001b[0;31mNameError\u001b[0m: name 'gensim' is not defined"
     ]
    }
   ],
   "source": [
    "# Download File: http://mallet.cs.umass.edu/dist/mallet-2.0.8.zip\n",
    "mallet_path = 'home/arthur/BNPP_Sentiment_Analysis/mallet-2.0.8/bin/mallet' \n",
    "ldamallet = gensim.models.wrappers.LdaMallet(mallet_path, corpus=corpus, num_topics=5, id2word=id2word)"
   ]
  },
  {
   "cell_type": "code",
   "execution_count": null,
   "metadata": {},
   "outputs": [],
   "source": []
  }
 ],
 "metadata": {
  "kernelspec": {
   "display_name": "Python 3",
   "language": "python",
   "name": "python3"
  },
  "language_info": {
   "codemirror_mode": {
    "name": "ipython",
    "version": 3
   },
   "file_extension": ".py",
   "mimetype": "text/x-python",
   "name": "python",
   "nbconvert_exporter": "python",
   "pygments_lexer": "ipython3",
   "version": "3.6.9"
  }
 },
 "nbformat": 4,
 "nbformat_minor": 2
}
