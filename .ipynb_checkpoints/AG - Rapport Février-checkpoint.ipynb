{
 "cells": [
  {
   "cell_type": "code",
   "execution_count": 1,
   "metadata": {},
   "outputs": [],
   "source": [
    "import pandas as pd\n",
    "import matplotlib.pyplot as plt\n",
    "\n",
    "import re\n",
    "\n",
    "import nltk\n",
    "from nltk.tokenize import word_tokenize\n",
    "from nltk.corpus import stopwords\n",
    "from nltk.stem import PorterStemmer\n",
    "from nltk.stem.wordnet import WordNetLemmatizer\n",
    "from nltk.probability import FreqDist\n",
    "\n",
    "from data_preprocesser import preprocessed_data_path\n",
    "\n",
    "from wordcloud import WordCloud, STOPWORDS, ImageColorGenerator"
   ]
  },
  {
   "cell_type": "code",
   "execution_count": 2,
   "metadata": {},
   "outputs": [],
   "source": [
    "# Processing Functions\n",
    "def identify_tokens(row):\n",
    "    review = row['text']\n",
    "    tokens = nltk.word_tokenize(review)\n",
    "    # taken only words (not punctuation)\n",
    "    # token_words = [re.sub(\"[^\\w\\s]\", \" \", w) for w in tokens]\n",
    "    token_words = [w for w in tokens if w.isalpha()]\n",
    "    return token_words\n",
    "\n",
    "stops = set(stopwords.words(\"english\"))                  \n",
    "\n",
    "def remove_stops(row):\n",
    "    my_list = row['words']\n",
    "    meaningful_words = [w for w in my_list if not w in stops and w != \" \"]\n",
    "    return (meaningful_words)\n",
    "\n",
    "stemming = PorterStemmer()\n",
    "\n",
    "def stem_list(row):\n",
    "    my_list = row['words_meaningful']\n",
    "    stemmed_list = [stemming.stem(word) for word in my_list]\n",
    "    return (stemmed_list)\n",
    "\n",
    "lemming = WordNetLemmatizer()\n",
    "\n",
    "def lem_list(row):\n",
    "    my_list = row['words_non_stop']\n",
    "    lemmed_list = [lemming.lemmatize(word) for word in my_list]\n",
    "    return (lemmed_list)\n",
    "\n",
    "def rejoin_words(row):\n",
    "    my_list = row['words_meaningful']\n",
    "    joined_words = ( \" \".join(my_list))\n",
    "    return joined_words"
   ]
  },
  {
   "cell_type": "code",
   "execution_count": 3,
   "metadata": {},
   "outputs": [],
   "source": [
    "def process(data_df):\n",
    "    data_df['text'] = data_df['text'].str.lower()\n",
    "    data_df['words'] = data_df.apply(identify_tokens, axis=1)\n",
    "    data_df['words_non_stop'] = data_df.apply(remove_stops, axis=1)\n",
    "    data_df['words_meaningful'] = data_df.apply(lem_list, axis=1)\n",
    "    data_df['processed'] = data_df.apply(rejoin_words, axis=1)\n",
    "    return data_df"
   ]
  },
  {
   "cell_type": "code",
   "execution_count": 20,
   "metadata": {},
   "outputs": [],
   "source": [
    "df_auto = pd.read_csv(preprocessed_data_path + 'categories_30000/yelp_academic_dataset_review_Auto Repair.csv')\n",
    "df_processed_auto = process(df_auto)"
   ]
  },
  {
   "cell_type": "code",
   "execution_count": 21,
   "metadata": {},
   "outputs": [],
   "source": [
    "df_hair = pd.read_csv(preprocessed_data_path + 'categories_30000/yelp_academic_dataset_review_Hair Salons.csv')\n",
    "df_processed_hair = process(df_hair)"
   ]
  },
  {
   "cell_type": "code",
   "execution_count": null,
   "metadata": {},
   "outputs": [],
   "source": [
    "df_health = pd.read_csv(preprocessed_data_path + 'categories_30000/yelp_academic_dataset_review_Health & Medical.csv')\n",
    "df_processed_health = process(df_health)"
   ]
  },
  {
   "cell_type": "code",
   "execution_count": null,
   "metadata": {},
   "outputs": [],
   "source": [
    "df_restaurant = pd.read_csv(preprocessed_data_path + 'categories_30000/yelp_academic_dataset_review_Restaurants.csv')\n",
    "df_processed_restaurant = process(df_restaurant)"
   ]
  },
  {
   "cell_type": "code",
   "execution_count": 19,
   "metadata": {},
   "outputs": [],
   "source": [
    "dataframes = {\n",
    "    \"Auto Repair\" : df_auto,\n",
    "    \"Hair Salons\" : df_hair,\n",
    "    \"Health & Medical\" : df_health,\n",
    "    \"Restaurants\" : df_restaurant\n",
    "}"
   ]
  },
  {
   "cell_type": "code",
   "execution_count": null,
   "metadata": {},
   "outputs": [],
   "source": [
    "for key, df in dataframes.items():\n",
    "    text = \" \".join(review for review in df['processed'])\n",
    "    print (\"{} : There are {} words in the combination of all review\".format(key, len(text)))"
   ]
  }
 ],
 "metadata": {
  "kernelspec": {
   "display_name": "Python 3",
   "language": "python",
   "name": "python3"
  },
  "language_info": {
   "codemirror_mode": {
    "name": "ipython",
    "version": 3
   },
   "file_extension": ".py",
   "mimetype": "text/x-python",
   "name": "python",
   "nbconvert_exporter": "python",
   "pygments_lexer": "ipython3",
   "version": "3.6.9"
  }
 },
 "nbformat": 4,
 "nbformat_minor": 2
}
