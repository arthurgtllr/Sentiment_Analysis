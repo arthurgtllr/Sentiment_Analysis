{
 "cells": [
  {
   "cell_type": "code",
   "execution_count": 90,
   "metadata": {},
   "outputs": [],
   "source": [
    "import pandas as pd\n",
    "import matplotlib.pyplot as plt\n",
    "\n",
    "import re\n",
    "\n",
    "import nltk\n",
    "from nltk.tokenize import word_tokenize\n",
    "from nltk.corpus import stopwords\n",
    "from nltk.stem import PorterStemmer\n",
    "from nltk.stem.wordnet import WordNetLemmatizer\n",
    "from nltk.probability import FreqDist"
   ]
  },
  {
   "cell_type": "code",
   "execution_count": 91,
   "metadata": {},
   "outputs": [
    {
     "name": "stdout",
     "output_type": "stream",
     "text": [
      "{\"review_id\":\"Q1sbwvVQXV2734tPgoKj4Q\",\"user_id\":\"hG7b0MtEbXx5QzbzE6C_VA\",\"business_id\":\"ujmEBvifdJM6h6RLv4wQIg\",\"stars\":1.0,\"useful\":6,\"funny\":1,\"cool\":0,\"text\":\"Total bill for this horrible service? Over $8Gs. These crooks actually had the nerve to charge us $69 for 3 pills. I checked online the pills can be had for 19 cents EACH! Avoid Hospital ERs at all costs.\",\"date\":\"2013-05-07 04:34:36\"}\n",
      "\n"
     ]
    }
   ],
   "source": [
    "data_path = './data_yelp/raw/json/yelp_academic_dataset_review.json'\n",
    "# Reading the first line of the review dataset json\n",
    "with open(data_path) as f:\n",
    "    first_line = f.readline()\n",
    "    print(first_line)"
   ]
  },
  {
   "cell_type": "code",
   "execution_count": 92,
   "metadata": {},
   "outputs": [],
   "source": [
    "from data_preprocesser import split_raw_csv_review_file\n",
    "\n",
    "#split_raw_csv_review_file(lines_per_file=100000, max_files=20 , join_business=True)"
   ]
  },
  {
   "cell_type": "code",
   "execution_count": 93,
   "metadata": {},
   "outputs": [],
   "source": [
    "from data_preprocesser import preprocessed_data_path\n",
    "import ast\n",
    "from collections import Counter\n",
    "\n",
    "def get_categories_count_file(filepath):\n",
    "    df = pd.read_csv(filepath)\n",
    "    test = []\n",
    "    for x in df['categories']:\n",
    "        try:\n",
    "            x = x.replace(';',',')\n",
    "        except:\n",
    "            test.append('')\n",
    "        else:\n",
    "            test.append(x)\n",
    "    df['categories'] = test\n",
    "    slist = [st for row in df['categories'] for st in row.split(',') if len(row.split(','))<=5]\n",
    "    return Counter(slist)\n",
    "\n",
    "def get_categories_count():\n",
    "    counter = Counter()\n",
    "    for i in range(20):\n",
    "        filepath = preprocessed_data_path + 'yelp_academic_dataset_review_split/yelp_academic_dataset_review_{}.csv'.format((i+1)*100000)\n",
    "        counter = counter + get_categories_count_file(filepath)\n",
    "    print(counter.most_common(100))"
   ]
  },
  {
   "cell_type": "code",
   "execution_count": 94,
   "metadata": {},
   "outputs": [
    {
     "name": "stderr",
     "output_type": "stream",
     "text": [
      "/home/arthur/anaconda3/envs/py36/lib/python3.6/site-packages/IPython/core/interactiveshell.py:3326: DtypeWarning: Columns (0) have mixed types. Specify dtype option on import or set low_memory=False.\n",
      "  exec(code_obj, self.user_global_ns, self.user_ns)\n"
     ]
    },
    {
     "name": "stdout",
     "output_type": "stream",
     "text": [
      "[('Restaurants', 869683), ('Food', 189522), ('Nightlife', 121312), ('Bars', 103647), ('American (Traditional)', 100787), ('Breakfast & Brunch', 98606), ('Mexican', 92402), ('American (New)', 91091), ('Beauty & Spas', 82765), ('Pizza', 80697), ('Italian', 79590), ('Shopping', 79182), ('Sandwiches', 70796), ('Japanese', 67635), ('Event Planning & Services', 64376), ('Burgers', 61341), ('Hotels & Travel', 61205), ('Chinese', 61126), ('Automotive', 60637), ('Arts & Entertainment', 60435), ('Sushi Bars', 58058), ('Seafood', 56797), ('Home Services', 54164), ('Coffee & Tea', 53636), ('Fast Food', 48053), ('Health & Medical', 46333), ('Steakhouses', 41854), ('Hotels', 39001), ('Asian Fusion', 38580), ('Active Life', 34623), ('Desserts', 34121), ('Auto Repair', 33447), ('Thai', 33201), ('Local Services', 33178), ('Buffets', 31160), ('Barbeque', 31061), ('Salad', 30957), ('Nail Salons', 30681), ('Bakeries', 29117), ('Cafes', 27635), ('Mediterranean', 26584), ('Hair Salons', 24945), ('Ice Cream & Frozen Yogurt', 23661), ('Diners', 21990), ('Vietnamese', 21561), ('Vegetarian', 20596), ('French', 20089), ('Pets', 19796), ('Indian', 19682), ('Casinos', 18629), ('Fashion', 17823), ('Chicken Wings', 17492), ('Korean', 17439), ('Specialty Food', 16471), ('Car Dealers', 16320), ('Performing Arts', 16012), ('Greek', 15892), ('Doctors', 15709), ('Hair Removal', 15644), ('Delis', 15430), ('Real Estate', 14865), ('Vegan', 13688), ('Pet Services', 13538), ('Canadian (New)', 13409), ('Oil Change Stations', 13383), ('Lounges', 13179), ('Grocery', 13055), ('Auto Parts & Supplies', 12770), ('Middle Eastern', 12450), ('Gluten-Free', 12402), ('Noodles', 12385), ('Pubs', 12369), ('Day Spas', 12195), ('Caterers', 12126), ('Soup', 12122), ('Skin Care', 11593), ('Southern', 11320), ('Fitness & Instruction', 11318), ('Tires', 11221), ('Home & Garden', 11042), ('Venues & Event Spaces', 11037), ('Juice Bars & Smoothies', 10996), ('Dentists', 10868), ('Sports Bars', 10742), ('Dance Clubs', 10741), ('Waxing', 10042), ('Massage', 9790), ('Professional Services', 9672), ('Latin American', 9262), ('Tex-Mex', 9188), ('Tapas/Small Plates', 8787), ('Ramen', 8430), ('Barbers', 8375), ('Donuts', 8368), ('Gastropubs', 8338), ('Pet Groomers', 8253), ('General Dentistry', 8213), ('Hawaiian', 7916), ('Apartments', 7890), ('Hot Dogs', 7884)]\n"
     ]
    }
   ],
   "source": [
    "get_categories_count()"
   ]
  },
  {
   "cell_type": "code",
   "execution_count": 95,
   "metadata": {},
   "outputs": [],
   "source": [
    "categories = ['Restaurants', 'Health & Medical', 'Hair Salons', 'Auto Repair']"
   ]
  },
  {
   "cell_type": "code",
   "execution_count": 97,
   "metadata": {},
   "outputs": [
    {
     "name": "stdout",
     "output_type": "stream",
     "text": [
      "File 0\n",
      "File 1\n",
      "File 2\n",
      "File 3\n",
      "File 4\n",
      "File 5\n",
      "File 6\n",
      "File 7\n",
      "File 8\n",
      "File 9\n",
      "File 10\n",
      "File 11\n",
      "File 12\n",
      "File 13\n",
      "File 14\n",
      "File 15\n",
      "File 16\n",
      "File 17\n",
      "File 18\n",
      "File 19\n"
     ]
    }
   ],
   "source": [
    "from data_preprocesser import create_file\n",
    "\n",
    "business_types = {\n",
    "    \"Restaurants\" : pd.DataFrame(), \n",
    "    \"Health & Medical\" : pd.DataFrame(), \n",
    "    \"Hair Salons\" : pd.DataFrame(), \n",
    "    \"Auto Repair\" : pd.DataFrame()\n",
    "}\n",
    "\n",
    "threshold = 30000\n",
    "create_file(preprocessed_data_path + 'categories_{}/'.format(threshold))\n",
    "\n",
    "for i in range(20):\n",
    "    print(\"File \" +str(i))\n",
    "    filepath = preprocessed_data_path + 'yelp_academic_dataset_review_split/yelp_academic_dataset_review_{}.csv'.format((i+1)*100000)\n",
    "    df = pd.read_csv(filepath, index_col=[0])\n",
    "    business_types_list = list(business_types.keys())\n",
    "    for key in business_types_list:\n",
    "        if business_types[key].shape[0] < threshold:\n",
    "            other_keys = [x for x in business_types_list if x != key]\n",
    "            filter_func = lambda s: key in s and not any(x in s for x in other_keys)\n",
    "            df_temp = df\n",
    "            df_temp['test'] = df_temp['categories'].apply(filter_func)\n",
    "            df_temp = df_temp[df_temp['test']]\n",
    "            df_temp.drop(columns=['test'], inplace=True)\n",
    "            business_types[key] = pd.concat([business_types[key], df_temp], ignore_index = True)\n",
    "\n",
    "for key in business_types_list:\n",
    "    business_types[key] = business_types[key].head(threshold)\n",
    "    business_types[key].to_csv(preprocessed_data_path + \n",
    "                               'categories_{}/yelp_academic_dataset_review_{}.csv'\n",
    "                               .format(threshold, key), \n",
    "                               index=False\n",
    "                              )\n",
    "    \n"
   ]
  }
 ],
 "metadata": {
  "kernelspec": {
   "display_name": "Python 3",
   "language": "python",
   "name": "python3"
  },
  "language_info": {
   "codemirror_mode": {
    "name": "ipython",
    "version": 3
   },
   "file_extension": ".py",
   "mimetype": "text/x-python",
   "name": "python",
   "nbconvert_exporter": "python",
   "pygments_lexer": "ipython3",
   "version": "3.6.9"
  }
 },
 "nbformat": 4,
 "nbformat_minor": 2
}
